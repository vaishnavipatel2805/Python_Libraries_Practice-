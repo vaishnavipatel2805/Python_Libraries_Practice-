{
 "cells": [
  {
   "cell_type": "markdown",
   "id": "aa5c75b8-0a7a-4fb5-acde-1bd418cd4611",
   "metadata": {},
   "source": [
    "#### NumPy Array Methods:-\n",
    "1. round()\n",
    "2. min()/max()\n",
    "3. mean()/median()/mode()\n",
    "3.var()/std()\n",
    "4. log()/exp()\n",
    "5. dot()/transpose()\n"
   ]
  },
  {
   "cell_type": "code",
   "execution_count": 2,
   "id": "2dad9522-8f5f-4e40-ac15-16e99f1816f8",
   "metadata": {},
   "outputs": [],
   "source": [
    "import numpy as np"
   ]
  },
  {
   "cell_type": "code",
   "execution_count": 5,
   "id": "4a757fbe-75cd-4d54-917a-edb4881c0a8a",
   "metadata": {},
   "outputs": [
    {
     "data": {
      "text/plain": [
       "array([[54., 75.],\n",
       "       [28.,  9.],\n",
       "       [11., 17.],\n",
       "       [74., 73.],\n",
       "       [68., 42.]])"
      ]
     },
     "execution_count": 5,
     "metadata": {},
     "output_type": "execute_result"
    }
   ],
   "source": [
    "arr = (np.random.random(10).reshape(5,2))*100\n",
    "arr.round()"
   ]
  },
  {
   "cell_type": "code",
   "execution_count": 9,
   "id": "a2c67507-d7a8-4995-8534-ba9e61dc9318",
   "metadata": {},
   "outputs": [
    {
     "data": {
      "text/plain": [
       "array([[53, 74],\n",
       "       [28,  9],\n",
       "       [11, 17],\n",
       "       [74, 72],\n",
       "       [67, 42]])"
      ]
     },
     "execution_count": 9,
     "metadata": {},
     "output_type": "execute_result"
    }
   ],
   "source": [
    "arr = arr.round(2).astype(int)\n",
    "arr"
   ]
  },
  {
   "cell_type": "code",
   "execution_count": 10,
   "id": "c31b65ad-8798-4132-9dcb-ab630b582f46",
   "metadata": {},
   "outputs": [
    {
     "data": {
      "text/plain": [
       "np.int64(74)"
      ]
     },
     "execution_count": 10,
     "metadata": {},
     "output_type": "execute_result"
    }
   ],
   "source": [
    "arr.max()"
   ]
  },
  {
   "cell_type": "code",
   "execution_count": 28,
   "id": "7bd6beaa-4d9c-44f6-a6aa-e872bae10136",
   "metadata": {},
   "outputs": [
    {
     "data": {
      "text/plain": [
       "np.int64(74)"
      ]
     },
     "execution_count": 28,
     "metadata": {},
     "output_type": "execute_result"
    }
   ],
   "source": [
    "np.max(arr)"
   ]
  },
  {
   "cell_type": "code",
   "execution_count": 11,
   "id": "19ff9e24-177c-45f2-af5b-8a8706689299",
   "metadata": {},
   "outputs": [
    {
     "data": {
      "text/plain": [
       "74"
      ]
     },
     "execution_count": 11,
     "metadata": {},
     "output_type": "execute_result"
    }
   ],
   "source": [
    "int(arr.max())"
   ]
  },
  {
   "cell_type": "code",
   "execution_count": 12,
   "id": "1846163b-cb3c-4fb1-a480-131fcc4b7fb7",
   "metadata": {},
   "outputs": [
    {
     "data": {
      "text/plain": [
       "74"
      ]
     },
     "execution_count": 12,
     "metadata": {},
     "output_type": "execute_result"
    }
   ],
   "source": [
    "arr.max().item()"
   ]
  },
  {
   "cell_type": "code",
   "execution_count": 19,
   "id": "dbb43bbc-68da-402b-b7cb-8dc602bd7a20",
   "metadata": {},
   "outputs": [
    {
     "data": {
      "text/plain": [
       "array([[53, 74],\n",
       "       [28,  9],\n",
       "       [11, 17],\n",
       "       [74, 72],\n",
       "       [67, 42]])"
      ]
     },
     "execution_count": 19,
     "metadata": {},
     "output_type": "execute_result"
    }
   ],
   "source": [
    "arr"
   ]
  },
  {
   "cell_type": "code",
   "execution_count": 22,
   "id": "6133ec01-cd5f-47e9-b92a-63b8bad15e93",
   "metadata": {},
   "outputs": [
    {
     "data": {
      "text/plain": [
       "array([74, 28, 17, 74, 67])"
      ]
     },
     "execution_count": 22,
     "metadata": {},
     "output_type": "execute_result"
    }
   ],
   "source": [
    "arr.max(axis = 1) #row wise max element"
   ]
  },
  {
   "cell_type": "code",
   "execution_count": 30,
   "id": "38348de3-16f9-49d4-9f27-f620813f9b83",
   "metadata": {},
   "outputs": [
    {
     "data": {
      "text/plain": [
       "array([74, 74])"
      ]
     },
     "execution_count": 30,
     "metadata": {},
     "output_type": "execute_result"
    }
   ],
   "source": [
    "np.max(arr, axis = 0)"
   ]
  },
  {
   "cell_type": "code",
   "execution_count": 14,
   "id": "a72c6ecb-c6ca-4c0f-9064-01b5ab86c0db",
   "metadata": {},
   "outputs": [
    {
     "data": {
      "text/plain": [
       "9"
      ]
     },
     "execution_count": 14,
     "metadata": {},
     "output_type": "execute_result"
    }
   ],
   "source": [
    "arr.min().item()"
   ]
  },
  {
   "cell_type": "code",
   "execution_count": 23,
   "id": "ed06d8f1-6940-4da6-9731-3056c914ad51",
   "metadata": {},
   "outputs": [
    {
     "data": {
      "text/plain": [
       "array([11,  9])"
      ]
     },
     "execution_count": 23,
     "metadata": {},
     "output_type": "execute_result"
    }
   ],
   "source": [
    "arr.min(axis=0) ## column wise min element"
   ]
  },
  {
   "cell_type": "code",
   "execution_count": 24,
   "id": "b4d61df8-16c4-4fb4-969a-2bb644410d4b",
   "metadata": {},
   "outputs": [
    {
     "data": {
      "text/plain": [
       "25.47959968288356"
      ]
     },
     "execution_count": 24,
     "metadata": {},
     "output_type": "execute_result"
    }
   ],
   "source": [
    "arr.std().item()"
   ]
  },
  {
   "cell_type": "code",
   "execution_count": 17,
   "id": "40fdaa5c-2f87-49f9-82aa-40ac82cfb0d5",
   "metadata": {},
   "outputs": [
    {
     "data": {
      "text/plain": [
       "44.7"
      ]
     },
     "execution_count": 17,
     "metadata": {},
     "output_type": "execute_result"
    }
   ],
   "source": [
    "arr.mean().item()"
   ]
  },
  {
   "cell_type": "code",
   "execution_count": 25,
   "id": "4d14d9ae-659c-41b6-a0fc-abff56886d85",
   "metadata": {},
   "outputs": [
    {
     "data": {
      "text/plain": [
       "array([110.25,  90.25,   9.  ,   1.  , 156.25])"
      ]
     },
     "execution_count": 25,
     "metadata": {},
     "output_type": "execute_result"
    }
   ],
   "source": [
    "arr.var(axis=1)"
   ]
  },
  {
   "cell_type": "code",
   "execution_count": 27,
   "id": "7fff37da-1258-49d8-9607-31c07dfd4fe9",
   "metadata": {},
   "outputs": [
    {
     "data": {
      "text/plain": [
       "array([[3.97029191, 4.30406509],\n",
       "       [3.33220451, 2.19722458],\n",
       "       [2.39789527, 2.83321334],\n",
       "       [4.30406509, 4.27666612],\n",
       "       [4.20469262, 3.73766962]])"
      ]
     },
     "execution_count": 27,
     "metadata": {},
     "output_type": "execute_result"
    }
   ],
   "source": [
    "np.log(arr)"
   ]
  },
  {
   "cell_type": "markdown",
   "id": "5a73841b-71e9-4502-b992-e47025546597",
   "metadata": {},
   "source": [
    "#### looping on arrays:-"
   ]
  },
  {
   "cell_type": "code",
   "execution_count": 36,
   "id": "42a0f1ed-de04-4e92-9b62-41b2f0735077",
   "metadata": {},
   "outputs": [
    {
     "data": {
      "text/plain": [
       "array([2., 3., 4., 5., 6.])"
      ]
     },
     "execution_count": 36,
     "metadata": {},
     "output_type": "execute_result"
    }
   ],
   "source": [
    "arr1 = np.linspace(2,6,5)\n",
    "arr1"
   ]
  },
  {
   "cell_type": "code",
   "execution_count": 37,
   "id": "8b0fdd6b-12d3-4862-b3d3-3f7c60140793",
   "metadata": {},
   "outputs": [
    {
     "name": "stdout",
     "output_type": "stream",
     "text": [
      "2.0\n",
      "3.0\n",
      "4.0\n",
      "5.0\n",
      "6.0\n"
     ]
    }
   ],
   "source": [
    "for i in arr1:\n",
    "    print(i)"
   ]
  },
  {
   "cell_type": "code",
   "execution_count": 32,
   "id": "fad7503a-a817-4034-b90a-c27441e182ad",
   "metadata": {},
   "outputs": [
    {
     "data": {
      "text/plain": [
       "array([[53, 74],\n",
       "       [28,  9],\n",
       "       [11, 17],\n",
       "       [74, 72],\n",
       "       [67, 42]])"
      ]
     },
     "execution_count": 32,
     "metadata": {},
     "output_type": "execute_result"
    }
   ],
   "source": [
    "arr"
   ]
  },
  {
   "cell_type": "code",
   "execution_count": 31,
   "id": "f1d51eef-078f-4bff-a9b7-a52548b212e8",
   "metadata": {},
   "outputs": [
    {
     "name": "stdout",
     "output_type": "stream",
     "text": [
      "[53 74]\n",
      "[28  9]\n",
      "[11 17]\n",
      "[74 72]\n",
      "[67 42]\n"
     ]
    }
   ],
   "source": [
    "for i in arr:\n",
    "    print(i)"
   ]
  },
  {
   "cell_type": "code",
   "execution_count": 40,
   "id": "cd9c34a7-ef21-4c86-87b2-576361097839",
   "metadata": {},
   "outputs": [
    {
     "name": "stdout",
     "output_type": "stream",
     "text": [
      "53\n",
      "74\n",
      "28\n",
      "9\n",
      "11\n",
      "17\n",
      "74\n",
      "72\n",
      "67\n",
      "42\n"
     ]
    }
   ],
   "source": [
    "## nditer()\n",
    "\n",
    "for i in np.nditer(arr):\n",
    "    print(i)"
   ]
  },
  {
   "cell_type": "markdown",
   "id": "ba2e67a5-063c-4a4d-a6b4-57fbf6af7c8b",
   "metadata": {},
   "source": [
    "#### changing array shape:-\n",
    "1. reshape()\n",
    "2. ravel()\n",
    "3. transpose"
   ]
  },
  {
   "cell_type": "code",
   "execution_count": 42,
   "id": "3c335bf6-4068-4453-ad1d-d8af1caa4870",
   "metadata": {},
   "outputs": [
    {
     "data": {
      "text/plain": [
       "(5, 2)"
      ]
     },
     "execution_count": 42,
     "metadata": {},
     "output_type": "execute_result"
    }
   ],
   "source": [
    "arr.shape"
   ]
  },
  {
   "cell_type": "code",
   "execution_count": 43,
   "id": "4ffeb4b8-4f47-432d-ab0c-d752cffd01c3",
   "metadata": {},
   "outputs": [
    {
     "data": {
      "text/plain": [
       "array([[53, 74, 28,  9, 11],\n",
       "       [17, 74, 72, 67, 42]])"
      ]
     },
     "execution_count": 43,
     "metadata": {},
     "output_type": "execute_result"
    }
   ],
   "source": [
    "arr.reshape(2,5)"
   ]
  },
  {
   "cell_type": "code",
   "execution_count": 44,
   "id": "3e5945f2-e367-4448-870e-51e55878cd2d",
   "metadata": {},
   "outputs": [
    {
     "data": {
      "text/plain": [
       "array([53, 74, 28,  9, 11, 17, 74, 72, 67, 42])"
      ]
     },
     "execution_count": 44,
     "metadata": {},
     "output_type": "execute_result"
    }
   ],
   "source": [
    "arr.ravel() ## changed 2d to 1d"
   ]
  },
  {
   "cell_type": "code",
   "execution_count": 47,
   "id": "d656300f-e8c2-4ec9-9d07-565b613cf362",
   "metadata": {},
   "outputs": [
    {
     "data": {
      "text/plain": [
       "array([[53, 74],\n",
       "       [28,  9],\n",
       "       [11, 17],\n",
       "       [74, 72],\n",
       "       [67, 42]])"
      ]
     },
     "execution_count": 47,
     "metadata": {},
     "output_type": "execute_result"
    }
   ],
   "source": [
    "arr"
   ]
  },
  {
   "cell_type": "code",
   "execution_count": 49,
   "id": "d7644e5a-0650-4ddc-99b1-095cc6e42b75",
   "metadata": {},
   "outputs": [
    {
     "data": {
      "text/plain": [
       "array([[53, 28, 11, 74, 67],\n",
       "       [74,  9, 17, 72, 42]])"
      ]
     },
     "execution_count": 49,
     "metadata": {},
     "output_type": "execute_result"
    }
   ],
   "source": [
    "arr = arr.transpose() # row became col and col became row\n",
    "arr"
   ]
  },
  {
   "cell_type": "code",
   "execution_count": 50,
   "id": "0a8abb81-7662-4a3b-a1f7-5fb11f572dfa",
   "metadata": {},
   "outputs": [
    {
     "data": {
      "text/plain": [
       "array([[53, 74],\n",
       "       [28,  9],\n",
       "       [11, 17],\n",
       "       [74, 72],\n",
       "       [67, 42]])"
      ]
     },
     "execution_count": 50,
     "metadata": {},
     "output_type": "execute_result"
    }
   ],
   "source": [
    "arr.T"
   ]
  },
  {
   "cell_type": "markdown",
   "id": "6aa81cb3-cf03-4e9c-99c1-510f83c9c3b0",
   "metadata": {},
   "source": [
    "#### splitting:-\n",
    "1. hsplit()\n",
    "2. vsplit()"
   ]
  },
  {
   "cell_type": "code",
   "execution_count": 52,
   "id": "4f8caadb-218e-4798-917d-eb725d46dced",
   "metadata": {},
   "outputs": [
    {
     "data": {
      "text/plain": [
       "array([[53, 28, 11, 74, 67],\n",
       "       [74,  9, 17, 72, 42]])"
      ]
     },
     "execution_count": 52,
     "metadata": {},
     "output_type": "execute_result"
    }
   ],
   "source": [
    "arr"
   ]
  },
  {
   "cell_type": "code",
   "execution_count": 59,
   "id": "b20a143b-e6b5-4190-976f-ec70611cd416",
   "metadata": {},
   "outputs": [
    {
     "data": {
      "text/plain": [
       "[array([[53],\n",
       "        [74]]),\n",
       " array([[28],\n",
       "        [ 9]]),\n",
       " array([[11],\n",
       "        [17]]),\n",
       " array([[74],\n",
       "        [72]]),\n",
       " array([[67],\n",
       "        [42]])]"
      ]
     },
     "execution_count": 59,
     "metadata": {},
     "output_type": "execute_result"
    }
   ],
   "source": [
    "np.hsplit(arr, 5) # returns a list of 5 2darrays"
   ]
  },
  {
   "cell_type": "code",
   "execution_count": 58,
   "id": "91575416-b233-48d9-8826-58d09eb602de",
   "metadata": {},
   "outputs": [
    {
     "data": {
      "text/plain": [
       "[array([[53, 28, 11, 74, 67],\n",
       "        [74,  9, 17, 72, 42]])]"
      ]
     },
     "execution_count": 58,
     "metadata": {},
     "output_type": "execute_result"
    }
   ],
   "source": [
    "np.hsplit(arr,1)"
   ]
  },
  {
   "cell_type": "code",
   "execution_count": 61,
   "id": "17f2b5e5-a98f-45d6-ae20-9730d14b0c52",
   "metadata": {},
   "outputs": [
    {
     "data": {
      "text/plain": [
       "[array([[53, 28, 11, 74, 67],\n",
       "        [74,  9, 17, 72, 42]])]"
      ]
     },
     "execution_count": 61,
     "metadata": {},
     "output_type": "execute_result"
    }
   ],
   "source": [
    "np.vsplit(arr,1)"
   ]
  },
  {
   "cell_type": "code",
   "execution_count": 62,
   "id": "14b7448a-24e1-4066-9577-479ee0132474",
   "metadata": {},
   "outputs": [
    {
     "data": {
      "text/plain": [
       "[array([[53, 28, 11, 74, 67]]), array([[74,  9, 17, 72, 42]])]"
      ]
     },
     "execution_count": 62,
     "metadata": {},
     "output_type": "execute_result"
    }
   ],
   "source": [
    "np.vsplit(arr,2)"
   ]
  },
  {
   "cell_type": "markdown",
   "id": "5bb12e04-f7c4-42f4-bc71-25cbab810188",
   "metadata": {},
   "source": [
    "#### stacking:-\n",
    "1. hstack()\n",
    "2. vstack()"
   ]
  },
  {
   "cell_type": "code",
   "execution_count": 65,
   "id": "2305f4d4-ac92-482c-8bfc-23b2e2f5f475",
   "metadata": {},
   "outputs": [
    {
     "data": {
      "text/plain": [
       "array([[53, 28, 11, 74, 67],\n",
       "       [74,  9, 17, 72, 42]])"
      ]
     },
     "execution_count": 65,
     "metadata": {},
     "output_type": "execute_result"
    }
   ],
   "source": [
    "arr1 = arr\n",
    "arr1"
   ]
  },
  {
   "cell_type": "code",
   "execution_count": 67,
   "id": "0a993b08-fab3-4f12-86ff-a8b92e8c4dfb",
   "metadata": {},
   "outputs": [
    {
     "data": {
      "text/plain": [
       "array([[10, 11, 12, 13, 14],\n",
       "       [15, 16, 17, 18, 19]])"
      ]
     },
     "execution_count": 67,
     "metadata": {},
     "output_type": "execute_result"
    }
   ],
   "source": [
    "arr2 = np.arange(10,20).reshape(2,5)\n",
    "arr2"
   ]
  },
  {
   "cell_type": "code",
   "execution_count": 69,
   "id": "ad86226a-c378-4e28-af40-f4bed4b85574",
   "metadata": {},
   "outputs": [
    {
     "data": {
      "text/plain": [
       "array([[53, 28, 11, 74, 67, 10, 11, 12, 13, 14],\n",
       "       [74,  9, 17, 72, 42, 15, 16, 17, 18, 19]])"
      ]
     },
     "execution_count": 69,
     "metadata": {},
     "output_type": "execute_result"
    }
   ],
   "source": [
    "np.hstack((arr1,arr2))"
   ]
  },
  {
   "cell_type": "code",
   "execution_count": 70,
   "id": "715457d5-3d2a-4dc1-8737-fd7aacc83494",
   "metadata": {},
   "outputs": [
    {
     "data": {
      "text/plain": [
       "array([[53, 28, 11, 74, 67],\n",
       "       [74,  9, 17, 72, 42],\n",
       "       [10, 11, 12, 13, 14],\n",
       "       [15, 16, 17, 18, 19]])"
      ]
     },
     "execution_count": 70,
     "metadata": {},
     "output_type": "execute_result"
    }
   ],
   "source": [
    "np.vstack((arr1,arr2))"
   ]
  },
  {
   "cell_type": "code",
   "execution_count": 72,
   "id": "a0b66b2a-1e62-401e-a979-221f9cc47f2c",
   "metadata": {},
   "outputs": [
    {
     "data": {
      "text/plain": [
       "array([[20, 21, 22, 23, 24],\n",
       "       [25, 26, 27, 28, 29]])"
      ]
     },
     "execution_count": 72,
     "metadata": {},
     "output_type": "execute_result"
    }
   ],
   "source": [
    "arr3 = np.arange(20,30).reshape(2,5)\n",
    "arr3"
   ]
  },
  {
   "cell_type": "code",
   "execution_count": 73,
   "id": "63cacbd0-1b4e-41d6-889b-8cb9363856cf",
   "metadata": {},
   "outputs": [
    {
     "data": {
      "text/plain": [
       "array([[53, 28, 11, 74, 67, 10, 11, 12, 13, 14, 20, 21, 22, 23, 24],\n",
       "       [74,  9, 17, 72, 42, 15, 16, 17, 18, 19, 25, 26, 27, 28, 29]])"
      ]
     },
     "execution_count": 73,
     "metadata": {},
     "output_type": "execute_result"
    }
   ],
   "source": [
    "np.hstack((arr1,arr2,arr3))"
   ]
  },
  {
   "cell_type": "code",
   "execution_count": 74,
   "id": "02eb9947-ae94-4f2a-8d1b-d6cd687f1b68",
   "metadata": {},
   "outputs": [
    {
     "data": {
      "text/plain": [
       "array([[53, 28, 11, 74, 67],\n",
       "       [74,  9, 17, 72, 42],\n",
       "       [10, 11, 12, 13, 14],\n",
       "       [15, 16, 17, 18, 19],\n",
       "       [20, 21, 22, 23, 24],\n",
       "       [25, 26, 27, 28, 29]])"
      ]
     },
     "execution_count": 74,
     "metadata": {},
     "output_type": "execute_result"
    }
   ],
   "source": [
    "np.vstack((arr1,arr2,arr3))"
   ]
  },
  {
   "cell_type": "code",
   "execution_count": null,
   "id": "3ae4362b-f280-4ea3-b638-8ac5ce6547a3",
   "metadata": {},
   "outputs": [],
   "source": []
  }
 ],
 "metadata": {
  "kernelspec": {
   "display_name": "Python 3 (ipykernel)",
   "language": "python",
   "name": "python3"
  },
  "language_info": {
   "codemirror_mode": {
    "name": "ipython",
    "version": 3
   },
   "file_extension": ".py",
   "mimetype": "text/x-python",
   "name": "python",
   "nbconvert_exporter": "python",
   "pygments_lexer": "ipython3",
   "version": "3.12.6"
  }
 },
 "nbformat": 4,
 "nbformat_minor": 5
}
