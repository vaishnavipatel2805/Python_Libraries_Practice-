{
 "cells": [
  {
   "cell_type": "markdown",
   "id": "35746e95-b2c1-4e0b-af21-48cf1816e672",
   "metadata": {},
   "source": [
    "#### Accessing elements of an array:-\n",
    "1. normal indexing\n",
    "2. slicing\n",
    "3. fancy indexing\n",
    "4. boolean indexing"
   ]
  },
  {
   "cell_type": "code",
   "execution_count": 2,
   "id": "c2cabc18-4d5e-41ab-9204-c1711145f2fc",
   "metadata": {},
   "outputs": [],
   "source": [
    "import numpy as np"
   ]
  },
  {
   "cell_type": "code",
   "execution_count": 6,
   "id": "564d091b-3027-44d8-b5f9-a611c743a984",
   "metadata": {},
   "outputs": [
    {
     "data": {
      "text/plain": [
       "array([[10, 11, 12, 13],\n",
       "       [14, 15, 16, 17],\n",
       "       [18, 19, 20, 21],\n",
       "       [22, 23, 24, 25],\n",
       "       [26, 27, 28, 29]])"
      ]
     },
     "execution_count": 6,
     "metadata": {},
     "output_type": "execute_result"
    }
   ],
   "source": [
    "arr = np.arange(10,30).reshape(5,4)\n",
    "arr"
   ]
  },
  {
   "cell_type": "code",
   "execution_count": 8,
   "id": "e36fcab1-501c-4094-998e-fbef333c4e3a",
   "metadata": {},
   "outputs": [
    {
     "data": {
      "text/plain": [
       "array([14, 15, 16, 17])"
      ]
     },
     "execution_count": 8,
     "metadata": {},
     "output_type": "execute_result"
    }
   ],
   "source": [
    "# 2nd row\n",
    "arr[1]"
   ]
  },
  {
   "cell_type": "code",
   "execution_count": 13,
   "id": "58deb94d-e7d9-4204-8884-d6fac92a3b80",
   "metadata": {},
   "outputs": [
    {
     "data": {
      "text/plain": [
       "array([26, 27, 28, 29])"
      ]
     },
     "execution_count": 13,
     "metadata": {},
     "output_type": "execute_result"
    }
   ],
   "source": [
    "# last row\n",
    "arr[-1]"
   ]
  },
  {
   "cell_type": "code",
   "execution_count": 12,
   "id": "abf52125-2a50-4d2c-be38-59fc07c5a650",
   "metadata": {},
   "outputs": [
    {
     "data": {
      "text/plain": [
       "array([26, 27, 28, 29])"
      ]
     },
     "execution_count": 12,
     "metadata": {},
     "output_type": "execute_result"
    }
   ],
   "source": [
    "arr[-1, :]"
   ]
  },
  {
   "cell_type": "code",
   "execution_count": 10,
   "id": "fa65fcf3-a9a7-490e-adbd-ed257007d2c1",
   "metadata": {},
   "outputs": [
    {
     "data": {
      "text/plain": [
       "array([12, 16, 20, 24, 28])"
      ]
     },
     "execution_count": 10,
     "metadata": {},
     "output_type": "execute_result"
    }
   ],
   "source": [
    "# 3rd col\n",
    "arr[:,2]"
   ]
  },
  {
   "cell_type": "code",
   "execution_count": 14,
   "id": "24649672-d62f-479d-b4eb-43d5ec477013",
   "metadata": {},
   "outputs": [
    {
     "data": {
      "text/plain": [
       "array([[10, 11],\n",
       "       [14, 15]])"
      ]
     },
     "execution_count": 14,
     "metadata": {},
     "output_type": "execute_result"
    }
   ],
   "source": [
    "# 10 11 14 15\n",
    "arr[0:2,0:2]"
   ]
  },
  {
   "cell_type": "code",
   "execution_count": 15,
   "id": "6cd250a1-b8a3-4a7b-b32b-6b1d1a4745d4",
   "metadata": {},
   "outputs": [
    {
     "data": {
      "text/plain": [
       "array([[10, 13],\n",
       "       [26, 29]])"
      ]
     },
     "execution_count": 15,
     "metadata": {},
     "output_type": "execute_result"
    }
   ],
   "source": [
    "# 10 13 26,29\n",
    "arr[::4,::3]"
   ]
  },
  {
   "cell_type": "code",
   "execution_count": 16,
   "id": "b2eb1c06-8e2b-4c9c-b1e2-fd8c52b69982",
   "metadata": {},
   "outputs": [
    {
     "data": {
      "text/plain": [
       "array([[10, 13],\n",
       "       [18, 21],\n",
       "       [26, 29]])"
      ]
     },
     "execution_count": 16,
     "metadata": {},
     "output_type": "execute_result"
    }
   ],
   "source": [
    "# 10 13 18 21 26 29\n",
    "arr[::2,::3]"
   ]
  },
  {
   "cell_type": "code",
   "execution_count": 18,
   "id": "b0be2db3-4baf-4b45-9d75-508bcf1efc82",
   "metadata": {},
   "outputs": [
    {
     "data": {
      "text/plain": [
       "array([18, 20])"
      ]
     },
     "execution_count": 18,
     "metadata": {},
     "output_type": "execute_result"
    }
   ],
   "source": [
    "# 18 20\n",
    "arr[2,::2]"
   ]
  },
  {
   "cell_type": "code",
   "execution_count": 22,
   "id": "4fa9539b-d8e2-4571-9fc4-34a4cf76717c",
   "metadata": {},
   "outputs": [
    {
     "data": {
      "text/plain": [
       "array([24, 25])"
      ]
     },
     "execution_count": 22,
     "metadata": {},
     "output_type": "execute_result"
    }
   ],
   "source": [
    "# 24 25\n",
    "arr[-2,-2::]"
   ]
  },
  {
   "cell_type": "code",
   "execution_count": 24,
   "id": "66cfd636-ee94-47a5-ae6b-ad232b7e34c5",
   "metadata": {},
   "outputs": [
    {
     "data": {
      "text/plain": [
       "array([[19, 20],\n",
       "       [23, 24]])"
      ]
     },
     "execution_count": 24,
     "metadata": {},
     "output_type": "execute_result"
    }
   ],
   "source": [
    "# 19 20 23 24\n",
    "arr[2:-1, 1:3]"
   ]
  },
  {
   "cell_type": "code",
   "execution_count": 25,
   "id": "c512ed79-abfe-4ce9-aa2e-0df62391a6cf",
   "metadata": {},
   "outputs": [
    {
     "data": {
      "text/plain": [
       "array([[10, 11, 12, 13],\n",
       "       [14, 15, 16, 17],\n",
       "       [18, 19, 20, 21],\n",
       "       [22, 23, 24, 25],\n",
       "       [26, 27, 28, 29]])"
      ]
     },
     "execution_count": 25,
     "metadata": {},
     "output_type": "execute_result"
    }
   ],
   "source": [
    "## fancy indexing\n",
    "\n",
    "arr"
   ]
  },
  {
   "cell_type": "code",
   "execution_count": 28,
   "id": "84671009-94ea-4007-aa47-fd21478dc0cb",
   "metadata": {},
   "outputs": [
    {
     "data": {
      "text/plain": [
       "array([14, 12, 24, 27])"
      ]
     },
     "execution_count": 28,
     "metadata": {},
     "output_type": "execute_result"
    }
   ],
   "source": [
    "# 14,12,24,27\n",
    "arr[[1,0,3,4], [0,2,2,1]]"
   ]
  },
  {
   "cell_type": "code",
   "execution_count": 29,
   "id": "2399122e-58ec-426c-a8bd-4309c2daf642",
   "metadata": {},
   "outputs": [
    {
     "data": {
      "text/plain": [
       "array([[10, 11, 12, 13],\n",
       "       [22, 23, 24, 25],\n",
       "       [26, 27, 28, 29]])"
      ]
     },
     "execution_count": 29,
     "metadata": {},
     "output_type": "execute_result"
    }
   ],
   "source": [
    "# 1,4,5 th row\n",
    "arr[[0,3,4]]"
   ]
  },
  {
   "cell_type": "code",
   "execution_count": 32,
   "id": "8e39a8cd-b89e-47b6-80e8-1bbdf05ed116",
   "metadata": {},
   "outputs": [
    {
     "data": {
      "text/plain": [
       "array([[10, 11, 13],\n",
       "       [14, 15, 17],\n",
       "       [18, 19, 21],\n",
       "       [22, 23, 25],\n",
       "       [26, 27, 29]])"
      ]
     },
     "execution_count": 32,
     "metadata": {},
     "output_type": "execute_result"
    }
   ],
   "source": [
    "# 1 2 4th col\n",
    "arr[:,[0,1,-1]]"
   ]
  },
  {
   "cell_type": "code",
   "execution_count": 33,
   "id": "cbf567ae-27c9-4af9-befb-4192348def42",
   "metadata": {},
   "outputs": [
    {
     "data": {
      "text/plain": [
       "array([[10, 11, 12, 13],\n",
       "       [14, 15, 16, 17],\n",
       "       [18, 19, 20, 21],\n",
       "       [22, 23, 24, 25],\n",
       "       [26, 27, 28, 29]])"
      ]
     },
     "execution_count": 33,
     "metadata": {},
     "output_type": "execute_result"
    }
   ],
   "source": [
    "# boolean indexing\n",
    "# elements greater than 15\n",
    "arr"
   ]
  },
  {
   "cell_type": "code",
   "execution_count": 34,
   "id": "9c29050e-c2cf-40fb-b2d2-9607ad70a7de",
   "metadata": {},
   "outputs": [
    {
     "data": {
      "text/plain": [
       "array([[ True,  True,  True,  True],\n",
       "       [ True,  True,  True,  True],\n",
       "       [ True,  True,  True,  True],\n",
       "       [ True,  True,  True,  True],\n",
       "       [ True,  True,  True,  True]])"
      ]
     },
     "execution_count": 34,
     "metadata": {},
     "output_type": "execute_result"
    }
   ],
   "source": [
    "arr>5"
   ]
  },
  {
   "cell_type": "code",
   "execution_count": 35,
   "id": "608a2627-0a55-474c-a9c3-3914e55cc92f",
   "metadata": {},
   "outputs": [
    {
     "data": {
      "text/plain": [
       "array([10, 11, 12, 13, 14, 15, 16, 17, 18, 19, 20, 21, 22, 23, 24, 25, 26,\n",
       "       27, 28, 29])"
      ]
     },
     "execution_count": 35,
     "metadata": {},
     "output_type": "execute_result"
    }
   ],
   "source": [
    "arr[arr>5] # masking"
   ]
  },
  {
   "cell_type": "code",
   "execution_count": 36,
   "id": "fcaf2040-6090-46fd-99c7-417acb7d0693",
   "metadata": {},
   "outputs": [
    {
     "data": {
      "text/plain": [
       "array([11, 13, 15, 17, 19, 21, 23, 25, 27, 29])"
      ]
     },
     "execution_count": 36,
     "metadata": {},
     "output_type": "execute_result"
    }
   ],
   "source": [
    "arr[~(arr%2==0)] # odd numbers"
   ]
  },
  {
   "cell_type": "code",
   "execution_count": 37,
   "id": "39f6576b-660a-44c3-954a-791abfbe5b5c",
   "metadata": {},
   "outputs": [
    {
     "data": {
      "text/plain": [
       "array([12, 16, 20, 24, 28])"
      ]
     },
     "execution_count": 37,
     "metadata": {},
     "output_type": "execute_result"
    }
   ],
   "source": [
    "arr[(arr%4==0)]"
   ]
  },
  {
   "cell_type": "code",
   "execution_count": null,
   "id": "fc20905d-93c2-4aa4-a05c-3d419871b167",
   "metadata": {},
   "outputs": [],
   "source": []
  }
 ],
 "metadata": {
  "kernelspec": {
   "display_name": "Python 3 (ipykernel)",
   "language": "python",
   "name": "python3"
  },
  "language_info": {
   "codemirror_mode": {
    "name": "ipython",
    "version": 3
   },
   "file_extension": ".py",
   "mimetype": "text/x-python",
   "name": "python",
   "nbconvert_exporter": "python",
   "pygments_lexer": "ipython3",
   "version": "3.12.6"
  }
 },
 "nbformat": 4,
 "nbformat_minor": 5
}
