{
 "cells": [
  {
   "cell_type": "code",
   "execution_count": 1,
   "id": "5ff135fc-5fc8-41a1-b6e2-e3f4e4dcea0e",
   "metadata": {},
   "outputs": [],
   "source": [
    "import numpy as np"
   ]
  },
  {
   "cell_type": "markdown",
   "id": "a2f0afd9-fa0d-447e-8933-1a5bdc2f33f3",
   "metadata": {},
   "source": [
    "#### Q-1 Create a null vector of size 10 but the fifth value which is 1.\n"
   ]
  },
  {
   "cell_type": "code",
   "execution_count": 4,
   "id": "d38fbef0-ef05-4441-aae6-1999c9c9eb76",
   "metadata": {},
   "outputs": [
    {
     "data": {
      "text/plain": [
       "array([0, 0, 0, 0, 1, 0, 0, 0, 0, 0])"
      ]
     },
     "execution_count": 4,
     "metadata": {},
     "output_type": "execute_result"
    }
   ],
   "source": [
    "null_vector = np.zeros(10, dtype = int)\n",
    "null_vector[4]=1\n",
    "null_vector"
   ]
  },
  {
   "cell_type": "markdown",
   "id": "b549d22d-b05a-45ac-b7d0-8f0aecf9bd54",
   "metadata": {},
   "source": [
    "#### Q-2 Ask user to input two numbers m,n. Write a program to generate a random array of shape (a, b) and print the array and avg of the array.\n"
   ]
  },
  {
   "cell_type": "code",
   "execution_count": 18,
   "id": "eba37a61-15f9-4d60-aa63-d38b6846620c",
   "metadata": {},
   "outputs": [
    {
     "name": "stdin",
     "output_type": "stream",
     "text": [
      "enter the number of rows:  3\n",
      "enter the number of cols:  4\n"
     ]
    },
    {
     "name": "stdout",
     "output_type": "stream",
     "text": [
      "[[13 11 19 11]\n",
      " [19 12 14 19]\n",
      " [18 17 16 10]]\n",
      "\n",
      "mean is: 14.916666666666666\n"
     ]
    }
   ],
   "source": [
    "m = int(input(\"enter the number of rows: \"))\n",
    "n = int(input(\"enter the number of cols: \"))\n",
    "arr = np.random.randint(10,20,m*n).reshape(m,n)\n",
    "print(arr)\n",
    "print()\n",
    "print(\"mean is:\", np.mean(arr))\n"
   ]
  },
  {
   "cell_type": "markdown",
   "id": "1e64b691-dc75-4fcb-9b13-c3366414eea6",
   "metadata": {},
   "source": [
    "#### Q-3Write a function to create a 2d array with 1 on the border and 0 inside. Take 2-D array shape as (a,b) as parameter to function.\n"
   ]
  },
  {
   "cell_type": "code",
   "execution_count": 21,
   "id": "27c5c58b-993e-49fb-93d0-0aa24dd2b4a1",
   "metadata": {},
   "outputs": [
    {
     "data": {
      "text/plain": [
       "array([[1., 1., 1., 1., 1., 1.],\n",
       "       [1., 0., 0., 0., 0., 1.],\n",
       "       [1., 0., 0., 0., 0., 1.],\n",
       "       [1., 0., 0., 0., 0., 1.],\n",
       "       [1., 0., 0., 0., 0., 1.],\n",
       "       [1., 1., 1., 1., 1., 1.]])"
      ]
     },
     "execution_count": 21,
     "metadata": {},
     "output_type": "execute_result"
    }
   ],
   "source": [
    "def arr2d(a,b):\n",
    "    arr = np.zeros((a,b))\n",
    "    arr[0,:]=1\n",
    "    arr[-1,:]=1\n",
    "    arr[:,0]=1\n",
    "    arr[:,-1]=1\n",
    "    return arr\n",
    "arr2d(6,6)"
   ]
  },
  {
   "cell_type": "markdown",
   "id": "db1d3cb0-8698-443d-b4b0-7146302115b9",
   "metadata": {},
   "source": [
    "#### Q-4 Create a vector of size 10 with values ranging from 0 to 1, both excluded.\n"
   ]
  },
  {
   "cell_type": "code",
   "execution_count": 22,
   "id": "6a92d34c-f7b4-4fff-bf82-f57e4df2768d",
   "metadata": {},
   "outputs": [
    {
     "data": {
      "text/plain": [
       "array([0.24226459, 0.27256071, 0.40481087, 0.7798563 , 0.22514777,\n",
       "       0.35214498, 0.58195149, 0.70688401, 0.55202495, 0.19391117])"
      ]
     },
     "execution_count": 22,
     "metadata": {},
     "output_type": "execute_result"
    }
   ],
   "source": [
    "arr = np.random.random(10)\n",
    "arr"
   ]
  },
  {
   "cell_type": "markdown",
   "id": "cba73035-da3b-4e3c-8bad-973d92d8a3c7",
   "metadata": {},
   "source": [
    "#### Q-5 Can you create a identity mattrix of shape (3,4). If yes write code for it\n",
    "\n",
    "No.  we can not create an identity matrix of 3,4 as identity matrix is a square matrix with digonal elements equal to 1"
   ]
  },
  {
   "cell_type": "markdown",
   "id": "353bef89-a170-4475-91ad-ef939b487618",
   "metadata": {},
   "source": [
    "#### Q-6: Create a 5x5 matrix with row values ranging from 0 to 4."
   ]
  },
  {
   "cell_type": "code",
   "execution_count": 24,
   "id": "515b6f57-26be-43c2-8b7d-8c60853337d7",
   "metadata": {},
   "outputs": [
    {
     "data": {
      "text/plain": [
       "array([[0.  , 0.17, 0.33, 0.5 , 0.67],\n",
       "       [0.83, 1.  , 1.17, 1.33, 1.5 ],\n",
       "       [1.67, 1.83, 2.  , 2.17, 2.33],\n",
       "       [2.5 , 2.67, 2.83, 3.  , 3.17],\n",
       "       [3.33, 3.5 , 3.67, 3.83, 4.  ]])"
      ]
     },
     "execution_count": 24,
     "metadata": {},
     "output_type": "execute_result"
    }
   ],
   "source": [
    "\n",
    "arr = np.round(np.linspace(0,4,25), 2).reshape(5,5)\n",
    "arr"
   ]
  },
  {
   "cell_type": "markdown",
   "id": "4df0bf60-093f-4fe7-bf1b-193ca1df0a6f",
   "metadata": {},
   "source": [
    "#### Q-7: Consider a random integer (in range 1 to 100) vector with shape (10,2) representing coordinates, and coordinates of a point as array is given. Create an array of distance of each point in the random vectros from the given point. Distance array should be interger type.\n",
    "point = np.array([2,3]) \n"
   ]
  },
  {
   "cell_type": "code",
   "execution_count": 3,
   "id": "316cc4d8-4864-48f6-8162-0a6e93c9d74c",
   "metadata": {},
   "outputs": [
    {
     "data": {
      "text/plain": [
       "array([[81, 56],\n",
       "       [98, 54],\n",
       "       [50, 99],\n",
       "       [61, 63],\n",
       "       [42, 36],\n",
       "       [26, 47],\n",
       "       [63, 94],\n",
       "       [ 9, 38],\n",
       "       [55, 32],\n",
       "       [43, 23]], dtype=int32)"
      ]
     },
     "execution_count": 3,
     "metadata": {},
     "output_type": "execute_result"
    }
   ],
   "source": [
    "## Method 1:-\n",
    "\n",
    "p_arr = np.random.randint(1,101,20).reshape(10,2)\n",
    "p_arr"
   ]
  },
  {
   "cell_type": "code",
   "execution_count": 4,
   "id": "be907032-64e3-45c9-9114-850473c99ba8",
   "metadata": {},
   "outputs": [
    {
     "data": {
      "text/plain": [
       "array([2, 3])"
      ]
     },
     "execution_count": 4,
     "metadata": {},
     "output_type": "execute_result"
    }
   ],
   "source": [
    "point = np.array([2,3]) \n",
    "point"
   ]
  },
  {
   "cell_type": "code",
   "execution_count": 11,
   "id": "843042a7-15c7-4913-845f-ae6e7794c3dd",
   "metadata": {},
   "outputs": [
    {
     "data": {
      "text/plain": [
       "array([ 95.13, 108.71, 107.33,  84.15,  51.86,  50.12, 109.55,  35.69,\n",
       "        60.42,  45.62])"
      ]
     },
     "execution_count": 11,
     "metadata": {},
     "output_type": "execute_result"
    }
   ],
   "source": [
    "def dist(arr1, arr2):\n",
    "    distance_arr = [ ]\n",
    "    for i in arr1:\n",
    "        distance = np.round(np.array((((i[0]-arr2[0])**2 ) + ((i[1]-arr2[1])**2 ))**0.5), 2)\n",
    "        distance_arr = np.append(distance_arr, distance)\n",
    "    return distance_arr\n",
    "dist(p_arr, point)"
   ]
  },
  {
   "cell_type": "code",
   "execution_count": 14,
   "id": "e3562873-c712-4cbf-90c8-30030f1da691",
   "metadata": {},
   "outputs": [
    {
     "data": {
      "text/plain": [
       "array([ 95.13, 108.71, 107.33,  84.15,  51.86,  50.12, 109.55,  35.69,\n",
       "        60.42,  45.62])"
      ]
     },
     "execution_count": 14,
     "metadata": {},
     "output_type": "execute_result"
    }
   ],
   "source": [
    "## Method 2:-\n",
    "\n",
    "def dist_point(arr1, arr2):\n",
    "    return np.round(np.sqrt(np.sum(((arr1-arr2)**2), axis = 1)),2) # numpy broadcast arr2 from (1,2) to (10,2)\n",
    "dist_point(p_arr, point)"
   ]
  },
  {
   "cell_type": "markdown",
   "id": "45bd667d-8bd1-42e5-945d-9faa8e3cca6f",
   "metadata": {},
   "source": [
    "arr1 has shape (10,2) → 10 points [x,y].\n",
    "\n",
    "arr2 is one point [x0,y0].\n",
    "\n",
    "NumPy broadcasts [x0,y0] to every row of arr1.\n",
    "\n",
    "Result: array of shape (10,2) containing differences [x-x0, y-y0].\n",
    "\n",
    "(arr1 - arr2)**2\n",
    "\n",
    "Squares each difference.\n",
    "\n",
    "np.sum(..., axis=1)\n",
    "\n",
    "Sums along each row "
   ]
  },
  {
   "cell_type": "markdown",
   "id": "aaac6025-a889-4265-a2fe-6b83792453a7",
   "metadata": {},
   "source": [
    "#### Q-8: Consider a (6,7,8) shape array, what is the index (x,y,z) of the 100th element?"
   ]
  },
  {
   "cell_type": "code",
   "execution_count": 20,
   "id": "5c0c639c-860e-46cd-835f-8414be5cd5e0",
   "metadata": {},
   "outputs": [
    {
     "ename": "NameError",
     "evalue": "name 'shape' is not defined",
     "output_type": "error",
     "traceback": [
      "\u001b[1;31m---------------------------------------------------------------------------\u001b[0m",
      "\u001b[1;31mNameError\u001b[0m                                 Traceback (most recent call last)",
      "Cell \u001b[1;32mIn[20], line 1\u001b[0m\n\u001b[1;32m----> 1\u001b[0m np\u001b[38;5;241m.\u001b[39munravel_index(\u001b[38;5;241m99\u001b[39m,\u001b[43mshape\u001b[49m)\n",
      "\u001b[1;31mNameError\u001b[0m: name 'shape' is not defined"
     ]
    }
   ],
   "source": [
    "np.unravel_index(99,shape)"
   ]
  },
  {
   "cell_type": "code",
   "execution_count": null,
   "id": "1ffc2ef1-e0de-4871-958b-9c9411e89bf2",
   "metadata": {},
   "outputs": [],
   "source": []
  }
 ],
 "metadata": {
  "kernelspec": {
   "display_name": "Python 3 (ipykernel)",
   "language": "python",
   "name": "python3"
  },
  "language_info": {
   "codemirror_mode": {
    "name": "ipython",
    "version": 3
   },
   "file_extension": ".py",
   "mimetype": "text/x-python",
   "name": "python",
   "nbconvert_exporter": "python",
   "pygments_lexer": "ipython3",
   "version": "3.12.6"
  }
 },
 "nbformat": 4,
 "nbformat_minor": 5
}
