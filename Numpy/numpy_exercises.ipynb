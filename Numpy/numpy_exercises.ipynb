{
 "cells": [
  {
   "cell_type": "code",
   "execution_count": 1,
   "id": "5ff135fc-5fc8-41a1-b6e2-e3f4e4dcea0e",
   "metadata": {},
   "outputs": [],
   "source": [
    "import numpy as np"
   ]
  },
  {
   "cell_type": "code",
   "execution_count": 4,
   "id": "d38fbef0-ef05-4441-aae6-1999c9c9eb76",
   "metadata": {},
   "outputs": [
    {
     "data": {
      "text/plain": [
       "array([0, 0, 0, 0, 1, 0, 0, 0, 0, 0])"
      ]
     },
     "execution_count": 4,
     "metadata": {},
     "output_type": "execute_result"
    }
   ],
   "source": [
    "# Q-1 Create a null vector of size 10 but the fifth value which is 1.\n",
    "\n",
    "null_vector = np.zeros(10, dtype = int)\n",
    "null_vector[4]=1\n",
    "null_vector"
   ]
  },
  {
   "cell_type": "code",
   "execution_count": 8,
   "id": "eba37a61-15f9-4d60-aa63-d38b6846620c",
   "metadata": {},
   "outputs": [
    {
     "name": "stdin",
     "output_type": "stream",
     "text": [
      "enter the number of rows:  3\n",
      "enter the number of cols:  4\n"
     ]
    },
    {
     "name": "stdout",
     "output_type": "stream",
     "text": [
      "[[16 11 11 15]\n",
      " [16 13 18 15]\n",
      " [11 14 10 18]]\n",
      "\n",
      "mean is: 14.0\n"
     ]
    }
   ],
   "source": [
    "# Q-2 Ask user to input two numbers m,n. Write a program to generate a random array of shape (a, b) and print the array and avg of the array.\n",
    "\n",
    "m = int(input(\"enter the number of rows: \"))\n",
    "n = int(input(\"enter the number of cols: \"))\n",
    "arr = np.random.randint(10,20,m*n).reshape(m,n)\n",
    "print(arr)\n",
    "print()\n",
    "print(\"mean is:\", np.mean(arr))\n"
   ]
  },
  {
   "cell_type": "code",
   "execution_count": 21,
   "id": "27c5c58b-993e-49fb-93d0-0aa24dd2b4a1",
   "metadata": {},
   "outputs": [
    {
     "data": {
      "text/plain": [
       "array([[1., 1., 1., 1., 1., 1.],\n",
       "       [1., 0., 0., 0., 0., 1.],\n",
       "       [1., 0., 0., 0., 0., 1.],\n",
       "       [1., 0., 0., 0., 0., 1.],\n",
       "       [1., 0., 0., 0., 0., 1.],\n",
       "       [1., 1., 1., 1., 1., 1.]])"
      ]
     },
     "execution_count": 21,
     "metadata": {},
     "output_type": "execute_result"
    }
   ],
   "source": [
    "# Q-3Write a function to create a 2d array with 1 on the border and 0 inside. Take 2-D array shape as (a,b) as parameter to function.\n",
    "\n",
    "def arr2d(a,b):\n",
    "    arr = np.zeros((a,b))\n",
    "    arr[0,:]=1\n",
    "    arr[-1,:]=1\n",
    "    arr[:,0]=1\n",
    "    arr[:,-1]=1\n",
    "    return arr\n",
    "arr2d(6,6)"
   ]
  },
  {
   "cell_type": "code",
   "execution_count": 22,
   "id": "6a92d34c-f7b4-4fff-bf82-f57e4df2768d",
   "metadata": {},
   "outputs": [
    {
     "data": {
      "text/plain": [
       "array([0.24226459, 0.27256071, 0.40481087, 0.7798563 , 0.22514777,\n",
       "       0.35214498, 0.58195149, 0.70688401, 0.55202495, 0.19391117])"
      ]
     },
     "execution_count": 22,
     "metadata": {},
     "output_type": "execute_result"
    }
   ],
   "source": [
    "# Q-4 Create a vector of size 10 with values ranging from 0 to 1, both excluded.\n",
    "\n",
    "arr = np.random.random(10)\n",
    "arr"
   ]
  },
  {
   "cell_type": "raw",
   "id": "75df91ec-4695-482f-8ec4-e92d89499bc2",
   "metadata": {},
   "source": [
    "# Q-5 Can you create a identity mattrix of shape (3,4). If yes write code for it\n",
    "\n",
    "No.  we can not create an identity matrix of 3,4 as identity matrix is a square matrix with digonal elements equal to 1"
   ]
  },
  {
   "cell_type": "code",
   "execution_count": 24,
   "id": "515b6f57-26be-43c2-8b7d-8c60853337d7",
   "metadata": {},
   "outputs": [
    {
     "data": {
      "text/plain": [
       "array([[0.  , 0.17, 0.33, 0.5 , 0.67],\n",
       "       [0.83, 1.  , 1.17, 1.33, 1.5 ],\n",
       "       [1.67, 1.83, 2.  , 2.17, 2.33],\n",
       "       [2.5 , 2.67, 2.83, 3.  , 3.17],\n",
       "       [3.33, 3.5 , 3.67, 3.83, 4.  ]])"
      ]
     },
     "execution_count": 24,
     "metadata": {},
     "output_type": "execute_result"
    }
   ],
   "source": [
    "# Q-6: Create a 5x5 matrix with row values ranging from 0 to 4.\n",
    "arr = np.round(np.linspace(0,4,25), 2).reshape(5,5)\n",
    "arr"
   ]
  },
  {
   "cell_type": "code",
   "execution_count": null,
   "id": "316cc4d8-4864-48f6-8162-0a6e93c9d74c",
   "metadata": {},
   "outputs": [],
   "source": [
    "# Q-7: Consider a random integer (in range 1 to 100) vector with shape (10,2) representing coordinates, and coordinates of a point as array is given. Create an array of distance of each point in the random vectros from the given point. Distance array should be interger type.\n",
    "# point = np.array([2,3]) \n",
    "\n"
   ]
  }
 ],
 "metadata": {
  "kernelspec": {
   "display_name": "Python 3 (ipykernel)",
   "language": "python",
   "name": "python3"
  },
  "language_info": {
   "codemirror_mode": {
    "name": "ipython",
    "version": 3
   },
   "file_extension": ".py",
   "mimetype": "text/x-python",
   "name": "python",
   "nbconvert_exporter": "python",
   "pygments_lexer": "ipython3",
   "version": "3.12.6"
  }
 },
 "nbformat": 4,
 "nbformat_minor": 5
}
