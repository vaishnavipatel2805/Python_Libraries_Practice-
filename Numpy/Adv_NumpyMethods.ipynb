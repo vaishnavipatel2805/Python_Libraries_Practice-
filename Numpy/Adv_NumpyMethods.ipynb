{
 "cells": [
  {
   "cell_type": "markdown",
   "id": "67abf291-7213-4894-9fef-2d8f4427ac0b",
   "metadata": {},
   "source": [
    "#### Numpy methods:-\n",
    "1. np.sort()\n",
    "2. np.append()\n",
    "3. np.concatenate()\n",
    "4. np.stack()\n",
    "5. np.cumsum()\n",
    "6. np.cumprod()\n",
    "7. np.argmax()\n",
    "8. np.argmin()\n",
    "9. np.percentile()\n",
    "10. np.where()\n",
    "11. np.put()\n",
    "12. np.flip()\n",
    "13. np.clip()\n",
    "14. np.unique()\n",
    "15. np.expand_dims()\n",
    "16. np.isin()\n",
    "17. np.histogram()\n",
    "18. np.corrcoef()\n",
    "19. np.delete()\n",
    "20. set functions :\n",
    "    \n",
    "        np.union1d()\n",
    "    \n",
    "        np.setdiff1d()\n",
    "\n",
    "        np.setxor1d()\n",
    "\n",
    "        np.intersect1d()\n",
    "    \n",
    "        np.isin()"
   ]
  },
  {
   "cell_type": "code",
   "execution_count": 1,
   "id": "47151a5e-0514-46a6-b1b5-34210eed2a4c",
   "metadata": {},
   "outputs": [],
   "source": [
    "import numpy as np"
   ]
  },
  {
   "cell_type": "markdown",
   "id": "5233566f-ef8d-4687-be86-d5ed541fc1d6",
   "metadata": {},
   "source": [
    "#### sort()"
   ]
  },
  {
   "cell_type": "code",
   "execution_count": 2,
   "id": "a56edd57-06c4-400d-b2f4-25b8391bc95e",
   "metadata": {},
   "outputs": [
    {
     "data": {
      "text/plain": [
       "array([1, 3, 3, 4, 6, 8, 9])"
      ]
     },
     "execution_count": 2,
     "metadata": {},
     "output_type": "execute_result"
    }
   ],
   "source": [
    "arr1 = np.array([1,3,6,4,8,3,9])\n",
    "np.sort(arr1) #ascending"
   ]
  },
  {
   "cell_type": "code",
   "execution_count": 3,
   "id": "0d9da37f-2320-480d-996b-b14bdf491a37",
   "metadata": {},
   "outputs": [
    {
     "data": {
      "text/plain": [
       "array([9, 8, 6, 4, 3, 3, 1])"
      ]
     },
     "execution_count": 3,
     "metadata": {},
     "output_type": "execute_result"
    }
   ],
   "source": [
    "np.sort(arr1)[::-1] #ascending but changhed to desc by slicing"
   ]
  },
  {
   "cell_type": "code",
   "execution_count": 4,
   "id": "19828c22-4fb5-4f7d-b42a-c3e87f3fc747",
   "metadata": {},
   "outputs": [
    {
     "data": {
      "text/plain": [
       "array([[30, 30, 25],\n",
       "       [23, 21, 19],\n",
       "       [26, 38, 22],\n",
       "       [23, 16, 27]], dtype=int32)"
      ]
     },
     "execution_count": 4,
     "metadata": {},
     "output_type": "execute_result"
    }
   ],
   "source": [
    "arr2 = np.random.randint(10,50,12).reshape(4,3)\n",
    "arr2"
   ]
  },
  {
   "cell_type": "code",
   "execution_count": 5,
   "id": "6d12b40a-cfb2-4a2a-9195-2e222a7a1665",
   "metadata": {},
   "outputs": [
    {
     "data": {
      "text/plain": [
       "array([[25, 30, 30],\n",
       "       [19, 21, 23],\n",
       "       [22, 26, 38],\n",
       "       [16, 23, 27]], dtype=int32)"
      ]
     },
     "execution_count": 5,
     "metadata": {},
     "output_type": "execute_result"
    }
   ],
   "source": [
    "np.sort(arr2) # by default row wise"
   ]
  },
  {
   "cell_type": "code",
   "execution_count": 6,
   "id": "79edbff0-283c-4787-8441-600631aad553",
   "metadata": {},
   "outputs": [
    {
     "data": {
      "text/plain": [
       "array([[16, 23, 27],\n",
       "       [22, 26, 38],\n",
       "       [19, 21, 23],\n",
       "       [25, 30, 30]], dtype=int32)"
      ]
     },
     "execution_count": 6,
     "metadata": {},
     "output_type": "execute_result"
    }
   ],
   "source": [
    "np.sort(arr2, axis = 1)[::-1] # row wise desc order\n",
    "                                # after sorting the last row became first, 2nd last 2nd and so on"
   ]
  },
  {
   "cell_type": "code",
   "execution_count": 7,
   "id": "4031e4e0-9965-4f61-ae34-657b7a183d95",
   "metadata": {},
   "outputs": [
    {
     "data": {
      "text/plain": [
       "array([[23, 16, 19],\n",
       "       [23, 21, 22],\n",
       "       [26, 30, 25],\n",
       "       [30, 38, 27]], dtype=int32)"
      ]
     },
     "execution_count": 7,
     "metadata": {},
     "output_type": "execute_result"
    }
   ],
   "source": [
    "np.sort(arr2, axis = 0) # col wise asc order"
   ]
  },
  {
   "cell_type": "code",
   "execution_count": 8,
   "id": "4d998929-b6a3-451e-9f00-d7f579b0bf5d",
   "metadata": {},
   "outputs": [
    {
     "data": {
      "text/plain": [
       "array([[30, 38, 27],\n",
       "       [26, 30, 25],\n",
       "       [23, 21, 22],\n",
       "       [23, 16, 19]], dtype=int32)"
      ]
     },
     "execution_count": 8,
     "metadata": {},
     "output_type": "execute_result"
    }
   ],
   "source": [
    "np.sort(arr2, axis = 0)[::-1] # col wise desc order"
   ]
  },
  {
   "cell_type": "markdown",
   "id": "d4b12def-6daf-4db6-a13e-915c8307b693",
   "metadata": {},
   "source": [
    "#### concatenate() : extends the dimensions"
   ]
  },
  {
   "cell_type": "code",
   "execution_count": 9,
   "id": "08135bbe-7268-4958-a05e-b8ae80db8810",
   "metadata": {},
   "outputs": [
    {
     "data": {
      "text/plain": [
       "array([1, 3, 6, 4, 8, 3, 9])"
      ]
     },
     "execution_count": 9,
     "metadata": {},
     "output_type": "execute_result"
    }
   ],
   "source": [
    "arr1"
   ]
  },
  {
   "cell_type": "code",
   "execution_count": 10,
   "id": "78cf3c6a-babf-45e4-b820-b3288006b28d",
   "metadata": {},
   "outputs": [
    {
     "data": {
      "text/plain": [
       "array([2, 4, 2, 6, 7, 8, 5])"
      ]
     },
     "execution_count": 10,
     "metadata": {},
     "output_type": "execute_result"
    }
   ],
   "source": [
    "arr3 = np.array([2,4,2,6,7,8,5])\n",
    "arr3"
   ]
  },
  {
   "cell_type": "code",
   "execution_count": 11,
   "id": "7c17d44e-4aea-498a-bcb2-4d9d056a3212",
   "metadata": {},
   "outputs": [
    {
     "data": {
      "text/plain": [
       "array([1, 3, 6, 4, 8, 3, 9, 2, 4, 2, 6, 7, 8, 5])"
      ]
     },
     "execution_count": 11,
     "metadata": {},
     "output_type": "execute_result"
    }
   ],
   "source": [
    "np.concatenate((arr1,arr3)) # "
   ]
  },
  {
   "cell_type": "code",
   "execution_count": 12,
   "id": "5709a3fa-d106-467b-ae14-ce6828e94e17",
   "metadata": {},
   "outputs": [
    {
     "data": {
      "text/plain": [
       "array([[30, 30, 25],\n",
       "       [23, 21, 19],\n",
       "       [26, 38, 22],\n",
       "       [23, 16, 27]], dtype=int32)"
      ]
     },
     "execution_count": 12,
     "metadata": {},
     "output_type": "execute_result"
    }
   ],
   "source": [
    "arr2"
   ]
  },
  {
   "cell_type": "code",
   "execution_count": 13,
   "id": "daeee4e1-5ee8-4c75-9151-ef114c044d84",
   "metadata": {},
   "outputs": [
    {
     "data": {
      "text/plain": [
       "array([[10, 11, 12],\n",
       "       [13, 14, 15],\n",
       "       [16, 17, 18],\n",
       "       [19, 20, 21]])"
      ]
     },
     "execution_count": 13,
     "metadata": {},
     "output_type": "execute_result"
    }
   ],
   "source": [
    "arr4 = np.arange(10,22).reshape(4,3)\n",
    "arr4"
   ]
  },
  {
   "cell_type": "code",
   "execution_count": 14,
   "id": "aaaac242-131f-40c3-bfea-fce801d1dda4",
   "metadata": {},
   "outputs": [
    {
     "data": {
      "text/plain": [
       "array([[30, 30, 25],\n",
       "       [23, 21, 19],\n",
       "       [26, 38, 22],\n",
       "       [23, 16, 27],\n",
       "       [10, 11, 12],\n",
       "       [13, 14, 15],\n",
       "       [16, 17, 18],\n",
       "       [19, 20, 21]])"
      ]
     },
     "execution_count": 14,
     "metadata": {},
     "output_type": "execute_result"
    }
   ],
   "source": [
    "np.concatenate((arr2,arr4)) # row wise /  vertical conatenation by default"
   ]
  },
  {
   "cell_type": "code",
   "execution_count": 15,
   "id": "50cc2ac1-c59a-477e-92da-a50b7be6c279",
   "metadata": {},
   "outputs": [
    {
     "data": {
      "text/plain": [
       "array([[33, 20, 30],\n",
       "       [25, 43, 49],\n",
       "       [25, 44, 24],\n",
       "       [23, 42, 38],\n",
       "       [41, 27, 32],\n",
       "       [29, 29, 27]], dtype=int32)"
      ]
     },
     "execution_count": 15,
     "metadata": {},
     "output_type": "execute_result"
    }
   ],
   "source": [
    "arr5 = np.random.randint(20,50,18).reshape(6,3)\n",
    "arr5"
   ]
  },
  {
   "cell_type": "code",
   "execution_count": 16,
   "id": "bacd79c2-300d-4f12-b887-1f1e81f8108f",
   "metadata": {},
   "outputs": [
    {
     "data": {
      "text/plain": [
       "array([[10, 11, 12],\n",
       "       [13, 14, 15],\n",
       "       [16, 17, 18],\n",
       "       [19, 20, 21],\n",
       "       [33, 20, 30],\n",
       "       [25, 43, 49],\n",
       "       [25, 44, 24],\n",
       "       [23, 42, 38],\n",
       "       [41, 27, 32],\n",
       "       [29, 29, 27]])"
      ]
     },
     "execution_count": 16,
     "metadata": {},
     "output_type": "execute_result"
    }
   ],
   "source": [
    "np.concatenate((arr4,arr5))  # shape of arrays : (4,3) , (6,3)"
   ]
  },
  {
   "cell_type": "code",
   "execution_count": 17,
   "id": "d5c8af8b-8224-4b0d-b11f-1c3b44734a64",
   "metadata": {},
   "outputs": [
    {
     "data": {
      "text/plain": [
       "array([[30, 30, 25],\n",
       "       [23, 21, 19],\n",
       "       [26, 38, 22],\n",
       "       [23, 16, 27],\n",
       "       [10, 11, 12],\n",
       "       [13, 14, 15],\n",
       "       [16, 17, 18],\n",
       "       [19, 20, 21],\n",
       "       [33, 20, 30],\n",
       "       [25, 43, 49],\n",
       "       [25, 44, 24],\n",
       "       [23, 42, 38],\n",
       "       [41, 27, 32],\n",
       "       [29, 29, 27]])"
      ]
     },
     "execution_count": 17,
     "metadata": {},
     "output_type": "execute_result"
    }
   ],
   "source": [
    "np.concatenate((arr2,arr4,arr5)) # shape of arrays : (4,3) , (4,3) , (6,3)"
   ]
  },
  {
   "cell_type": "code",
   "execution_count": 18,
   "id": "735f5f7b-4160-4d89-acb7-85038afe50c3",
   "metadata": {},
   "outputs": [
    {
     "data": {
      "text/plain": [
       "array([[30, 30, 25],\n",
       "       [23, 21, 19],\n",
       "       [26, 38, 22],\n",
       "       [23, 16, 27],\n",
       "       [33, 20, 30],\n",
       "       [25, 43, 49],\n",
       "       [25, 44, 24],\n",
       "       [23, 42, 38],\n",
       "       [41, 27, 32],\n",
       "       [29, 29, 27]], dtype=int32)"
      ]
     },
     "execution_count": 18,
     "metadata": {},
     "output_type": "execute_result"
    }
   ],
   "source": [
    "np.concatenate((arr2,arr5),axis = 0) # row wise /  vertical conatenation when axis = 0"
   ]
  },
  {
   "cell_type": "code",
   "execution_count": 19,
   "id": "14e83cf9-bcaa-4b56-9b10-689f70a1c051",
   "metadata": {},
   "outputs": [
    {
     "data": {
      "text/plain": [
       "array([[30, 30, 25, 10, 11, 12],\n",
       "       [23, 21, 19, 13, 14, 15],\n",
       "       [26, 38, 22, 16, 17, 18],\n",
       "       [23, 16, 27, 19, 20, 21]])"
      ]
     },
     "execution_count": 19,
     "metadata": {},
     "output_type": "execute_result"
    }
   ],
   "source": [
    "np.concatenate((arr2,arr4),axis = 1) # col wise /  horizontal conatenation when axis = 1"
   ]
  },
  {
   "cell_type": "code",
   "execution_count": 20,
   "id": "5b39eed9-0c97-4495-bba4-80a186e2109a",
   "metadata": {},
   "outputs": [
    {
     "data": {
      "text/plain": [
       "array([[50, 51],\n",
       "       [52, 53],\n",
       "       [54, 55],\n",
       "       [56, 57]])"
      ]
     },
     "execution_count": 20,
     "metadata": {},
     "output_type": "execute_result"
    }
   ],
   "source": [
    "arr6 = np.arange(50,58).reshape(4,2)\n",
    "arr6"
   ]
  },
  {
   "cell_type": "code",
   "execution_count": 21,
   "id": "fd5eb2fc-e7e7-41ba-acb2-26975948ab16",
   "metadata": {},
   "outputs": [
    {
     "data": {
      "text/plain": [
       "array([[30, 30, 25, 50, 51],\n",
       "       [23, 21, 19, 52, 53],\n",
       "       [26, 38, 22, 54, 55],\n",
       "       [23, 16, 27, 56, 57]])"
      ]
     },
     "execution_count": 21,
     "metadata": {},
     "output_type": "execute_result"
    }
   ],
   "source": [
    "np.concatenate((arr2,arr6), axis = 1)  # shape of arrays : (4,3) , (4,2) "
   ]
  },
  {
   "cell_type": "code",
   "execution_count": 22,
   "id": "29cf954d-330a-4780-a6ab-7e64a42550e7",
   "metadata": {},
   "outputs": [
    {
     "data": {
      "text/plain": [
       "array([[50, 51, 52, 53, 54],\n",
       "       [55, 56, 57, 58, 59],\n",
       "       [60, 61, 62, 63, 64],\n",
       "       [65, 66, 67, 68, 69]])"
      ]
     },
     "execution_count": 22,
     "metadata": {},
     "output_type": "execute_result"
    }
   ],
   "source": [
    "arr7 =  np.arange(50,70).reshape(4,5)\n",
    "arr7"
   ]
  },
  {
   "cell_type": "code",
   "execution_count": 23,
   "id": "b8f21915-bdfc-46f7-864a-e936d6188df0",
   "metadata": {},
   "outputs": [
    {
     "data": {
      "text/plain": [
       "array([[30, 30, 25, 50, 51, 50, 51, 52, 53, 54],\n",
       "       [23, 21, 19, 52, 53, 55, 56, 57, 58, 59],\n",
       "       [26, 38, 22, 54, 55, 60, 61, 62, 63, 64],\n",
       "       [23, 16, 27, 56, 57, 65, 66, 67, 68, 69]])"
      ]
     },
     "execution_count": 23,
     "metadata": {},
     "output_type": "execute_result"
    }
   ],
   "source": [
    "np.concatenate((arr2,arr6,arr7), axis = 1)  # shape of arrays : (4,3) , (4,2) , (4,7)"
   ]
  },
  {
   "cell_type": "markdown",
   "id": "80aa6c37-9f10-4ed6-93d3-39d03c2360de",
   "metadata": {},
   "source": [
    "#### stack() : similar to concatenate, only difference is it increases dimensions and concatenation doesn't "
   ]
  },
  {
   "cell_type": "code",
   "execution_count": 24,
   "id": "8b1889e2-c888-4aac-95b3-2d5efc92cc77",
   "metadata": {},
   "outputs": [
    {
     "data": {
      "text/plain": [
       "array([1, 3, 6, 4, 8, 3, 9])"
      ]
     },
     "execution_count": 24,
     "metadata": {},
     "output_type": "execute_result"
    }
   ],
   "source": [
    "arr1"
   ]
  },
  {
   "cell_type": "code",
   "execution_count": 25,
   "id": "afe8383f-6f18-4ab4-81a6-061fe24d4803",
   "metadata": {},
   "outputs": [
    {
     "data": {
      "text/plain": [
       "array([2, 4, 2, 6, 7, 8, 5])"
      ]
     },
     "execution_count": 25,
     "metadata": {},
     "output_type": "execute_result"
    }
   ],
   "source": [
    "arr3"
   ]
  },
  {
   "cell_type": "code",
   "execution_count": 26,
   "id": "e1c4ad7f-cb5d-4a60-9893-72bd7c9cf7f6",
   "metadata": {},
   "outputs": [
    {
     "data": {
      "text/plain": [
       "array([[1, 3, 6, 4, 8, 3, 9],\n",
       "       [2, 4, 2, 6, 7, 8, 5]])"
      ]
     },
     "execution_count": 26,
     "metadata": {},
     "output_type": "execute_result"
    }
   ],
   "source": [
    "np.stack((arr1,arr3)) # 1d -> 2d  # axis = 0, rows increase"
   ]
  },
  {
   "cell_type": "code",
   "execution_count": 27,
   "id": "2037cb23-f9b5-4d00-8273-a3bbbbeafc69",
   "metadata": {},
   "outputs": [
    {
     "data": {
      "text/plain": [
       "array([[1, 2],\n",
       "       [3, 4],\n",
       "       [6, 2],\n",
       "       [4, 6],\n",
       "       [8, 7],\n",
       "       [3, 8],\n",
       "       [9, 5]])"
      ]
     },
     "execution_count": 27,
     "metadata": {},
     "output_type": "execute_result"
    }
   ],
   "source": [
    "np.stack((arr1,arr3), axis = 1)  # 1d -> 2d  # axis = 1, cols increase"
   ]
  },
  {
   "cell_type": "code",
   "execution_count": 28,
   "id": "d0e9826d-07cb-4748-9fff-3082dd107bf8",
   "metadata": {},
   "outputs": [
    {
     "data": {
      "text/plain": [
       "array([[30, 30, 25],\n",
       "       [23, 21, 19],\n",
       "       [26, 38, 22],\n",
       "       [23, 16, 27]], dtype=int32)"
      ]
     },
     "execution_count": 28,
     "metadata": {},
     "output_type": "execute_result"
    }
   ],
   "source": [
    "arr2"
   ]
  },
  {
   "cell_type": "code",
   "execution_count": 29,
   "id": "ba820a0f-169e-4e57-b219-8c3e9b23dab0",
   "metadata": {},
   "outputs": [
    {
     "data": {
      "text/plain": [
       "array([[10, 11, 12],\n",
       "       [13, 14, 15],\n",
       "       [16, 17, 18],\n",
       "       [19, 20, 21]])"
      ]
     },
     "execution_count": 29,
     "metadata": {},
     "output_type": "execute_result"
    }
   ],
   "source": [
    "arr4"
   ]
  },
  {
   "cell_type": "code",
   "execution_count": 30,
   "id": "1aebc1c6-a6c6-4984-8d55-1545a6d70e5f",
   "metadata": {},
   "outputs": [
    {
     "data": {
      "text/plain": [
       "array([[[30, 30, 25],\n",
       "        [23, 21, 19],\n",
       "        [26, 38, 22],\n",
       "        [23, 16, 27]],\n",
       "\n",
       "       [[10, 11, 12],\n",
       "        [13, 14, 15],\n",
       "        [16, 17, 18],\n",
       "        [19, 20, 21]]])"
      ]
     },
     "execution_count": 30,
     "metadata": {},
     "output_type": "execute_result"
    }
   ],
   "source": [
    "np.stack((arr2,arr4),axis = 0)  #2d->3d"
   ]
  },
  {
   "cell_type": "code",
   "execution_count": 31,
   "id": "c8f9e0e9-c45a-4dc5-b167-c9dc8926b06d",
   "metadata": {},
   "outputs": [
    {
     "data": {
      "text/plain": [
       "array([[[30, 30, 25],\n",
       "        [10, 11, 12]],\n",
       "\n",
       "       [[23, 21, 19],\n",
       "        [13, 14, 15]],\n",
       "\n",
       "       [[26, 38, 22],\n",
       "        [16, 17, 18]],\n",
       "\n",
       "       [[23, 16, 27],\n",
       "        [19, 20, 21]]])"
      ]
     },
     "execution_count": 31,
     "metadata": {},
     "output_type": "execute_result"
    }
   ],
   "source": [
    "np.stack((arr2,arr4),axis = 1)  "
   ]
  },
  {
   "cell_type": "markdown",
   "id": "a3db65fc-82db-4ec7-9129-1f8c8b985301",
   "metadata": {},
   "source": [
    "#### append()"
   ]
  },
  {
   "cell_type": "code",
   "execution_count": 32,
   "id": "52fedf40-1b28-4753-be15-cdca87a99afc",
   "metadata": {},
   "outputs": [
    {
     "data": {
      "text/plain": [
       "array([1, 3, 6, 4, 8, 3, 9])"
      ]
     },
     "execution_count": 32,
     "metadata": {},
     "output_type": "execute_result"
    }
   ],
   "source": [
    "arr1"
   ]
  },
  {
   "cell_type": "code",
   "execution_count": 33,
   "id": "b8277a87-df2f-4c8d-9ae5-0054ab936e99",
   "metadata": {},
   "outputs": [
    {
     "data": {
      "text/plain": [
       "array([2, 4, 2, 6, 7, 8, 5])"
      ]
     },
     "execution_count": 33,
     "metadata": {},
     "output_type": "execute_result"
    }
   ],
   "source": [
    "arr3"
   ]
  },
  {
   "cell_type": "code",
   "execution_count": 34,
   "id": "9400f6f4-77ed-4261-9581-f8d6050296ee",
   "metadata": {},
   "outputs": [
    {
     "data": {
      "text/plain": [
       "array([1, 3, 6, 4, 8, 3, 9, 2, 4, 2, 6, 7, 8, 5])"
      ]
     },
     "execution_count": 34,
     "metadata": {},
     "output_type": "execute_result"
    }
   ],
   "source": [
    " # 1d arrays:\n",
    "\n",
    "np.append(arr1,arr3)"
   ]
  },
  {
   "cell_type": "code",
   "execution_count": 35,
   "id": "0cc9525c-ad10-44fb-ae8f-1dd129595813",
   "metadata": {},
   "outputs": [
    {
     "data": {
      "text/plain": [
       "array([[30, 30, 25],\n",
       "       [23, 21, 19],\n",
       "       [26, 38, 22],\n",
       "       [23, 16, 27]], dtype=int32)"
      ]
     },
     "execution_count": 35,
     "metadata": {},
     "output_type": "execute_result"
    }
   ],
   "source": [
    "arr2"
   ]
  },
  {
   "cell_type": "code",
   "execution_count": 36,
   "id": "c762e4a5-6eeb-47c8-a6d3-859d80efa1d4",
   "metadata": {},
   "outputs": [
    {
     "data": {
      "text/plain": [
       "array([[33, 20, 30],\n",
       "       [25, 43, 49],\n",
       "       [25, 44, 24],\n",
       "       [23, 42, 38],\n",
       "       [41, 27, 32],\n",
       "       [29, 29, 27]], dtype=int32)"
      ]
     },
     "execution_count": 36,
     "metadata": {},
     "output_type": "execute_result"
    }
   ],
   "source": [
    "arr5"
   ]
  },
  {
   "cell_type": "code",
   "execution_count": 37,
   "id": "4511cdc0-04cb-40a3-8132-bafe3cf478cf",
   "metadata": {},
   "outputs": [
    {
     "data": {
      "text/plain": [
       "array([30, 30, 25, 23, 21, 19, 26, 38, 22, 23, 16, 27, 33, 20, 30, 25, 43,\n",
       "       49, 25, 44, 24, 23, 42, 38, 41, 27, 32, 29, 29, 27], dtype=int32)"
      ]
     },
     "execution_count": 37,
     "metadata": {},
     "output_type": "execute_result"
    }
   ],
   "source": [
    "np.append(arr2,arr5)"
   ]
  },
  {
   "cell_type": "code",
   "execution_count": 38,
   "id": "77f77fde-ba01-479c-89e2-93dbf4979fdd",
   "metadata": {},
   "outputs": [
    {
     "data": {
      "text/plain": [
       "array([[10, 11, 12],\n",
       "       [13, 14, 15],\n",
       "       [16, 17, 18],\n",
       "       [19, 20, 21]])"
      ]
     },
     "execution_count": 38,
     "metadata": {},
     "output_type": "execute_result"
    }
   ],
   "source": [
    "arr4"
   ]
  },
  {
   "cell_type": "code",
   "execution_count": 39,
   "id": "52e37f18-c868-438b-94ce-613749bf9984",
   "metadata": {},
   "outputs": [
    {
     "data": {
      "text/plain": [
       "array([[30, 30, 25, 10, 11, 12],\n",
       "       [23, 21, 19, 13, 14, 15],\n",
       "       [26, 38, 22, 16, 17, 18],\n",
       "       [23, 16, 27, 19, 20, 21]])"
      ]
     },
     "execution_count": 39,
     "metadata": {},
     "output_type": "execute_result"
    }
   ],
   "source": [
    "np.append(arr2,arr4, axis = 1)  # no. of rows must be same if axis = 1, cols may differ in no."
   ]
  },
  {
   "cell_type": "code",
   "execution_count": 40,
   "id": "1dc2fb3b-549e-4776-8b57-135e5d57e814",
   "metadata": {},
   "outputs": [
    {
     "data": {
      "text/plain": [
       "array([[50, 51],\n",
       "       [52, 53],\n",
       "       [54, 55],\n",
       "       [56, 57]])"
      ]
     },
     "execution_count": 40,
     "metadata": {},
     "output_type": "execute_result"
    }
   ],
   "source": [
    "arr6"
   ]
  },
  {
   "cell_type": "code",
   "execution_count": 41,
   "id": "8d75ba27-e3ea-45a3-be93-30b8f593a90f",
   "metadata": {},
   "outputs": [
    {
     "data": {
      "text/plain": [
       "array([[30, 30, 25],\n",
       "       [23, 21, 19],\n",
       "       [26, 38, 22],\n",
       "       [23, 16, 27],\n",
       "       [33, 20, 30],\n",
       "       [25, 43, 49],\n",
       "       [25, 44, 24],\n",
       "       [23, 42, 38],\n",
       "       [41, 27, 32],\n",
       "       [29, 29, 27]], dtype=int32)"
      ]
     },
     "execution_count": 41,
     "metadata": {},
     "output_type": "execute_result"
    }
   ],
   "source": [
    "np.append(arr2,arr5, axis = 0)  # no. of cols must be same if axis = 0, rows may differ in no."
   ]
  },
  {
   "cell_type": "markdown",
   "id": "1eb4e879-8567-4ea7-b3f0-b02fd8460cfc",
   "metadata": {},
   "source": [
    "#### cumsum() & cumprod()"
   ]
  },
  {
   "cell_type": "code",
   "execution_count": 42,
   "id": "8d266dab-de5a-4b08-a441-f693add33b0d",
   "metadata": {},
   "outputs": [
    {
     "data": {
      "text/plain": [
       "array([1, 3, 6, 4, 8, 3, 9])"
      ]
     },
     "execution_count": 42,
     "metadata": {},
     "output_type": "execute_result"
    }
   ],
   "source": [
    "arr1"
   ]
  },
  {
   "cell_type": "code",
   "execution_count": 43,
   "id": "43be45a5-b784-4db2-b022-679ce8400495",
   "metadata": {},
   "outputs": [
    {
     "data": {
      "text/plain": [
       "array([ 1,  4, 10, 14, 22, 25, 34])"
      ]
     },
     "execution_count": 43,
     "metadata": {},
     "output_type": "execute_result"
    }
   ],
   "source": [
    "np.cumsum(arr1)"
   ]
  },
  {
   "cell_type": "code",
   "execution_count": 44,
   "id": "1713a490-80cf-4af8-9b50-c112c5ad1877",
   "metadata": {},
   "outputs": [
    {
     "data": {
      "text/plain": [
       "array([[30, 30, 25],\n",
       "       [23, 21, 19],\n",
       "       [26, 38, 22],\n",
       "       [23, 16, 27]], dtype=int32)"
      ]
     },
     "execution_count": 44,
     "metadata": {},
     "output_type": "execute_result"
    }
   ],
   "source": [
    "arr2"
   ]
  },
  {
   "cell_type": "code",
   "execution_count": 45,
   "id": "3be6a017-15ee-4b8c-8d02-3b73fa7272ac",
   "metadata": {},
   "outputs": [
    {
     "data": {
      "text/plain": [
       "array([ 30,  60,  85, 108, 129, 148, 174, 212, 234, 257, 273, 300])"
      ]
     },
     "execution_count": 45,
     "metadata": {},
     "output_type": "execute_result"
    }
   ],
   "source": [
    "np.cumsum(arr2) # 2d -> 1d if axis not mentioned"
   ]
  },
  {
   "cell_type": "code",
   "execution_count": 46,
   "id": "6082bc93-2039-4148-8009-871c6a42a2f7",
   "metadata": {},
   "outputs": [
    {
     "data": {
      "text/plain": [
       "array([[ 30,  30,  25],\n",
       "       [ 53,  51,  44],\n",
       "       [ 79,  89,  66],\n",
       "       [102, 105,  93]])"
      ]
     },
     "execution_count": 46,
     "metadata": {},
     "output_type": "execute_result"
    }
   ],
   "source": [
    "np.cumsum(arr2, axis= 0) # col wise"
   ]
  },
  {
   "cell_type": "code",
   "execution_count": 47,
   "id": "22b0ef35-d0ac-4798-abd0-0cb1a42ba12f",
   "metadata": {},
   "outputs": [
    {
     "data": {
      "text/plain": [
       "array([[30, 60, 85],\n",
       "       [23, 44, 63],\n",
       "       [26, 64, 86],\n",
       "       [23, 39, 66]])"
      ]
     },
     "execution_count": 47,
     "metadata": {},
     "output_type": "execute_result"
    }
   ],
   "source": [
    "np.cumsum(arr2, axis= 1) # row wise"
   ]
  },
  {
   "cell_type": "code",
   "execution_count": 48,
   "id": "c4ee2b62-eeea-4417-a0a2-20756fce1047",
   "metadata": {},
   "outputs": [
    {
     "data": {
      "text/plain": [
       "array([    1,     3,    18,    72,   576,  1728, 15552])"
      ]
     },
     "execution_count": 48,
     "metadata": {},
     "output_type": "execute_result"
    }
   ],
   "source": [
    "np.cumprod(arr1)"
   ]
  },
  {
   "cell_type": "code",
   "execution_count": 49,
   "id": "d564d989-f082-4a03-9df9-58c6eab89dd2",
   "metadata": {},
   "outputs": [
    {
     "data": {
      "text/plain": [
       "array([[   30,   900, 22500],\n",
       "       [   23,   483,  9177],\n",
       "       [   26,   988, 21736],\n",
       "       [   23,   368,  9936]])"
      ]
     },
     "execution_count": 49,
     "metadata": {},
     "output_type": "execute_result"
    }
   ],
   "source": [
    "np.cumprod(arr2, axis = 1)"
   ]
  },
  {
   "cell_type": "code",
   "execution_count": 50,
   "id": "245fdeb7-5b45-415f-a182-7442bd54f71f",
   "metadata": {},
   "outputs": [
    {
     "data": {
      "text/plain": [
       "array([[    30,     30,     25],\n",
       "       [   690,    630,    475],\n",
       "       [ 17940,  23940,  10450],\n",
       "       [412620, 383040, 282150]])"
      ]
     },
     "execution_count": 50,
     "metadata": {},
     "output_type": "execute_result"
    }
   ],
   "source": [
    "np.cumprod(arr2, axis = 0)"
   ]
  },
  {
   "cell_type": "markdown",
   "id": "45e77e59-a899-423a-83ec-15d35c4909d5",
   "metadata": {},
   "source": [
    "#### percentile()"
   ]
  },
  {
   "cell_type": "code",
   "execution_count": 51,
   "id": "2341c2ac-adc8-4782-a7bb-1b21221c76d7",
   "metadata": {},
   "outputs": [
    {
     "data": {
      "text/plain": [
       "array([1, 3, 6, 4, 8, 3, 9])"
      ]
     },
     "execution_count": 51,
     "metadata": {},
     "output_type": "execute_result"
    }
   ],
   "source": [
    "arr1"
   ]
  },
  {
   "cell_type": "code",
   "execution_count": 52,
   "id": "dc5c1812-9f96-4b57-b648-2dd25364c9f9",
   "metadata": {},
   "outputs": [
    {
     "data": {
      "text/plain": [
       "np.float64(3.0)"
      ]
     },
     "execution_count": 52,
     "metadata": {},
     "output_type": "execute_result"
    }
   ],
   "source": [
    "np.percentile(arr1,20) # 20 percentile of arr1"
   ]
  },
  {
   "cell_type": "code",
   "execution_count": 53,
   "id": "c65f31c5-432e-43b3-a8f3-1f819cc3939f",
   "metadata": {},
   "outputs": [
    {
     "data": {
      "text/plain": [
       "np.float64(4.0)"
      ]
     },
     "execution_count": 53,
     "metadata": {},
     "output_type": "execute_result"
    }
   ],
   "source": [
    "np.percentile(arr1,50)"
   ]
  },
  {
   "cell_type": "code",
   "execution_count": 54,
   "id": "99f64e30-5c6e-4661-aaa5-2deaa6919ceb",
   "metadata": {},
   "outputs": [
    {
     "data": {
      "text/plain": [
       "np.float64(9.0)"
      ]
     },
     "execution_count": 54,
     "metadata": {},
     "output_type": "execute_result"
    }
   ],
   "source": [
    "np.percentile(arr1,100) # max num"
   ]
  },
  {
   "cell_type": "code",
   "execution_count": 55,
   "id": "00b463da-7922-4950-998c-e3643a5a0fff",
   "metadata": {},
   "outputs": [
    {
     "data": {
      "text/plain": [
       "np.float64(1.0)"
      ]
     },
     "execution_count": 55,
     "metadata": {},
     "output_type": "execute_result"
    }
   ],
   "source": [
    "np.percentile(arr1,0) # min num"
   ]
  },
  {
   "cell_type": "code",
   "execution_count": 56,
   "id": "9fbc4353-b26f-4cf0-99e2-8bfe906a0509",
   "metadata": {},
   "outputs": [
    {
     "data": {
      "text/plain": [
       "array([[30, 30, 25],\n",
       "       [23, 21, 19],\n",
       "       [26, 38, 22],\n",
       "       [23, 16, 27]], dtype=int32)"
      ]
     },
     "execution_count": 56,
     "metadata": {},
     "output_type": "execute_result"
    }
   ],
   "source": [
    "arr2"
   ]
  },
  {
   "cell_type": "code",
   "execution_count": 57,
   "id": "7a1b4655-bc55-4e37-bc0f-4129916201d6",
   "metadata": {},
   "outputs": [
    {
     "data": {
      "text/plain": [
       "array([30., 23., 38., 27.])"
      ]
     },
     "execution_count": 57,
     "metadata": {},
     "output_type": "execute_result"
    }
   ],
   "source": [
    "np.percentile (arr2,100, axis = 1) # row wise 100 percentile"
   ]
  },
  {
   "cell_type": "code",
   "execution_count": 58,
   "id": "0aca77c8-8ab7-4611-8dcc-90e239b56cec",
   "metadata": {},
   "outputs": [
    {
     "data": {
      "text/plain": [
       "array([24.77, 26.31, 23.77])"
      ]
     },
     "execution_count": 58,
     "metadata": {},
     "output_type": "execute_result"
    }
   ],
   "source": [
    "np.percentile (arr2,53 , axis = 0) # row wise 100 percentile"
   ]
  },
  {
   "cell_type": "markdown",
   "id": "ba4910cc-3cdc-45c8-a12a-30f5f8c96532",
   "metadata": {},
   "source": [
    "#### argmax() & argmin()"
   ]
  },
  {
   "cell_type": "code",
   "execution_count": 59,
   "id": "33b30b09-8bc5-412a-b462-a29bd57a2aa7",
   "metadata": {},
   "outputs": [
    {
     "data": {
      "text/plain": [
       "array([1, 3, 6, 4, 8, 3, 9])"
      ]
     },
     "execution_count": 59,
     "metadata": {},
     "output_type": "execute_result"
    }
   ],
   "source": [
    "arr1"
   ]
  },
  {
   "cell_type": "code",
   "execution_count": 60,
   "id": "b1b9e4e3-60fc-4990-ac84-7d52912cfde6",
   "metadata": {},
   "outputs": [
    {
     "data": {
      "text/plain": [
       "np.int64(6)"
      ]
     },
     "execution_count": 60,
     "metadata": {},
     "output_type": "execute_result"
    }
   ],
   "source": [
    "np.argmax(arr1) # returns index of max element"
   ]
  },
  {
   "cell_type": "code",
   "execution_count": 61,
   "id": "779043cd-d4ae-4c25-89fd-7ab2c3caa026",
   "metadata": {},
   "outputs": [
    {
     "data": {
      "text/plain": [
       "array([[30, 30, 25],\n",
       "       [23, 21, 19],\n",
       "       [26, 38, 22],\n",
       "       [23, 16, 27]], dtype=int32)"
      ]
     },
     "execution_count": 61,
     "metadata": {},
     "output_type": "execute_result"
    }
   ],
   "source": [
    "arr2"
   ]
  },
  {
   "cell_type": "code",
   "execution_count": 62,
   "id": "35d12609-7668-4605-90b0-652073f9ecc5",
   "metadata": {},
   "outputs": [
    {
     "data": {
      "text/plain": [
       "np.int64(7)"
      ]
     },
     "execution_count": 62,
     "metadata": {},
     "output_type": "execute_result"
    }
   ],
   "source": [
    "np.argmax(arr2) # flattens the array into 1d array and then returns the index of max element"
   ]
  },
  {
   "cell_type": "code",
   "execution_count": 63,
   "id": "fbd9b6cb-d6e5-4092-b423-b73fe560d6d5",
   "metadata": {},
   "outputs": [
    {
     "data": {
      "text/plain": [
       "array([0, 2, 3])"
      ]
     },
     "execution_count": 63,
     "metadata": {},
     "output_type": "execute_result"
    }
   ],
   "source": [
    "np.argmax(arr2, axis = 0)"
   ]
  },
  {
   "cell_type": "code",
   "execution_count": 64,
   "id": "02b5623f-4cea-493f-9b61-aee209ca4975",
   "metadata": {},
   "outputs": [
    {
     "data": {
      "text/plain": [
       "array([1, 3, 1])"
      ]
     },
     "execution_count": 64,
     "metadata": {},
     "output_type": "execute_result"
    }
   ],
   "source": [
    "np.argmin(arr2, axis = 0)"
   ]
  },
  {
   "cell_type": "markdown",
   "id": "897225df-ad49-498d-aae0-87dad6b72776",
   "metadata": {},
   "source": [
    "##### unique()"
   ]
  },
  {
   "cell_type": "code",
   "execution_count": 65,
   "id": "d702d05f-1772-45ad-bee5-3d38fb2a952a",
   "metadata": {},
   "outputs": [
    {
     "data": {
      "text/plain": [
       "array([16, 19, 21, 22, 23, 25, 26, 27, 30, 38], dtype=int32)"
      ]
     },
     "execution_count": 65,
     "metadata": {},
     "output_type": "execute_result"
    }
   ],
   "source": [
    "np.unique(arr2)"
   ]
  },
  {
   "cell_type": "markdown",
   "id": "58ee85be-a3e1-43e1-a126-18a702816893",
   "metadata": {},
   "source": [
    "##### expand_dims()"
   ]
  },
  {
   "cell_type": "code",
   "execution_count": 66,
   "id": "a4a90ee7-edeb-4f70-8d09-2361d20d3004",
   "metadata": {},
   "outputs": [
    {
     "data": {
      "text/plain": [
       "(7,)"
      ]
     },
     "execution_count": 66,
     "metadata": {},
     "output_type": "execute_result"
    }
   ],
   "source": [
    "arr1.shape"
   ]
  },
  {
   "cell_type": "code",
   "execution_count": 67,
   "id": "3ff4696a-7e91-4b0d-b806-3e729efc5865",
   "metadata": {},
   "outputs": [
    {
     "data": {
      "text/plain": [
       "array([[1, 3, 6, 4, 8, 3, 9]])"
      ]
     },
     "execution_count": 67,
     "metadata": {},
     "output_type": "execute_result"
    }
   ],
   "source": [
    "np.expand_dims(arr1, axis = 0)"
   ]
  },
  {
   "cell_type": "code",
   "execution_count": 68,
   "id": "dff93af0-848a-4a7e-9203-3365b1351cf0",
   "metadata": {},
   "outputs": [
    {
     "data": {
      "text/plain": [
       "(1, 7)"
      ]
     },
     "execution_count": 68,
     "metadata": {},
     "output_type": "execute_result"
    }
   ],
   "source": [
    "np.expand_dims(arr1, axis = 0).shape"
   ]
  },
  {
   "cell_type": "code",
   "execution_count": 69,
   "id": "1c52cfa4-e839-4cea-9450-90d4d742ee85",
   "metadata": {},
   "outputs": [
    {
     "data": {
      "text/plain": [
       "array([[1],\n",
       "       [3],\n",
       "       [6],\n",
       "       [4],\n",
       "       [8],\n",
       "       [3],\n",
       "       [9]])"
      ]
     },
     "execution_count": 69,
     "metadata": {},
     "output_type": "execute_result"
    }
   ],
   "source": [
    "np.expand_dims(arr1, axis = 1)"
   ]
  },
  {
   "cell_type": "code",
   "execution_count": 70,
   "id": "8f84f282-f9a2-4007-981a-b491a303202b",
   "metadata": {},
   "outputs": [
    {
     "data": {
      "text/plain": [
       "(7, 1)"
      ]
     },
     "execution_count": 70,
     "metadata": {},
     "output_type": "execute_result"
    }
   ],
   "source": [
    "np.expand_dims(arr1, axis = 1).shape"
   ]
  },
  {
   "cell_type": "markdown",
   "id": "f6898be1-3046-4fbf-914c-f1980c60f18e",
   "metadata": {},
   "source": [
    "#### where()"
   ]
  },
  {
   "cell_type": "code",
   "execution_count": 71,
   "id": "30e45c7b-6b12-451c-9ccf-9b5940aae3b0",
   "metadata": {},
   "outputs": [
    {
     "data": {
      "text/plain": [
       "array([1, 3, 6, 4, 8, 3, 9])"
      ]
     },
     "execution_count": 71,
     "metadata": {},
     "output_type": "execute_result"
    }
   ],
   "source": [
    "arr1"
   ]
  },
  {
   "cell_type": "code",
   "execution_count": 72,
   "id": "f3a56e83-b483-43ea-94ef-1118a9f88980",
   "metadata": {},
   "outputs": [
    {
     "data": {
      "text/plain": [
       "(array([4, 6]),)"
      ]
     },
     "execution_count": 72,
     "metadata": {},
     "output_type": "execute_result"
    }
   ],
   "source": [
    "np.where(arr1>6) # indexes of elements >6"
   ]
  },
  {
   "cell_type": "code",
   "execution_count": 73,
   "id": "3300cbee-0d79-42a9-80ef-67c2d4d0653f",
   "metadata": {},
   "outputs": [
    {
     "data": {
      "text/plain": [
       "array([8, 9])"
      ]
     },
     "execution_count": 73,
     "metadata": {},
     "output_type": "execute_result"
    }
   ],
   "source": [
    "arr1[np.where(arr1>6)] # elements >6"
   ]
  },
  {
   "cell_type": "code",
   "execution_count": 74,
   "id": "be306c5e-54b9-47a6-a8ca-739a7617b20a",
   "metadata": {},
   "outputs": [
    {
     "data": {
      "text/plain": [
       "array([[30, 30, 25],\n",
       "       [23, 21, 19],\n",
       "       [26, 38, 22],\n",
       "       [23, 16, 27]], dtype=int32)"
      ]
     },
     "execution_count": 74,
     "metadata": {},
     "output_type": "execute_result"
    }
   ],
   "source": [
    "arr2"
   ]
  },
  {
   "cell_type": "code",
   "execution_count": 75,
   "id": "87eb559c-a484-4db6-b243-88a4729e4cc8",
   "metadata": {},
   "outputs": [
    {
     "data": {
      "text/plain": [
       "(array([0, 1, 1, 1, 2, 2, 3, 3, 3]), array([2, 0, 1, 2, 0, 2, 0, 1, 2]))"
      ]
     },
     "execution_count": 75,
     "metadata": {},
     "output_type": "execute_result"
    }
   ],
   "source": [
    "np.where(arr2<30)  # returns tuple of two arrays one having index rowise and another col wise"
   ]
  },
  {
   "cell_type": "code",
   "execution_count": 76,
   "id": "a6998467-12bb-43eb-b47a-c66db0abd1f5",
   "metadata": {},
   "outputs": [
    {
     "data": {
      "text/plain": [
       "array([[30, 30, 25],\n",
       "       [23, 21, 19],\n",
       "       [26,  0, 22],\n",
       "       [23, 16, 27]], dtype=int32)"
      ]
     },
     "execution_count": 76,
     "metadata": {},
     "output_type": "execute_result"
    }
   ],
   "source": [
    "# replace elements greater than 30 with 0\n",
    "np.where(arr2>30, 0, arr2)"
   ]
  },
  {
   "cell_type": "code",
   "execution_count": 77,
   "id": "5c16178a-8362-483a-9f38-9313f9079899",
   "metadata": {},
   "outputs": [
    {
     "data": {
      "text/plain": [
       "array([['30', '30', '25'],\n",
       "       ['23', '21', '19'],\n",
       "       ['26', 'true', '22'],\n",
       "       ['23', '16', '27']], dtype='<U11')"
      ]
     },
     "execution_count": 77,
     "metadata": {},
     "output_type": "execute_result"
    }
   ],
   "source": [
    "# replace elements greater than 30 with true\n",
    "np.where(arr2>30, \"true\", arr2)"
   ]
  },
  {
   "cell_type": "markdown",
   "id": "9c4f3acc-a94d-4f1e-bde4-5dcdec0d95ee",
   "metadata": {},
   "source": [
    "#### histogram()"
   ]
  },
  {
   "cell_type": "code",
   "execution_count": 78,
   "id": "95f2b289-61ad-4aa0-841b-34ce754752d8",
   "metadata": {},
   "outputs": [
    {
     "data": {
      "text/plain": [
       "(array([3, 3]), array([0, 4, 8]))"
      ]
     },
     "execution_count": 78,
     "metadata": {},
     "output_type": "execute_result"
    }
   ],
   "source": [
    "np.histogram(arr1, bins=[0,4,8]) # 3 ele in 0-4, 3 in 4-8 range "
   ]
  },
  {
   "cell_type": "code",
   "execution_count": 79,
   "id": "532d57d3-e816-4465-92e2-15d4f85614fc",
   "metadata": {},
   "outputs": [
    {
     "data": {
      "text/plain": [
       "(array([ 0, 19, 12, 12, 17]), array([ 0, 10, 20, 30, 40, 50]))"
      ]
     },
     "execution_count": 79,
     "metadata": {},
     "output_type": "execute_result"
    }
   ],
   "source": [
    "np.histogram(np.random.randint(10,50,60), bins= [0,10,20,30,40,50])"
   ]
  },
  {
   "cell_type": "markdown",
   "id": "59ec8836-7606-4a0a-bef4-47b03948b118",
   "metadata": {},
   "source": [
    "#### corrcoef()"
   ]
  },
  {
   "cell_type": "code",
   "execution_count": 80,
   "id": "fe4d8c6f-55fd-4398-8be9-3be8b7218bfb",
   "metadata": {},
   "outputs": [
    {
     "data": {
      "text/plain": [
       "array([[1.        , 0.55014856],\n",
       "       [0.55014856, 1.        ]])"
      ]
     },
     "execution_count": 80,
     "metadata": {},
     "output_type": "execute_result"
    }
   ],
   "source": [
    "salary = np.array([2000,4000,3000,6000])\n",
    "experience = np.array([1,5,6,5])\n",
    "np.corrcoef(salary, experience) # positive relation means increase in exp results increase in salary "
   ]
  },
  {
   "cell_type": "code",
   "execution_count": 81,
   "id": "359957b9-7189-470c-b9db-1fb39ae52512",
   "metadata": {},
   "outputs": [
    {
     "data": {
      "text/plain": [
       "array([[ 1.        , -0.69693205],\n",
       "       [-0.69693205,  1.        ]])"
      ]
     },
     "execution_count": 81,
     "metadata": {},
     "output_type": "execute_result"
    }
   ],
   "source": [
    "salary = np.array([2000,4000,3000,6000])\n",
    "experience = np.array([6,5,2,1])\n",
    "np.corrcoef(salary, experience) # negative relation means increase in exp results decrease in salary "
   ]
  },
  {
   "cell_type": "code",
   "execution_count": 82,
   "id": "a1eb3707-544c-45fb-97b1-8122e4e7fb40",
   "metadata": {},
   "outputs": [
    {
     "name": "stdout",
     "output_type": "stream",
     "text": [
      "[[1.         0.37628835]\n",
      " [0.37628835 1.        ]]\n"
     ]
    }
   ],
   "source": [
    "x = np.array([1, 2, 3, 4, 5])\n",
    "y = np.array([7, 2, 9, 4, 10])  # Random pattern, no trend\n",
    "print(np.corrcoef(x, y))\n"
   ]
  },
  {
   "cell_type": "code",
   "execution_count": 116,
   "id": "97d24e80-f575-457d-8d5c-2b569d00b4c1",
   "metadata": {},
   "outputs": [
    {
     "data": {
      "text/plain": [
       "array([[10, 11, 12],\n",
       "       [13, 14, 15],\n",
       "       [16, 17, 18],\n",
       "       [19, 20, 21]])"
      ]
     },
     "execution_count": 116,
     "metadata": {},
     "output_type": "execute_result"
    }
   ],
   "source": [
    "arr4"
   ]
  },
  {
   "cell_type": "code",
   "execution_count": 117,
   "id": "61d8b900-0c6e-4629-9a8c-aff2c56ff092",
   "metadata": {},
   "outputs": [
    {
     "data": {
      "text/plain": [
       "array([[33, 20, 30],\n",
       "       [25, 43, 49],\n",
       "       [25, 44, 24],\n",
       "       [23, 42, 38],\n",
       "       [41, 27, 32],\n",
       "       [29, 29, 27]], dtype=int32)"
      ]
     },
     "execution_count": 117,
     "metadata": {},
     "output_type": "execute_result"
    }
   ],
   "source": [
    "arr5"
   ]
  },
  {
   "cell_type": "code",
   "execution_count": 118,
   "id": "421e0149-0aab-41d7-9cce-41c4c1145f03",
   "metadata": {},
   "outputs": [
    {
     "data": {
      "text/plain": [
       "array([[ 1.        ,  1.        ,  1.        ,  1.        , -0.22036595,\n",
       "         0.96076892, -0.04436783,  0.74875312, -0.63428533, -0.8660254 ],\n",
       "       [ 1.        ,  1.        ,  1.        ,  1.        , -0.22036595,\n",
       "         0.96076892, -0.04436783,  0.74875312, -0.63428533, -0.8660254 ],\n",
       "       [ 1.        ,  1.        ,  1.        ,  1.        , -0.22036595,\n",
       "         0.96076892, -0.04436783,  0.74875312, -0.63428533, -0.8660254 ],\n",
       "       [ 1.        ,  1.        ,  1.        ,  1.        , -0.22036595,\n",
       "         0.96076892, -0.04436783,  0.74875312, -0.63428533, -0.8660254 ],\n",
       "       [-0.22036595, -0.22036595, -0.22036595, -0.22036595,  1.        ,\n",
       "        -0.48225283, -0.96467958, -0.81155403,  0.89386904, -0.29686613],\n",
       "       [ 0.96076892,  0.96076892,  0.96076892,  0.96076892, -0.48225283,\n",
       "         1.        ,  0.23444975,  0.90321995, -0.82382073, -0.69337525],\n",
       "       [-0.04436783, -0.04436783, -0.04436783, -0.04436783, -0.96467958,\n",
       "         0.23444975,  1.        ,  0.6289757 , -0.74419588,  0.5379313 ],\n",
       "       [ 0.74875312,  0.74875312,  0.74875312,  0.74875312, -0.81155403,\n",
       "         0.90321995,  0.6289757 ,  1.        , -0.98737103, -0.31701473],\n",
       "       [-0.63428533, -0.63428533, -0.63428533, -0.63428533,  0.89386904,\n",
       "        -0.82382073, -0.74419588, -0.98737103,  1.        ,  0.16275769],\n",
       "       [-0.8660254 , -0.8660254 , -0.8660254 , -0.8660254 , -0.29686613,\n",
       "        -0.69337525,  0.5379313 , -0.31701473,  0.16275769,  1.        ]])"
      ]
     },
     "execution_count": 118,
     "metadata": {},
     "output_type": "execute_result"
    }
   ],
   "source": [
    "np.corrcoef(arr4,arr5)"
   ]
  },
  {
   "cell_type": "markdown",
   "id": "a3cc6ed7-46d9-473b-8165-fae1221ccb7f",
   "metadata": {},
   "source": [
    "#### isin()"
   ]
  },
  {
   "cell_type": "code",
   "execution_count": 83,
   "id": "103f56f5-fe4d-4be5-91da-c82e15fb523c",
   "metadata": {},
   "outputs": [
    {
     "data": {
      "text/plain": [
       "array([[30, 30, 25],\n",
       "       [23, 21, 19],\n",
       "       [26, 38, 22],\n",
       "       [23, 16, 27]], dtype=int32)"
      ]
     },
     "execution_count": 83,
     "metadata": {},
     "output_type": "execute_result"
    }
   ],
   "source": [
    "arr2"
   ]
  },
  {
   "cell_type": "code",
   "execution_count": 115,
   "id": "89d265cc-5de5-47d7-a2d7-8b4144d4ab83",
   "metadata": {},
   "outputs": [
    {
     "data": {
      "text/plain": [
       "array([[False, False, False],\n",
       "       [False, False, False],\n",
       "       [False, False, False],\n",
       "       [False, False, False]])"
      ]
     },
     "execution_count": 115,
     "metadata": {},
     "output_type": "execute_result"
    }
   ],
   "source": [
    "np.isin(arr2,43)"
   ]
  },
  {
   "cell_type": "code",
   "execution_count": 85,
   "id": "71817411-357c-464e-a6a8-3aaa4c317436",
   "metadata": {},
   "outputs": [
    {
     "data": {
      "text/plain": [
       "array([[False, False, False],\n",
       "       [False, False, False],\n",
       "       [False, False, False],\n",
       "       [False, False, False]])"
      ]
     },
     "execution_count": 85,
     "metadata": {},
     "output_type": "execute_result"
    }
   ],
   "source": [
    "np.isin(arr2,[43,12] )"
   ]
  },
  {
   "cell_type": "code",
   "execution_count": 86,
   "id": "7f0ca506-3c11-41b3-8c3a-4a494b2234b0",
   "metadata": {},
   "outputs": [
    {
     "data": {
      "text/plain": [
       "array([[False, False, False],\n",
       "       [False, False, False],\n",
       "       [False, False, False],\n",
       "       [False, False, False]])"
      ]
     },
     "execution_count": 86,
     "metadata": {},
     "output_type": "execute_result"
    }
   ],
   "source": [
    "np.isin(arr2,[43,12,44,99,67] )"
   ]
  },
  {
   "cell_type": "markdown",
   "id": "e8ac65b8-36bd-4013-ac1f-8a40e529639a",
   "metadata": {},
   "source": [
    "#### flip()"
   ]
  },
  {
   "cell_type": "code",
   "execution_count": 87,
   "id": "6c4c1fd9-7ab1-4cb9-8ab0-705a8fbb3607",
   "metadata": {},
   "outputs": [
    {
     "data": {
      "text/plain": [
       "array([1, 3, 6, 4, 8, 3, 9])"
      ]
     },
     "execution_count": 87,
     "metadata": {},
     "output_type": "execute_result"
    }
   ],
   "source": [
    "arr1"
   ]
  },
  {
   "cell_type": "code",
   "execution_count": 88,
   "id": "7629f622-0cd6-4848-930a-a5e5bbf17c43",
   "metadata": {},
   "outputs": [
    {
     "data": {
      "text/plain": [
       "array([9, 3, 8, 4, 6, 3, 1])"
      ]
     },
     "execution_count": 88,
     "metadata": {},
     "output_type": "execute_result"
    }
   ],
   "source": [
    "np.flip(arr1)"
   ]
  },
  {
   "cell_type": "code",
   "execution_count": 89,
   "id": "f50b1e00-12ad-45be-a8f9-eb333cbea55d",
   "metadata": {},
   "outputs": [
    {
     "data": {
      "text/plain": [
       "array([[30, 30, 25],\n",
       "       [23, 21, 19],\n",
       "       [26, 38, 22],\n",
       "       [23, 16, 27]], dtype=int32)"
      ]
     },
     "execution_count": 89,
     "metadata": {},
     "output_type": "execute_result"
    }
   ],
   "source": [
    "arr2"
   ]
  },
  {
   "cell_type": "code",
   "execution_count": 90,
   "id": "b32d1d13-3aba-4cd4-8813-7b20a737b441",
   "metadata": {},
   "outputs": [
    {
     "data": {
      "text/plain": [
       "array([[27, 16, 23],\n",
       "       [22, 38, 26],\n",
       "       [19, 21, 23],\n",
       "       [25, 30, 30]], dtype=int32)"
      ]
     },
     "execution_count": 90,
     "metadata": {},
     "output_type": "execute_result"
    }
   ],
   "source": [
    "np.flip(arr2) # flips cols val then rows val"
   ]
  },
  {
   "cell_type": "code",
   "execution_count": 91,
   "id": "1af65f99-e5e2-4fc2-9c2e-36f8f3646208",
   "metadata": {},
   "outputs": [
    {
     "data": {
      "text/plain": [
       "array([[30, 30, 25],\n",
       "       [23, 21, 19],\n",
       "       [26, 38, 22],\n",
       "       [23, 16, 27]], dtype=int32)"
      ]
     },
     "execution_count": 91,
     "metadata": {},
     "output_type": "execute_result"
    }
   ],
   "source": [
    "arr2"
   ]
  },
  {
   "cell_type": "code",
   "execution_count": 92,
   "id": "5f6835fd-21a9-4ea6-b76d-884873cf5287",
   "metadata": {},
   "outputs": [
    {
     "data": {
      "text/plain": [
       "array([[23, 16, 27],\n",
       "       [26, 38, 22],\n",
       "       [23, 21, 19],\n",
       "       [30, 30, 25]], dtype=int32)"
      ]
     },
     "execution_count": 92,
     "metadata": {},
     "output_type": "execute_result"
    }
   ],
   "source": [
    "np.flip(arr2, axis=0) # flips cols i.e, last val in each col comes at top"
   ]
  },
  {
   "cell_type": "code",
   "execution_count": 93,
   "id": "d31a25f6-a848-42dc-bce6-de06b2d174f1",
   "metadata": {},
   "outputs": [
    {
     "data": {
      "text/plain": [
       "array([[25, 30, 30],\n",
       "       [19, 21, 23],\n",
       "       [22, 38, 26],\n",
       "       [27, 16, 23]], dtype=int32)"
      ]
     },
     "execution_count": 93,
     "metadata": {},
     "output_type": "execute_result"
    }
   ],
   "source": [
    "np.flip(arr2, axis=1) # flips cols i.e, last val in each row comes at top"
   ]
  },
  {
   "cell_type": "markdown",
   "id": "05bca122-90f4-438b-9eb2-caeb8aec5d4a",
   "metadata": {},
   "source": [
    "#### put() : permanent operation"
   ]
  },
  {
   "cell_type": "code",
   "execution_count": 94,
   "id": "d9d6332c-26b8-44a4-86a9-63d0a0c1d887",
   "metadata": {},
   "outputs": [
    {
     "data": {
      "text/plain": [
       "array([1, 3, 6, 4, 8, 3, 9])"
      ]
     },
     "execution_count": 94,
     "metadata": {},
     "output_type": "execute_result"
    }
   ],
   "source": [
    "arr1"
   ]
  },
  {
   "cell_type": "code",
   "execution_count": 95,
   "id": "5efab2b0-fde0-4ced-9960-51d317495985",
   "metadata": {},
   "outputs": [],
   "source": [
    "np.put(arr1, [0],200 )"
   ]
  },
  {
   "cell_type": "code",
   "execution_count": 96,
   "id": "909b79f5-a14d-4c6f-8e8d-8116e5060b88",
   "metadata": {},
   "outputs": [
    {
     "data": {
      "text/plain": [
       "array([[200,   3,   6,   4,   8,   3,   9]])"
      ]
     },
     "execution_count": 96,
     "metadata": {},
     "output_type": "execute_result"
    }
   ],
   "source": [
    "arr1[np.put(arr1, 0,200 )]"
   ]
  },
  {
   "cell_type": "code",
   "execution_count": 97,
   "id": "701555a6-ba64-4f08-89d5-061e554b3458",
   "metadata": {},
   "outputs": [
    {
     "name": "stdout",
     "output_type": "stream",
     "text": [
      "None\n"
     ]
    }
   ],
   "source": [
    "print(np.put(arr1, 0,200 ))"
   ]
  },
  {
   "cell_type": "code",
   "execution_count": 98,
   "id": "30eaec46-35bc-44cc-ad05-9a05bec85e61",
   "metadata": {},
   "outputs": [
    {
     "data": {
      "text/plain": [
       "array([[30, 30, 25],\n",
       "       [23, 21, 19],\n",
       "       [26, 38, 22],\n",
       "       [23, 16, 27]], dtype=int32)"
      ]
     },
     "execution_count": 98,
     "metadata": {},
     "output_type": "execute_result"
    }
   ],
   "source": [
    "arr2"
   ]
  },
  {
   "cell_type": "code",
   "execution_count": 99,
   "id": "ca6fd25b-e363-4eb3-98b2-f6ce7ca683c9",
   "metadata": {},
   "outputs": [
    {
     "data": {
      "text/plain": [
       "array([[[200,  30,  25],\n",
       "        [ 23, 300,  19],\n",
       "        [ 26,  38,  22],\n",
       "        [ 23,  16,  27]]], dtype=int32)"
      ]
     },
     "execution_count": 99,
     "metadata": {},
     "output_type": "execute_result"
    }
   ],
   "source": [
    "arr2[np.put(arr2, [0,4],[200,300] )] ## flattens the array and then replaces values"
   ]
  },
  {
   "cell_type": "code",
   "execution_count": 113,
   "id": "539aa59e-f6c9-4e4f-95e1-99a1ebcf6e18",
   "metadata": {},
   "outputs": [
    {
     "data": {
      "text/plain": [
       "array([[200,  30,  25],\n",
       "       [ 23, 300,  19],\n",
       "       [ 26,  38,  22],\n",
       "       [ 23,  16,  27]], dtype=int32)"
      ]
     },
     "execution_count": 113,
     "metadata": {},
     "output_type": "execute_result"
    }
   ],
   "source": [
    "arr2 ## original array changed "
   ]
  },
  {
   "cell_type": "code",
   "execution_count": 100,
   "id": "dd49039b-c118-4cc1-ace7-d090d94efb4f",
   "metadata": {},
   "outputs": [
    {
     "data": {
      "text/plain": [
       "array([200,  30,  23, 300,  19,  26,  38,  22,  23,  16,  27], dtype=int32)"
      ]
     },
     "execution_count": 100,
     "metadata": {},
     "output_type": "execute_result"
    }
   ],
   "source": [
    "np.delete(arr2,2) # 2nd index item i.e.,14 is deleted || temporary opr || result is flattened array "
   ]
  },
  {
   "cell_type": "code",
   "execution_count": 101,
   "id": "4b90d97e-436f-4a28-905e-c508abf939d7",
   "metadata": {},
   "outputs": [
    {
     "data": {
      "text/plain": [
       "array([[200,  30,  25],\n",
       "       [ 23, 300,  19],\n",
       "       [ 26,  38,  22],\n",
       "       [ 23,  16,  27]], dtype=int32)"
      ]
     },
     "execution_count": 101,
     "metadata": {},
     "output_type": "execute_result"
    }
   ],
   "source": [
    "arr2"
   ]
  },
  {
   "cell_type": "markdown",
   "id": "87041185-c52b-4fdb-b148-28f7faa6cc1f",
   "metadata": {},
   "source": [
    "#### clip()"
   ]
  },
  {
   "cell_type": "code",
   "execution_count": 102,
   "id": "ca344c83-fba4-4b69-9fcd-0fb508e5500a",
   "metadata": {},
   "outputs": [
    {
     "data": {
      "text/plain": [
       "array([[35, 30, 25],\n",
       "       [23, 35, 19],\n",
       "       [26, 35, 22],\n",
       "       [23, 16, 27]], dtype=int32)"
      ]
     },
     "execution_count": 102,
     "metadata": {},
     "output_type": "execute_result"
    }
   ],
   "source": [
    "np.clip(arr2, a_max= 35, a_min= 15)"
   ]
  },
  {
   "cell_type": "markdown",
   "id": "c4e40392-b66e-4b60-ace7-55c55ef70129",
   "metadata": {},
   "source": [
    "#### set methods:-"
   ]
  },
  {
   "cell_type": "code",
   "execution_count": 103,
   "id": "bcf3f5e5-a99e-4449-8a72-40d241803d35",
   "metadata": {},
   "outputs": [
    {
     "data": {
      "text/plain": [
       "array([200,   3,   6,   4,   8,   3,   9])"
      ]
     },
     "execution_count": 103,
     "metadata": {},
     "output_type": "execute_result"
    }
   ],
   "source": [
    "arr1"
   ]
  },
  {
   "cell_type": "code",
   "execution_count": 104,
   "id": "c49b95e0-e343-4d73-8de7-4ff15d61b9df",
   "metadata": {},
   "outputs": [
    {
     "data": {
      "text/plain": [
       "array([[200,  30,  25],\n",
       "       [ 23, 300,  19],\n",
       "       [ 26,  38,  22],\n",
       "       [ 23,  16,  27]], dtype=int32)"
      ]
     },
     "execution_count": 104,
     "metadata": {},
     "output_type": "execute_result"
    }
   ],
   "source": [
    "arr2"
   ]
  },
  {
   "cell_type": "code",
   "execution_count": 105,
   "id": "09922ebd-fe17-42d1-b761-885300f9e3cd",
   "metadata": {},
   "outputs": [
    {
     "data": {
      "text/plain": [
       "array([2, 4, 2, 6, 7, 8, 5])"
      ]
     },
     "execution_count": 105,
     "metadata": {},
     "output_type": "execute_result"
    }
   ],
   "source": [
    "arr3"
   ]
  },
  {
   "cell_type": "code",
   "execution_count": 106,
   "id": "7d073db6-34cf-4012-8d99-1787099bf7d2",
   "metadata": {},
   "outputs": [
    {
     "data": {
      "text/plain": [
       "array([  3,   4,   6,   8,   9,  16,  19,  22,  23,  25,  26,  27,  30,\n",
       "        38, 200, 300])"
      ]
     },
     "execution_count": 106,
     "metadata": {},
     "output_type": "execute_result"
    }
   ],
   "source": [
    "np.union1d(arr1,arr2) # elements in arr1 arr2"
   ]
  },
  {
   "cell_type": "code",
   "execution_count": 107,
   "id": "125ff564-31fd-4409-94dc-1a24ed498f46",
   "metadata": {},
   "outputs": [
    {
     "data": {
      "text/plain": [
       "array([200])"
      ]
     },
     "execution_count": 107,
     "metadata": {},
     "output_type": "execute_result"
    }
   ],
   "source": [
    "np.intersect1d(arr1,arr2) # elements both in arr1 arr2"
   ]
  },
  {
   "cell_type": "code",
   "execution_count": 108,
   "id": "15bf5c34-dcaf-4d9f-b138-686db0e8d6d6",
   "metadata": {},
   "outputs": [
    {
     "data": {
      "text/plain": [
       "array([  3,   9, 200])"
      ]
     },
     "execution_count": 108,
     "metadata": {},
     "output_type": "execute_result"
    }
   ],
   "source": [
    "np.setdiff1d(arr1,arr3) # elements only in arr1"
   ]
  },
  {
   "cell_type": "code",
   "execution_count": 109,
   "id": "e89c229d-dbf7-4834-9f54-7f2e9fd26a8f",
   "metadata": {},
   "outputs": [
    {
     "data": {
      "text/plain": [
       "array([3, 4, 6, 8, 9])"
      ]
     },
     "execution_count": 109,
     "metadata": {},
     "output_type": "execute_result"
    }
   ],
   "source": [
    "np.setdiff1d(arr1,arr2) # elements only in arr1"
   ]
  },
  {
   "cell_type": "code",
   "execution_count": 110,
   "id": "02626897-c093-46c1-b959-d9179a78005e",
   "metadata": {},
   "outputs": [
    {
     "data": {
      "text/plain": [
       "array([ 16,  19,  22,  23,  25,  26,  27,  30,  38, 300], dtype=int32)"
      ]
     },
     "execution_count": 110,
     "metadata": {},
     "output_type": "execute_result"
    }
   ],
   "source": [
    "np.setdiff1d(arr2,arr1) # elements only in arr2"
   ]
  },
  {
   "cell_type": "code",
   "execution_count": 111,
   "id": "d635c400-d2df-49f7-bc84-237b462c57d0",
   "metadata": {},
   "outputs": [
    {
     "data": {
      "text/plain": [
       "array([  3,   4,   6,   8,   9,  16,  19,  22,  23,  25,  26,  27,  30,\n",
       "        38, 300])"
      ]
     },
     "execution_count": 111,
     "metadata": {},
     "output_type": "execute_result"
    }
   ],
   "source": [
    "np.setxor1d(arr1,arr2) # elements of both arr1 arr2 that are uncommon"
   ]
  },
  {
   "cell_type": "code",
   "execution_count": 112,
   "id": "71c7dc60-4e1f-43e0-b096-7ca9f87bd8c9",
   "metadata": {},
   "outputs": [
    {
     "name": "stderr",
     "output_type": "stream",
     "text": [
      "C:\\Users\\Hp\\AppData\\Local\\Temp\\ipykernel_17200\\2434702953.py:1: DeprecationWarning: `in1d` is deprecated. Use `np.isin` instead.\n",
      "  np.in1d(arr1, 200)\n"
     ]
    },
    {
     "data": {
      "text/plain": [
       "array([ True, False, False, False, False, False, False])"
      ]
     },
     "execution_count": 112,
     "metadata": {},
     "output_type": "execute_result"
    }
   ],
   "source": [
    "np.in1d(arr1, 200)"
   ]
  }
 ],
 "metadata": {
  "kernelspec": {
   "display_name": "Python 3 (ipykernel)",
   "language": "python",
   "name": "python3"
  },
  "language_info": {
   "codemirror_mode": {
    "name": "ipython",
    "version": 3
   },
   "file_extension": ".py",
   "mimetype": "text/x-python",
   "name": "python",
   "nbconvert_exporter": "python",
   "pygments_lexer": "ipython3",
   "version": "3.12.6"
  }
 },
 "nbformat": 4,
 "nbformat_minor": 5
}
