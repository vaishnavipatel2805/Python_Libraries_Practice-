{
 "cells": [
  {
   "cell_type": "markdown",
   "id": "72dbf9fd-3996-45d4-92f1-72c2564dd335",
   "metadata": {},
   "source": [
    "### Broadcasting:-\n",
    "#### Rules:\n",
    "1. Make the arrays of same dimension. Change smaller dimension array to higher dimesion array.\n",
    "\n",
    "\n",
    "   (3,2) & (2)-> (1,2)\n",
    "   \n",
    "3. Check if sizes of each dimensions match. If not stretch the array of size 1\n",
    "\n",
    "\n",
    "   (3,4) & (1,4) -> (3,4)\n",
    "\n",
    "4. if dimension of either of the two arrays is not 1 then they can't be stretched\n",
    "\n",
    "\n",
    "   (3,2) & (3,4) -> can't be broad casted."
   ]
  },
  {
   "cell_type": "code",
   "execution_count": 1,
   "id": "000d14ad-e7d7-4a34-9167-a71da9099d2e",
   "metadata": {},
   "outputs": [],
   "source": [
    "import numpy as np"
   ]
  },
  {
   "cell_type": "code",
   "execution_count": 2,
   "id": "d96d91f9-8041-4fcb-b6ee-28bc59e218a0",
   "metadata": {},
   "outputs": [
    {
     "data": {
      "text/plain": [
       "array([1, 2, 3])"
      ]
     },
     "execution_count": 2,
     "metadata": {},
     "output_type": "execute_result"
    }
   ],
   "source": [
    "arr1 = np.array([1,2,3]) #(3,)\n",
    "arr1 # broadcasted array"
   ]
  },
  {
   "cell_type": "code",
   "execution_count": 3,
   "id": "1665d099-3d70-4f2c-916c-2195ccaead01",
   "metadata": {},
   "outputs": [
    {
     "data": {
      "text/plain": [
       "array([[1, 2, 3],\n",
       "       [4, 5, 6],\n",
       "       [7, 8, 9]])"
      ]
     },
     "execution_count": 3,
     "metadata": {},
     "output_type": "execute_result"
    }
   ],
   "source": [
    "arr2 = np.arange(1,10).reshape(3,3)  #(3,3)\n",
    "arr2"
   ]
  },
  {
   "cell_type": "code",
   "execution_count": 10,
   "id": "0f50873c-f902-44e2-87ab-7155a1bf2700",
   "metadata": {},
   "outputs": [
    {
     "data": {
      "text/plain": [
       "array([[ 2,  4,  6],\n",
       "       [ 5,  7,  9],\n",
       "       [ 8, 10, 12]])"
      ]
     },
     "execution_count": 10,
     "metadata": {},
     "output_type": "execute_result"
    }
   ],
   "source": [
    "arr1+arr2"
   ]
  },
  {
   "cell_type": "code",
   "execution_count": 13,
   "id": "289f88e7-f9f5-48cd-a97f-fdcc68927046",
   "metadata": {},
   "outputs": [
    {
     "data": {
      "text/plain": [
       "array([[2, 3, 4],\n",
       "       [3, 4, 5],\n",
       "       [5, 6, 7],\n",
       "       [6, 7, 8]])"
      ]
     },
     "execution_count": 13,
     "metadata": {},
     "output_type": "execute_result"
    }
   ],
   "source": [
    "arr1 = np.array([[1,2,3]]) # (1,3)\n",
    "arr2 = np.array([[1],[2],[4],[5]]) #(3,1)\n",
    "arr1+arr2"
   ]
  },
  {
   "cell_type": "code",
   "execution_count": 5,
   "id": "6661a52b-3a34-4944-a2d0-0f85987c7eae",
   "metadata": {},
   "outputs": [
    {
     "data": {
      "text/plain": [
       "array([[ 1,  2,  3,  4],\n",
       "       [ 5,  6,  7,  8],\n",
       "       [ 9, 10, 11, 12]])"
      ]
     },
     "execution_count": 5,
     "metadata": {},
     "output_type": "execute_result"
    }
   ],
   "source": [
    "arr3 = np.arange(1,13).reshape(3,4) #()\n",
    "arr3"
   ]
  },
  {
   "cell_type": "code",
   "execution_count": 6,
   "id": "4da269de-d29c-4f96-9818-8a218ed24662",
   "metadata": {},
   "outputs": [
    {
     "data": {
      "text/plain": [
       "array([[ 1,  2,  3],\n",
       "       [ 4,  5,  6],\n",
       "       [ 7,  8,  9],\n",
       "       [10, 11, 12]])"
      ]
     },
     "execution_count": 6,
     "metadata": {},
     "output_type": "execute_result"
    }
   ],
   "source": [
    "arr4 = np.arange(1,13).reshape(4,3) #(4,3)\n",
    "arr4"
   ]
  },
  {
   "cell_type": "code",
   "execution_count": 7,
   "id": "a61c1df6-643c-49ef-b265-fe1ea79c7595",
   "metadata": {},
   "outputs": [
    {
     "ename": "ValueError",
     "evalue": "operands could not be broadcast together with shapes (3,4) (4,3) ",
     "output_type": "error",
     "traceback": [
      "\u001b[1;31m---------------------------------------------------------------------------\u001b[0m",
      "\u001b[1;31mValueError\u001b[0m                                Traceback (most recent call last)",
      "Cell \u001b[1;32mIn[7], line 1\u001b[0m\n\u001b[1;32m----> 1\u001b[0m \u001b[43marr3\u001b[49m\u001b[43m \u001b[49m\u001b[38;5;241;43m+\u001b[39;49m\u001b[43m \u001b[49m\u001b[43marr4\u001b[49m\n",
      "\u001b[1;31mValueError\u001b[0m: operands could not be broadcast together with shapes (3,4) (4,3) "
     ]
    }
   ],
   "source": [
    "arr3 + arr4"
   ]
  },
  {
   "cell_type": "code",
   "execution_count": 8,
   "id": "e8c8e9b7-6a18-4e39-be0d-5457ba986dea",
   "metadata": {},
   "outputs": [
    {
     "ename": "ValueError",
     "evalue": "operands could not be broadcast together with shapes (3,) (6,) ",
     "output_type": "error",
     "traceback": [
      "\u001b[1;31m---------------------------------------------------------------------------\u001b[0m",
      "\u001b[1;31mValueError\u001b[0m                                Traceback (most recent call last)",
      "Cell \u001b[1;32mIn[8], line 3\u001b[0m\n\u001b[0;32m      1\u001b[0m arr5 \u001b[38;5;241m=\u001b[39m np\u001b[38;5;241m.\u001b[39marray([\u001b[38;5;241m1\u001b[39m,\u001b[38;5;241m2\u001b[39m,\u001b[38;5;241m3\u001b[39m]) \u001b[38;5;66;03m#(3,)\u001b[39;00m\n\u001b[0;32m      2\u001b[0m arr6 \u001b[38;5;241m=\u001b[39m np\u001b[38;5;241m.\u001b[39marray([\u001b[38;5;241m1\u001b[39m,\u001b[38;5;241m2\u001b[39m,\u001b[38;5;241m3\u001b[39m,\u001b[38;5;241m4\u001b[39m,\u001b[38;5;241m5\u001b[39m,\u001b[38;5;241m6\u001b[39m]) \u001b[38;5;66;03m#(6,)\u001b[39;00m\n\u001b[1;32m----> 3\u001b[0m \u001b[43marr5\u001b[49m\u001b[38;5;241;43m+\u001b[39;49m\u001b[43marr6\u001b[49m\n",
      "\u001b[1;31mValueError\u001b[0m: operands could not be broadcast together with shapes (3,) (6,) "
     ]
    }
   ],
   "source": [
    "arr5 = np.array([1,2,3]) #(3,)\n",
    "arr6 = np.array([1,2,3,4,5,6]) #(6,)\n",
    "arr5+arr6"
   ]
  },
  {
   "cell_type": "code",
   "execution_count": 9,
   "id": "adb5fd5b-2220-4372-b02a-5d5c47cf131a",
   "metadata": {},
   "outputs": [
    {
     "ename": "ValueError",
     "evalue": "operands could not be broadcast together with shapes (1,3) (1,6) ",
     "output_type": "error",
     "traceback": [
      "\u001b[1;31m---------------------------------------------------------------------------\u001b[0m",
      "\u001b[1;31mValueError\u001b[0m                                Traceback (most recent call last)",
      "Cell \u001b[1;32mIn[9], line 3\u001b[0m\n\u001b[0;32m      1\u001b[0m arr5 \u001b[38;5;241m=\u001b[39m np\u001b[38;5;241m.\u001b[39marray([[\u001b[38;5;241m1\u001b[39m,\u001b[38;5;241m2\u001b[39m,\u001b[38;5;241m3\u001b[39m]]) \u001b[38;5;66;03m#(3,)\u001b[39;00m\n\u001b[0;32m      2\u001b[0m arr6 \u001b[38;5;241m=\u001b[39m np\u001b[38;5;241m.\u001b[39marray([[\u001b[38;5;241m1\u001b[39m,\u001b[38;5;241m2\u001b[39m,\u001b[38;5;241m3\u001b[39m,\u001b[38;5;241m4\u001b[39m,\u001b[38;5;241m5\u001b[39m,\u001b[38;5;241m6\u001b[39m]]) \u001b[38;5;66;03m#(6,)\u001b[39;00m\n\u001b[1;32m----> 3\u001b[0m \u001b[43marr5\u001b[49m\u001b[38;5;241;43m+\u001b[39;49m\u001b[43marr6\u001b[49m\n",
      "\u001b[1;31mValueError\u001b[0m: operands could not be broadcast together with shapes (1,3) (1,6) "
     ]
    }
   ],
   "source": [
    "arr5 = np.array([[1,2,3]]) #(3,)\n",
    "arr6 = np.array([[1,2,3,4,5,6]]) #(6,)\n",
    "arr5+arr6"
   ]
  },
  {
   "cell_type": "markdown",
   "id": "89ecd55d-bc25-45dd-88b7-4fa0f7e18d33",
   "metadata": {},
   "source": [
    "#### working with mathematical functions:-"
   ]
  },
  {
   "cell_type": "code",
   "execution_count": 17,
   "id": "6133c898-9c11-4d5d-82ea-64ed6e6aa072",
   "metadata": {},
   "outputs": [
    {
     "data": {
      "text/plain": [
       "array([[0.99908895, 0.99966465, 0.95257413],\n",
       "       [0.98201379, 0.99999917, 0.73105858]])"
      ]
     },
     "execution_count": 17,
     "metadata": {},
     "output_type": "execute_result"
    }
   ],
   "source": [
    "## calculate sigmoid of each element of array\n",
    "arr = np.random.randint(1,15,6).reshape(2,3)\n",
    "def sigmoid(array):\n",
    "    return 1/(1+np.exp(-array))\n",
    "\n",
    "sigmoid(arr)"
   ]
  },
  {
   "cell_type": "code",
   "execution_count": 19,
   "id": "d8015d4a-7bf7-43a2-b554-f377ec689fbf",
   "metadata": {},
   "outputs": [
    {
     "name": "stdout",
     "output_type": "stream",
     "text": [
      "52.0\n"
     ]
    }
   ],
   "source": [
    "##mean squared error\n",
    "actual = np.random.randint(1,15,6).reshape(2,3)\n",
    "predicted = np.random.randint(1,15,6).reshape(2,3)\n",
    "\n",
    "def mse(actual , pred):\n",
    "    return np.mean((actual-predicted)**2)\n",
    "\n",
    "x = mse(actual, predicted)\n",
    "print(x)"
   ]
  },
  {
   "cell_type": "markdown",
   "id": "1a9f058b-9dcc-4ca0-aaca-731758543a0d",
   "metadata": {},
   "source": [
    "#### working with missing values:-"
   ]
  },
  {
   "cell_type": "code",
   "execution_count": 20,
   "id": "c055f5fe-84bf-40f6-80e1-c9f7982af288",
   "metadata": {},
   "outputs": [
    {
     "data": {
      "text/plain": [
       "array([ 1.,  4., 56., nan, 22., nan])"
      ]
     },
     "execution_count": 20,
     "metadata": {},
     "output_type": "execute_result"
    }
   ],
   "source": [
    "## adding nan values to an array\n",
    "arr = np.array([1,4,56,np.nan, 22, np.nan])\n",
    "arr"
   ]
  },
  {
   "cell_type": "code",
   "execution_count": 21,
   "id": "78421f3a-5bc4-4fec-bcbc-dbeeee2dd9c0",
   "metadata": {},
   "outputs": [
    {
     "data": {
      "text/plain": [
       "array([False, False, False,  True, False,  True])"
      ]
     },
     "execution_count": 21,
     "metadata": {},
     "output_type": "execute_result"
    }
   ],
   "source": [
    "# checking for nan values\n",
    "np.isnan(arr)"
   ]
  },
  {
   "cell_type": "code",
   "execution_count": 25,
   "id": "e3b5699e-ae42-410d-ab16-20365bf277de",
   "metadata": {},
   "outputs": [
    {
     "data": {
      "text/plain": [
       "array([ 1.,  4., 56., 22.])"
      ]
     },
     "execution_count": 25,
     "metadata": {},
     "output_type": "execute_result"
    }
   ],
   "source": [
    "## print non null values\n",
    "arr[~(np.isnan(arr))]"
   ]
  },
  {
   "cell_type": "markdown",
   "id": "c60a20b4-6d26-4c6d-b807-c4734313d87f",
   "metadata": {},
   "source": [
    "#### plotting graphs :-"
   ]
  },
  {
   "cell_type": "code",
   "execution_count": 26,
   "id": "ca076b56-89be-424c-9da1-b05ef768f730",
   "metadata": {},
   "outputs": [],
   "source": [
    "import matplotlib.pyplot as plt"
   ]
  },
  {
   "cell_type": "code",
   "execution_count": 31,
   "id": "f6553793-282f-4235-b0f5-94e978097617",
   "metadata": {},
   "outputs": [
    {
     "data": {
      "text/plain": [
       "[<matplotlib.lines.Line2D at 0x1e4cbd15b80>]"
      ]
     },
     "execution_count": 31,
     "metadata": {},
     "output_type": "execute_result"
    },
    {
     "data": {
      "image/png": "[encoded data removed]",
      "text/plain": [
       "<Figure size 300x200 with 1 Axes>"
      ]
     },
     "metadata": {},
     "output_type": "display_data"
    }
   ],
   "source": [
    "x = np.linspace(0,11,10)\n",
    "y = x\n",
    "plt.figure(figsize = (3,2))\n",
    "plt.plot(x,y)"
   ]
  },
  {
   "cell_type": "code",
   "execution_count": 34,
   "id": "32210164-a96f-4a7b-9365-47118807dfaa",
   "metadata": {},
   "outputs": [
    {
     "data": {
      "text/plain": [
       "[<matplotlib.lines.Line2D at 0x1e4cbf53a70>]"
      ]
     },
     "execution_count": 34,
     "metadata": {},
     "output_type": "execute_result"
    },
    {
     "data": {
      "image/png": "[encoded data removed]",
      "text/plain": [
       "<Figure size 300x200 with 1 Axes>"
      ]
     },
     "metadata": {},
     "output_type": "display_data"
    }
   ],
   "source": [
    "y = x**2\n",
    "plt.figure(figsize = (3,2))\n",
    "plt.plot(x,y)"
   ]
  },
  {
   "cell_type": "code",
   "execution_count": 33,
   "id": "df5f371a-b7a8-4840-8d46-e239fb3bc14c",
   "metadata": {},
   "outputs": [
    {
     "data": {
      "text/plain": [
       "[<matplotlib.lines.Line2D at 0x1e4cbf118e0>]"
      ]
     },
     "execution_count": 33,
     "metadata": {},
     "output_type": "execute_result"
    },
    {
     "data": {
      "image/png": "[encoded data removed]",
      "text/plain": [
       "<Figure size 300x200 with 1 Axes>"
      ]
     },
     "metadata": {},
     "output_type": "display_data"
    }
   ],
   "source": [
    "y = np.linspace(0,11,10)\n",
    "x = y**2\n",
    "plt.figure(figsize = (3,2))\n",
    "plt.plot(x,y)"
   ]
  },
  {
   "cell_type": "code",
   "execution_count": 35,
   "id": "3bf9e684-0ad9-4336-bacf-52b9249207ae",
   "metadata": {},
   "outputs": [
    {
     "data": {
      "text/plain": [
       "<matplotlib.collections.PathCollection at 0x1e4cbd3a1b0>"
      ]
     },
     "execution_count": 35,
     "metadata": {},
     "output_type": "execute_result"
    },
    {
     "data": {
      "image/png": "[encoded data removed]",
      "text/plain": [
       "<Figure size 300x200 with 1 Axes>"
      ]
     },
     "metadata": {},
     "output_type": "display_data"
    }
   ],
   "source": [
    "plt.figure(figsize = (3,2))\n",
    "plt.scatter(x,y)"
   ]
  },
  {
   "cell_type": "code",
   "execution_count": null,
   "id": "069e0702-bcf6-4e0f-aa22-ca203c5f67a2",
   "metadata": {},
   "outputs": [],
   "source": []
  }
 ],
 "metadata": {
  "kernelspec": {
   "display_name": "Python 3 (ipykernel)",
   "language": "python",
   "name": "python3"
  },
  "language_info": {
   "codemirror_mode": {
    "name": "ipython",
    "version": 3
   },
   "file_extension": ".py",
   "mimetype": "text/x-python",
   "name": "python",
   "nbconvert_exporter": "python",
   "pygments_lexer": "ipython3",
   "version": "3.12.6"
  }
 },
 "nbformat": 4,
 "nbformat_minor": 5
}
