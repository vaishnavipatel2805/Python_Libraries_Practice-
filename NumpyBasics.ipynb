{
 "cells": [
  {
   "cell_type": "code",
   "execution_count": 1,
   "id": "edcd40c0-7f8c-482b-9505-ef7571718fa4",
   "metadata": {},
   "outputs": [],
   "source": [
    "import numpy as np"
   ]
  },
  {
   "cell_type": "code",
   "execution_count": 2,
   "id": "b71be460-d9cb-41cf-98f0-06c17b98b71a",
   "metadata": {},
   "outputs": [
    {
     "name": "stdout",
     "output_type": "stream",
     "text": [
      "My first NumPy array: [1 2 3 4 5]\n",
      "Array mean: 3.0\n",
      "Array sum: 15\n"
     ]
    }
   ],
   "source": [
    "# Creating an array\n",
    "arr = np.array([1, 2, 3, 4, 5])\n",
    "print(\"My first NumPy array:\", arr)\n",
    "\n",
    "# Basic operations\n",
    "print(\"Array mean:\", arr.mean())\n",
    "print(\"Array sum:\", arr.sum())\n"
   ]
  },
  {
   "cell_type": "code",
   "execution_count": null,
   "id": "3dd29c72-6c60-4d27-b996-03a602ba1066",
   "metadata": {},
   "outputs": [],
   "source": []
  }
 ],
 "metadata": {
  "kernelspec": {
   "display_name": "Python 3 (ipykernel)",
   "language": "python",
   "name": "python3"
  },
  "language_info": {
   "codemirror_mode": {
    "name": "ipython",
    "version": 3
   },
   "file_extension": ".py",
   "mimetype": "text/x-python",
   "name": "python",
   "nbconvert_exporter": "python",
   "pygments_lexer": "ipython3",
   "version": "3.12.6"
  }
 },
 "nbformat": 4,
 "nbformat_minor": 5
}
