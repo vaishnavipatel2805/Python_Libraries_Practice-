{
 "cells": [
  {
   "cell_type": "markdown",
   "id": "aa971488-04a7-4cd3-9b80-1fd98be2fbea",
   "metadata": {},
   "source": [
    "#### Q-1: Write a program to create an empty series."
   ]
  },
  {
   "cell_type": "code",
   "execution_count": 1,
   "id": "d6ee7d08-d383-4116-8ac4-6141d6671c61",
   "metadata": {},
   "outputs": [],
   "source": [
    "import numpy as np \n",
    "import pandas as pd"
   ]
  },
  {
   "cell_type": "code",
   "execution_count": 2,
   "id": "4eb676b8-7d45-451c-9fbc-963fb29c6bb3",
   "metadata": {},
   "outputs": [
    {
     "data": {
      "text/plain": [
       "Series([], dtype: object)"
      ]
     },
     "execution_count": 2,
     "metadata": {},
     "output_type": "execute_result"
    }
   ],
   "source": [
    "empt_series = pd.Series()\n",
    "empt_series"
   ]
  },
  {
   "cell_type": "markdown",
   "id": "ca470730-0890-4950-9858-72521cd5e0f4",
   "metadata": {},
   "source": [
    "#### Q-2: Write a Pandas program to add, subtract, multiple and divide two Pandas Series."
   ]
  },
  {
   "cell_type": "code",
   "execution_count": 3,
   "id": "c66ef72b-e6ee-41dc-ae6f-4d1cd96e9acb",
   "metadata": {},
   "outputs": [
    {
     "data": {
      "text/plain": [
       "0    630\n",
       "1    860\n",
       "2    405\n",
       "3    720\n",
       "dtype: int64"
      ]
     },
     "execution_count": 3,
     "metadata": {},
     "output_type": "execute_result"
    }
   ],
   "source": [
    "ser1 = pd.Series([200,440,204,500])\n",
    "ser2 = pd.Series([430,420,201,220])\n",
    "ser1 + ser2"
   ]
  },
  {
   "cell_type": "code",
   "execution_count": 4,
   "id": "38501cc3-bdd9-432d-85fc-6ea92fd398d5",
   "metadata": {},
   "outputs": [
    {
     "data": {
      "text/plain": [
       "0   -230\n",
       "1     20\n",
       "2      3\n",
       "3    280\n",
       "dtype: int64"
      ]
     },
     "execution_count": 4,
     "metadata": {},
     "output_type": "execute_result"
    }
   ],
   "source": [
    "ser1 - ser2"
   ]
  },
  {
   "cell_type": "code",
   "execution_count": 5,
   "id": "d5c55b98-ecd0-4a73-b897-12a07f750c1f",
   "metadata": {},
   "outputs": [
    {
     "data": {
      "text/plain": [
       "0     86000\n",
       "1    184800\n",
       "2     41004\n",
       "3    110000\n",
       "dtype: int64"
      ]
     },
     "execution_count": 5,
     "metadata": {},
     "output_type": "execute_result"
    }
   ],
   "source": [
    "ser1 * ser2"
   ]
  },
  {
   "cell_type": "code",
   "execution_count": 6,
   "id": "23fad8e1-bf3f-4253-ac66-34fa7dbdb564",
   "metadata": {},
   "outputs": [
    {
     "data": {
      "text/plain": [
       "0    0.465116\n",
       "1    1.047619\n",
       "2    1.014925\n",
       "3    2.272727\n",
       "dtype: float64"
      ]
     },
     "execution_count": 6,
     "metadata": {},
     "output_type": "execute_result"
    }
   ],
   "source": [
    "ser1 / ser2"
   ]
  },
  {
   "cell_type": "markdown",
   "id": "cd6ddca3-e5f7-47f0-beb4-c9b508a458b5",
   "metadata": {},
   "source": [
    "#### Q-3 Write a Pandas program to compare the elements of the two Pandas Series.\n",
    "Sample Series: [2, 4, 6, 8, 10], [1, 3, 5, 7, 10]"
   ]
  },
  {
   "cell_type": "code",
   "execution_count": 7,
   "id": "f9008015-ffb7-4939-b777-32be8b49c3ba",
   "metadata": {},
   "outputs": [
    {
     "data": {
      "text/plain": [
       "0     True\n",
       "1     True\n",
       "2     True\n",
       "3     True\n",
       "4    False\n",
       "dtype: bool"
      ]
     },
     "execution_count": 7,
     "metadata": {},
     "output_type": "execute_result"
    }
   ],
   "source": [
    "s1 = pd.Series([2, 4, 6, 8, 10])\n",
    "s2 = pd.Series([1, 3, 5, 7, 10])\n",
    "s1>s2\n"
   ]
  },
  {
   "cell_type": "code",
   "execution_count": 8,
   "id": "046a45b0-2868-4710-a746-693f4255f452",
   "metadata": {},
   "outputs": [
    {
     "data": {
      "text/plain": [
       "0    False\n",
       "1    False\n",
       "2    False\n",
       "3    False\n",
       "4    False\n",
       "dtype: bool"
      ]
     },
     "execution_count": 8,
     "metadata": {},
     "output_type": "execute_result"
    }
   ],
   "source": [
    "s1<s2"
   ]
  },
  {
   "cell_type": "code",
   "execution_count": 9,
   "id": "10725043-c7bc-41b6-a0ba-954183600b57",
   "metadata": {},
   "outputs": [
    {
     "data": {
      "text/plain": [
       "0    False\n",
       "1    False\n",
       "2    False\n",
       "3    False\n",
       "4     True\n",
       "dtype: bool"
      ]
     },
     "execution_count": 9,
     "metadata": {},
     "output_type": "execute_result"
    }
   ],
   "source": [
    "s1==s2"
   ]
  },
  {
   "cell_type": "code",
   "execution_count": 10,
   "id": "c4c7d467-79be-4aad-b405-f33f71a85dcb",
   "metadata": {},
   "outputs": [
    {
     "data": {
      "text/plain": [
       "0     True\n",
       "1     True\n",
       "2     True\n",
       "3     True\n",
       "4    False\n",
       "dtype: bool"
      ]
     },
     "execution_count": 10,
     "metadata": {},
     "output_type": "execute_result"
    }
   ],
   "source": [
    "s1!=s2"
   ]
  },
  {
   "cell_type": "markdown",
   "id": "f3d28665-399f-4ad3-8246-b419a0e72139",
   "metadata": {},
   "source": [
    "#### Q-5.Write a function to change the data type of given a column or a Series. Function takes series and data type as input, returns the converted series.\n",
    "series = pd.Series([1,2,'Python', 2.0, True, 100])\n",
    "\n",
    "change to float type data\n",
    "\n",
    "Note: Read about pd.to_numeric()"
   ]
  },
  {
   "cell_type": "code",
   "execution_count": 19,
   "id": "2187d7a9-c7b5-4e16-9183-31cdbae8c8de",
   "metadata": {},
   "outputs": [
    {
     "data": {
      "text/plain": [
       "0      1.0\n",
       "1      2.0\n",
       "2      NaN\n",
       "3      2.0\n",
       "4      1.0\n",
       "5    100.0\n",
       "dtype: float32"
      ]
     },
     "execution_count": 19,
     "metadata": {},
     "output_type": "execute_result"
    }
   ],
   "source": [
    "series = pd.Series([1,2,'Python', 2.0, True, 100])\n",
    "\n",
    "def type_conversion(series, d_type):\n",
    "    return(pd.to_numeric(series, errors = \"coerce\", downcast = d_type))\n",
    "\n",
    "type_conversion(series, \"float\")"
   ]
  },
  {
   "cell_type": "markdown",
   "id": "e8e72d51-103b-4314-a216-0d5cbcef72bc",
   "metadata": {},
   "source": [
    "#### Q-6 Find top 10 most run getter from the series."
   ]
  },
  {
   "cell_type": "code",
   "execution_count": 42,
   "id": "cd636af8-260f-406b-a1aa-32d19c64b169",
   "metadata": {},
   "outputs": [
    {
     "name": "stdout",
     "output_type": "stream",
     "text": [
      "<class 'pandas.core.series.Series'>\n"
     ]
    }
   ],
   "source": [
    "batter = pd.read_csv(\"batsman_runs_series.csv\", index_col = \"batter\")[\"batsman_run\"]  \n",
    "## squeeze parameter has been remove so we are directly using col i.e., df[\"col\"]\n",
    "print(type(batter))   "
   ]
  },
  {
   "cell_type": "code",
   "execution_count": 45,
   "id": "327e6567-1d0b-41a6-84e4-1ebae1e00677",
   "metadata": {},
   "outputs": [
    {
     "name": "stdout",
     "output_type": "stream",
     "text": [
      "<class 'pandas.core.series.Series'>\n"
     ]
    }
   ],
   "source": [
    "bat = pd.read_csv(\"batsman_runs_series.csv\", index_col = \"batter\").squeeze()  ## squeeze parameter has been remove so we are using df.squeeze()\n",
    "print(type(bat))"
   ]
  },
  {
   "cell_type": "code",
   "execution_count": 47,
   "id": "22102eeb-788a-4538-90de-14a15570ca22",
   "metadata": {},
   "outputs": [
    {
     "data": {
      "text/plain": [
       "batter\n",
       "A Ashish Reddy     280\n",
       "A Badoni           161\n",
       "A Chandila           4\n",
       "A Chopra            53\n",
       "A Choudhary         25\n",
       "                  ... \n",
       "Yash Dayal           0\n",
       "Yashpal Singh       47\n",
       "Younis Khan          3\n",
       "Yuvraj Singh      2754\n",
       "Z Khan             117\n",
       "Name: batsman_run, Length: 605, dtype: int64"
      ]
     },
     "execution_count": 47,
     "metadata": {},
     "output_type": "execute_result"
    }
   ],
   "source": [
    "batter"
   ]
  },
  {
   "cell_type": "code",
   "execution_count": 46,
   "id": "77f28c25-a7af-432e-8f0c-b89806e1cacf",
   "metadata": {},
   "outputs": [
    {
     "data": {
      "text/plain": [
       "batter\n",
       "V Kohli           6634\n",
       "S Dhawan          6244\n",
       "DA Warner         5883\n",
       "RG Sharma         5881\n",
       "SK Raina          5536\n",
       "AB de Villiers    5181\n",
       "CH Gayle          4997\n",
       "MS Dhoni          4978\n",
       "RV Uthappa        4954\n",
       "KD Karthik        4377\n",
       "Name: batsman_run, dtype: int64"
      ]
     },
     "execution_count": 46,
     "metadata": {},
     "output_type": "execute_result"
    }
   ],
   "source": [
    "batter.sort_values(ascending = False).head(10)"
   ]
  },
  {
   "cell_type": "markdown",
   "id": "eb3a0d28-5199-4748-8d68-3f5a136dda6a",
   "metadata": {},
   "source": [
    "#### Q-7 No of players having runs above 3000"
   ]
  },
  {
   "cell_type": "code",
   "execution_count": 61,
   "id": "34f6d802-8d4e-4772-a465-5b6b9831da55",
   "metadata": {},
   "outputs": [
    {
     "data": {
      "text/plain": [
       "20"
      ]
     },
     "execution_count": 61,
     "metadata": {},
     "output_type": "execute_result"
    }
   ],
   "source": [
    "batter[batter.values>3000].size\n",
    "# method 1"
   ]
  },
  {
   "cell_type": "code",
   "execution_count": 63,
   "id": "0a3e40a7-7d1a-4c96-a0a1-c99457bbb296",
   "metadata": {},
   "outputs": [
    {
     "data": {
      "text/plain": [
       "20"
      ]
     },
     "execution_count": 63,
     "metadata": {},
     "output_type": "execute_result"
    }
   ],
   "source": [
    "# method 2\n",
    "batter[batter.values>3000].count().item()"
   ]
  },
  {
   "cell_type": "markdown",
   "id": "a9b8e47f-00de-4728-9437-017300ca273b",
   "metadata": {},
   "source": [
    "#### Q-8 No of players having runs above mean value?"
   ]
  },
  {
   "cell_type": "code",
   "execution_count": 67,
   "id": "6c0fcbb7-19cc-4d5f-91be-7bb04620d762",
   "metadata": {},
   "outputs": [
    {
     "data": {
      "text/plain": [
       "128"
      ]
     },
     "execution_count": 67,
     "metadata": {},
     "output_type": "execute_result"
    }
   ],
   "source": [
    "batter[batter.values > batter.mean()].count().item()"
   ]
  },
  {
   "cell_type": "markdown",
   "id": "81770a4d-6f37-4b0a-86dd-dc3ff144bd88",
   "metadata": {},
   "source": [
    "#### Q-9\n",
    "i. Read `items.csv` making `item_name` as index.\n",
    "\n",
    "ii. Show no of nan values\n",
    "\n",
    "iii. Item price is given in $, so convert it to rupees without currency symbol.\n",
    "\n",
    "iv. Make data type of newly made series as float.\n",
    "\n",
    "v. Fill nan with mean of the series"
   ]
  },
  {
   "cell_type": "code",
   "execution_count": 70,
   "id": "102dd90f-cf31-4d80-81f2-51857c4c16a4",
   "metadata": {},
   "outputs": [
    {
     "data": {
      "text/plain": [
       "item_name\n",
       "Chips and Fresh Tomato Salsa              $2.39 \n",
       "Izze                                      $3.39 \n",
       "Nantucket Nectar                          $3.39 \n",
       "Chips and Tomatillo-Green Chili Salsa     $2.39 \n",
       "Chicken Bowl                             $16.98 \n",
       "                                          ...   \n",
       "Steak Burrito                            $11.75 \n",
       "Steak Burrito                            $11.75 \n",
       "Chicken Salad Bowl                       $11.25 \n",
       "Chicken Salad Bowl                        $8.75 \n",
       "Chicken Salad Bowl                        $8.75 \n",
       "Name: item_price, Length: 4622, dtype: object"
      ]
     },
     "execution_count": 70,
     "metadata": {},
     "output_type": "execute_result"
    }
   ],
   "source": [
    "#i\n",
    "items = pd.read_csv(\"items.csv\", index_col = \"item_name\")[\"item_price\"]\n",
    "items"
   ]
  },
  {
   "cell_type": "code",
   "execution_count": 86,
   "id": "5374cb4e-da89-4e7d-b0ca-6d6eb3c5c4c8",
   "metadata": {},
   "outputs": [
    {
     "data": {
      "text/plain": [
       "0"
      ]
     },
     "execution_count": 86,
     "metadata": {},
     "output_type": "execute_result"
    }
   ],
   "source": [
    "# ii\n",
    "items[items.isnull()].count().item()  # method 1"
   ]
  },
  {
   "cell_type": "code",
   "execution_count": 85,
   "id": "de1ddf73-0043-43dc-b9e3-098fd7802bf1",
   "metadata": {},
   "outputs": [
    {
     "data": {
      "text/plain": [
       "0"
      ]
     },
     "execution_count": 85,
     "metadata": {},
     "output_type": "execute_result"
    }
   ],
   "source": [
    "items[items.values == np.nan].count().item() # method 2"
   ]
  },
  {
   "cell_type": "code",
   "execution_count": 100,
   "id": "76d0bf5f-7073-4019-baa6-4c66a84bdd22",
   "metadata": {},
   "outputs": [
    {
     "data": {
      "text/plain": [
       "item_name\n",
       "Chips and Fresh Tomato Salsa              $2.39 \n",
       "Izze                                      $3.39 \n",
       "Nantucket Nectar                          $3.39 \n",
       "Chips and Tomatillo-Green Chili Salsa     $2.39 \n",
       "Chicken Bowl                             $16.98 \n",
       "                                          ...   \n",
       "Steak Burrito                            $11.75 \n",
       "Steak Burrito                            $11.75 \n",
       "Chicken Salad Bowl                       $11.25 \n",
       "Chicken Salad Bowl                        $8.75 \n",
       "Chicken Salad Bowl                        $8.75 \n",
       "Name: item_price, Length: 4622, dtype: object"
      ]
     },
     "execution_count": 100,
     "metadata": {},
     "output_type": "execute_result"
    }
   ],
   "source": [
    "# iii\n",
    "items.values.apply(lambda x : x)"
   ]
  },
  {
   "cell_type": "code",
   "execution_count": 2,
   "id": "22da878b-e77a-45e0-a530-24c8cefdd0d9",
   "metadata": {},
   "outputs": [],
   "source": [
    "car = pd.read_csv(\"carvana - carvana.csv\")"
   ]
  },
  {
   "cell_type": "markdown",
   "id": "8f979abf-c6e9-4ca2-83e1-c9cc5b03bf34",
   "metadata": {},
   "source": [
    "make a pivot table of the brands (the required brands are given below) from the \"Year\" 2018 to the year 2022 in which the \"Price\" is shown as average values and \"Miles\" are in median values. In this pivote table, every row represents a particular brand and each column represents either average \"Price\" of a partucular year or median values of \"Miles\" of a particular year.\n",
    "At the end plot a kde chart for the \"Price\" and \"Miles\" by using your pivot table.\n",
    "There are some challenges to solve this task:\n",
    "\n",
    "There is no column that is represented to the brand name of the car. You have to find out on your own.\n",
    "Some values of \"Years\" column are misleading. You have to reset this column too that every value should tell a valid meaning.\n"
   ]
  },
  {
   "cell_type": "code",
   "execution_count": 3,
   "id": "cd5d94d9-c16f-4419-b992-5add8658b8f1",
   "metadata": {},
   "outputs": [
    {
     "data": {
      "text/html": [
       "<div>\n",
       "<style scoped>\n",
       "    .dataframe tbody tr th:only-of-type {\n",
       "        vertical-align: middle;\n",
       "    }\n",
       "\n",
       "    .dataframe tbody tr th {\n",
       "        vertical-align: top;\n",
       "    }\n",
       "\n",
       "    .dataframe thead th {\n",
       "        text-align: right;\n",
       "    }\n",
       "</style>\n",
       "<table border=\"1\" class=\"dataframe\">\n",
       "  <thead>\n",
       "    <tr style=\"text-align: right;\">\n",
       "      <th></th>\n",
       "      <th>Name</th>\n",
       "      <th>Year</th>\n",
       "      <th>Miles</th>\n",
       "      <th>Price</th>\n",
       "    </tr>\n",
       "  </thead>\n",
       "  <tbody>\n",
       "    <tr>\n",
       "      <th>0</th>\n",
       "      <td>Chevrolet Trax</td>\n",
       "      <td>2018</td>\n",
       "      <td>41946</td>\n",
       "      <td>16990</td>\n",
       "    </tr>\n",
       "    <tr>\n",
       "      <th>1</th>\n",
       "      <td>GMC Terrain</td>\n",
       "      <td>2020</td>\n",
       "      <td>45328</td>\n",
       "      <td>23990</td>\n",
       "    </tr>\n",
       "    <tr>\n",
       "      <th>2</th>\n",
       "      <td>Jeep Wrangler</td>\n",
       "      <td>2012</td>\n",
       "      <td>81068</td>\n",
       "      <td>21590</td>\n",
       "    </tr>\n",
       "    <tr>\n",
       "      <th>3</th>\n",
       "      <td>Jeep Renegade</td>\n",
       "      <td>2019</td>\n",
       "      <td>35372</td>\n",
       "      <td>21590</td>\n",
       "    </tr>\n",
       "    <tr>\n",
       "      <th>4</th>\n",
       "      <td>BMW X</td>\n",
       "      <td>20173</td>\n",
       "      <td>68992</td>\n",
       "      <td>22990</td>\n",
       "    </tr>\n",
       "    <tr>\n",
       "      <th>...</th>\n",
       "      <td>...</td>\n",
       "      <td>...</td>\n",
       "      <td>...</td>\n",
       "      <td>...</td>\n",
       "    </tr>\n",
       "    <tr>\n",
       "      <th>21995</th>\n",
       "      <td>Honda Accord</td>\n",
       "      <td>2014</td>\n",
       "      <td>98085</td>\n",
       "      <td>17590</td>\n",
       "    </tr>\n",
       "    <tr>\n",
       "      <th>21996</th>\n",
       "      <td>Dodge Charger</td>\n",
       "      <td>2016</td>\n",
       "      <td>62616</td>\n",
       "      <td>23990</td>\n",
       "    </tr>\n",
       "    <tr>\n",
       "      <th>21997</th>\n",
       "      <td>Ford Taurus</td>\n",
       "      <td>2013</td>\n",
       "      <td>50345</td>\n",
       "      <td>16990</td>\n",
       "    </tr>\n",
       "    <tr>\n",
       "      <th>21998</th>\n",
       "      <td>Toyota Corolla Hatchback</td>\n",
       "      <td>2020</td>\n",
       "      <td>27945</td>\n",
       "      <td>23990</td>\n",
       "    </tr>\n",
       "    <tr>\n",
       "      <th>21999</th>\n",
       "      <td>Honda Civic</td>\n",
       "      <td>2012</td>\n",
       "      <td>70676</td>\n",
       "      <td>14990</td>\n",
       "    </tr>\n",
       "  </tbody>\n",
       "</table>\n",
       "<p>22000 rows × 4 columns</p>\n",
       "</div>"
      ],
      "text/plain": [
       "                           Name   Year  Miles  Price\n",
       "0                Chevrolet Trax   2018  41946  16990\n",
       "1                   GMC Terrain   2020  45328  23990\n",
       "2                 Jeep Wrangler   2012  81068  21590\n",
       "3                 Jeep Renegade   2019  35372  21590\n",
       "4                         BMW X  20173  68992  22990\n",
       "...                         ...    ...    ...    ...\n",
       "21995              Honda Accord   2014  98085  17590\n",
       "21996             Dodge Charger   2016  62616  23990\n",
       "21997               Ford Taurus   2013  50345  16990\n",
       "21998  Toyota Corolla Hatchback   2020  27945  23990\n",
       "21999               Honda Civic   2012  70676  14990\n",
       "\n",
       "[22000 rows x 4 columns]"
      ]
     },
     "execution_count": 3,
     "metadata": {},
     "output_type": "execute_result"
    }
   ],
   "source": [
    "car"
   ]
  },
  {
   "cell_type": "code",
   "execution_count": 23,
   "id": "ca791626-802f-4cf0-b4c4-17f12bf9c222",
   "metadata": {},
   "outputs": [],
   "source": [
    "## cleaning year column\n",
    "def clean(x):\n",
    "    x = str(x)\n",
    "    if len(x) > 4:\n",
    "        x = x[0:-1]\n",
    "    return x\n",
    "        "
   ]
  },
  {
   "cell_type": "code",
   "execution_count": 27,
   "id": "5555f9f1-6faa-4ba8-9b2b-76bf1b920297",
   "metadata": {},
   "outputs": [],
   "source": [
    "car[\"Year\"] = car[\"Year\"].apply(clean)"
   ]
  },
  {
   "cell_type": "code",
   "execution_count": 28,
   "id": "1543e434-f82b-48bf-bfc5-091163c4e513",
   "metadata": {},
   "outputs": [
    {
     "data": {
      "text/plain": [
       "'2017'"
      ]
     },
     "execution_count": 28,
     "metadata": {},
     "output_type": "execute_result"
    }
   ],
   "source": [
    "car[\"Year\"][4]"
   ]
  },
  {
   "cell_type": "code",
   "execution_count": 37,
   "id": "0e5073cc-4bca-42e7-a087-e389626e3170",
   "metadata": {},
   "outputs": [
    {
     "data": {
      "text/html": [
       "<div>\n",
       "<style scoped>\n",
       "    .dataframe tbody tr th:only-of-type {\n",
       "        vertical-align: middle;\n",
       "    }\n",
       "\n",
       "    .dataframe tbody tr th {\n",
       "        vertical-align: top;\n",
       "    }\n",
       "\n",
       "    .dataframe thead th {\n",
       "        text-align: right;\n",
       "    }\n",
       "</style>\n",
       "<table border=\"1\" class=\"dataframe\">\n",
       "  <thead>\n",
       "    <tr style=\"text-align: right;\">\n",
       "      <th></th>\n",
       "      <th>Name</th>\n",
       "      <th>Year</th>\n",
       "      <th>Miles</th>\n",
       "      <th>Price</th>\n",
       "      <th>Brand</th>\n",
       "    </tr>\n",
       "  </thead>\n",
       "  <tbody>\n",
       "    <tr>\n",
       "      <th>0</th>\n",
       "      <td>Chevrolet Trax</td>\n",
       "      <td>2018</td>\n",
       "      <td>41946</td>\n",
       "      <td>16990</td>\n",
       "      <td>Chevrolet</td>\n",
       "    </tr>\n",
       "    <tr>\n",
       "      <th>1</th>\n",
       "      <td>GMC Terrain</td>\n",
       "      <td>2020</td>\n",
       "      <td>45328</td>\n",
       "      <td>23990</td>\n",
       "      <td>GMC</td>\n",
       "    </tr>\n",
       "    <tr>\n",
       "      <th>2</th>\n",
       "      <td>Jeep Wrangler</td>\n",
       "      <td>2012</td>\n",
       "      <td>81068</td>\n",
       "      <td>21590</td>\n",
       "      <td>Jeep</td>\n",
       "    </tr>\n",
       "    <tr>\n",
       "      <th>3</th>\n",
       "      <td>Jeep Renegade</td>\n",
       "      <td>2019</td>\n",
       "      <td>35372</td>\n",
       "      <td>21590</td>\n",
       "      <td>Jeep</td>\n",
       "    </tr>\n",
       "    <tr>\n",
       "      <th>4</th>\n",
       "      <td>BMW X</td>\n",
       "      <td>2017</td>\n",
       "      <td>68992</td>\n",
       "      <td>22990</td>\n",
       "      <td>BMW</td>\n",
       "    </tr>\n",
       "    <tr>\n",
       "      <th>...</th>\n",
       "      <td>...</td>\n",
       "      <td>...</td>\n",
       "      <td>...</td>\n",
       "      <td>...</td>\n",
       "      <td>...</td>\n",
       "    </tr>\n",
       "    <tr>\n",
       "      <th>21995</th>\n",
       "      <td>Honda Accord</td>\n",
       "      <td>2014</td>\n",
       "      <td>98085</td>\n",
       "      <td>17590</td>\n",
       "      <td>Honda</td>\n",
       "    </tr>\n",
       "    <tr>\n",
       "      <th>21996</th>\n",
       "      <td>Dodge Charger</td>\n",
       "      <td>2016</td>\n",
       "      <td>62616</td>\n",
       "      <td>23990</td>\n",
       "      <td>Dodge</td>\n",
       "    </tr>\n",
       "    <tr>\n",
       "      <th>21997</th>\n",
       "      <td>Ford Taurus</td>\n",
       "      <td>2013</td>\n",
       "      <td>50345</td>\n",
       "      <td>16990</td>\n",
       "      <td>Ford</td>\n",
       "    </tr>\n",
       "    <tr>\n",
       "      <th>21998</th>\n",
       "      <td>Toyota Corolla Hatchback</td>\n",
       "      <td>2020</td>\n",
       "      <td>27945</td>\n",
       "      <td>23990</td>\n",
       "      <td>Toyota</td>\n",
       "    </tr>\n",
       "    <tr>\n",
       "      <th>21999</th>\n",
       "      <td>Honda Civic</td>\n",
       "      <td>2012</td>\n",
       "      <td>70676</td>\n",
       "      <td>14990</td>\n",
       "      <td>Honda</td>\n",
       "    </tr>\n",
       "  </tbody>\n",
       "</table>\n",
       "<p>22000 rows × 5 columns</p>\n",
       "</div>"
      ],
      "text/plain": [
       "                           Name  Year  Miles  Price      Brand\n",
       "0                Chevrolet Trax  2018  41946  16990  Chevrolet\n",
       "1                   GMC Terrain  2020  45328  23990        GMC\n",
       "2                 Jeep Wrangler  2012  81068  21590       Jeep\n",
       "3                 Jeep Renegade  2019  35372  21590       Jeep\n",
       "4                         BMW X  2017  68992  22990        BMW\n",
       "...                         ...   ...    ...    ...        ...\n",
       "21995              Honda Accord  2014  98085  17590      Honda\n",
       "21996             Dodge Charger  2016  62616  23990      Dodge\n",
       "21997               Ford Taurus  2013  50345  16990       Ford\n",
       "21998  Toyota Corolla Hatchback  2020  27945  23990     Toyota\n",
       "21999               Honda Civic  2012  70676  14990      Honda\n",
       "\n",
       "[22000 rows x 5 columns]"
      ]
     },
     "execution_count": 37,
     "metadata": {},
     "output_type": "execute_result"
    }
   ],
   "source": [
    "# making brand column\n",
    "car[\"Brand\"] = car[\"Name\"].str.split(\" \", n=1).str.get(0)\n",
    "car"
   ]
  },
  {
   "cell_type": "code",
   "execution_count": 61,
   "id": "e296b200-de4b-469d-af42-2dedf1b6efc4",
   "metadata": {},
   "outputs": [
    {
     "data": {
      "text/html": [
       "<div>\n",
       "<style scoped>\n",
       "    .dataframe tbody tr th:only-of-type {\n",
       "        vertical-align: middle;\n",
       "    }\n",
       "\n",
       "    .dataframe tbody tr th {\n",
       "        vertical-align: top;\n",
       "    }\n",
       "\n",
       "    .dataframe thead th {\n",
       "        text-align: right;\n",
       "    }\n",
       "</style>\n",
       "<table border=\"1\" class=\"dataframe\">\n",
       "  <thead>\n",
       "    <tr style=\"text-align: right;\">\n",
       "      <th></th>\n",
       "      <th>Name</th>\n",
       "      <th>Year</th>\n",
       "      <th>Miles</th>\n",
       "      <th>Price</th>\n",
       "      <th>Brand</th>\n",
       "    </tr>\n",
       "  </thead>\n",
       "  <tbody>\n",
       "    <tr>\n",
       "      <th>0</th>\n",
       "      <td>Chevrolet Trax</td>\n",
       "      <td>2018</td>\n",
       "      <td>41946</td>\n",
       "      <td>16990</td>\n",
       "      <td>Chevrolet</td>\n",
       "    </tr>\n",
       "    <tr>\n",
       "      <th>1</th>\n",
       "      <td>GMC Terrain</td>\n",
       "      <td>2020</td>\n",
       "      <td>45328</td>\n",
       "      <td>23990</td>\n",
       "      <td>GMC</td>\n",
       "    </tr>\n",
       "    <tr>\n",
       "      <th>3</th>\n",
       "      <td>Jeep Renegade</td>\n",
       "      <td>2019</td>\n",
       "      <td>35372</td>\n",
       "      <td>21590</td>\n",
       "      <td>Jeep</td>\n",
       "    </tr>\n",
       "    <tr>\n",
       "      <th>5</th>\n",
       "      <td>Buick Encore</td>\n",
       "      <td>2019</td>\n",
       "      <td>47973</td>\n",
       "      <td>18590</td>\n",
       "      <td>Buick</td>\n",
       "    </tr>\n",
       "    <tr>\n",
       "      <th>24</th>\n",
       "      <td>Mitsubishi Eclipse Cross</td>\n",
       "      <td>2018</td>\n",
       "      <td>85475</td>\n",
       "      <td>16990</td>\n",
       "      <td>Mitsubishi</td>\n",
       "    </tr>\n",
       "    <tr>\n",
       "      <th>...</th>\n",
       "      <td>...</td>\n",
       "      <td>...</td>\n",
       "      <td>...</td>\n",
       "      <td>...</td>\n",
       "      <td>...</td>\n",
       "    </tr>\n",
       "    <tr>\n",
       "      <th>21976</th>\n",
       "      <td>Jeep Renegade</td>\n",
       "      <td>2020</td>\n",
       "      <td>63054</td>\n",
       "      <td>20590</td>\n",
       "      <td>Jeep</td>\n",
       "    </tr>\n",
       "    <tr>\n",
       "      <th>21978</th>\n",
       "      <td>Nissan Versa</td>\n",
       "      <td>2022</td>\n",
       "      <td>9975</td>\n",
       "      <td>22990</td>\n",
       "      <td>Nissan</td>\n",
       "    </tr>\n",
       "    <tr>\n",
       "      <th>21982</th>\n",
       "      <td>Nissan Murano</td>\n",
       "      <td>2019</td>\n",
       "      <td>38638</td>\n",
       "      <td>24990</td>\n",
       "      <td>Nissan</td>\n",
       "    </tr>\n",
       "    <tr>\n",
       "      <th>21987</th>\n",
       "      <td>Volkswagen Tiguan</td>\n",
       "      <td>2019</td>\n",
       "      <td>42636</td>\n",
       "      <td>24990</td>\n",
       "      <td>Volkswagen</td>\n",
       "    </tr>\n",
       "    <tr>\n",
       "      <th>21998</th>\n",
       "      <td>Toyota Corolla Hatchback</td>\n",
       "      <td>2020</td>\n",
       "      <td>27945</td>\n",
       "      <td>23990</td>\n",
       "      <td>Toyota</td>\n",
       "    </tr>\n",
       "  </tbody>\n",
       "</table>\n",
       "<p>7492 rows × 5 columns</p>\n",
       "</div>"
      ],
      "text/plain": [
       "                           Name  Year  Miles  Price       Brand\n",
       "0                Chevrolet Trax  2018  41946  16990   Chevrolet\n",
       "1                   GMC Terrain  2020  45328  23990         GMC\n",
       "3                 Jeep Renegade  2019  35372  21590        Jeep\n",
       "5                  Buick Encore  2019  47973  18590       Buick\n",
       "24     Mitsubishi Eclipse Cross  2018  85475  16990  Mitsubishi\n",
       "...                         ...   ...    ...    ...         ...\n",
       "21976             Jeep Renegade  2020  63054  20590        Jeep\n",
       "21978              Nissan Versa  2022   9975  22990      Nissan\n",
       "21982             Nissan Murano  2019  38638  24990      Nissan\n",
       "21987         Volkswagen Tiguan  2019  42636  24990  Volkswagen\n",
       "21998  Toyota Corolla Hatchback  2020  27945  23990      Toyota\n",
       "\n",
       "[7492 rows x 5 columns]"
      ]
     },
     "execution_count": 61,
     "metadata": {},
     "output_type": "execute_result"
    }
   ],
   "source": [
    "year = [\"2018\", \"2019\", \"2020\", \"2021\", \"2022\"]\n",
    "temp_df = car[car[\"Year\"].isin(year)]\n",
    "temp_df"
   ]
  },
  {
   "cell_type": "code",
   "execution_count": 62,
   "id": "1c4fceb7-fe36-4428-a0ca-fc5a1e3dba92",
   "metadata": {},
   "outputs": [
    {
     "data": {
      "text/html": [
       "<div>\n",
       "<style scoped>\n",
       "    .dataframe tbody tr th:only-of-type {\n",
       "        vertical-align: middle;\n",
       "    }\n",
       "\n",
       "    .dataframe tbody tr th {\n",
       "        vertical-align: top;\n",
       "    }\n",
       "\n",
       "    .dataframe thead tr th {\n",
       "        text-align: left;\n",
       "    }\n",
       "\n",
       "    .dataframe thead tr:last-of-type th {\n",
       "        text-align: right;\n",
       "    }\n",
       "</style>\n",
       "<table border=\"1\" class=\"dataframe\">\n",
       "  <thead>\n",
       "    <tr>\n",
       "      <th></th>\n",
       "      <th colspan=\"5\" halign=\"left\">Miles</th>\n",
       "      <th colspan=\"5\" halign=\"left\">Price</th>\n",
       "    </tr>\n",
       "    <tr>\n",
       "      <th>Year</th>\n",
       "      <th>2018</th>\n",
       "      <th>2019</th>\n",
       "      <th>2020</th>\n",
       "      <th>2021</th>\n",
       "      <th>2022</th>\n",
       "      <th>2018</th>\n",
       "      <th>2019</th>\n",
       "      <th>2020</th>\n",
       "      <th>2021</th>\n",
       "      <th>2022</th>\n",
       "    </tr>\n",
       "    <tr>\n",
       "      <th>Brand</th>\n",
       "      <th></th>\n",
       "      <th></th>\n",
       "      <th></th>\n",
       "      <th></th>\n",
       "      <th></th>\n",
       "      <th></th>\n",
       "      <th></th>\n",
       "      <th></th>\n",
       "      <th></th>\n",
       "      <th></th>\n",
       "    </tr>\n",
       "  </thead>\n",
       "  <tbody>\n",
       "    <tr>\n",
       "      <th>Acura</th>\n",
       "      <td>32516.0</td>\n",
       "      <td>50959.0</td>\n",
       "      <td>30894.0</td>\n",
       "      <td>10922.0</td>\n",
       "      <td>NaN</td>\n",
       "      <td>25323.333333</td>\n",
       "      <td>34496.777778</td>\n",
       "      <td>37590.000000</td>\n",
       "      <td>43856.666667</td>\n",
       "      <td>NaN</td>\n",
       "    </tr>\n",
       "    <tr>\n",
       "      <th>Alfa</th>\n",
       "      <td>38908.0</td>\n",
       "      <td>20928.0</td>\n",
       "      <td>NaN</td>\n",
       "      <td>NaN</td>\n",
       "      <td>NaN</td>\n",
       "      <td>28490.000000</td>\n",
       "      <td>30475.714286</td>\n",
       "      <td>NaN</td>\n",
       "      <td>NaN</td>\n",
       "      <td>NaN</td>\n",
       "    </tr>\n",
       "    <tr>\n",
       "      <th>Audi</th>\n",
       "      <td>49762.0</td>\n",
       "      <td>50169.5</td>\n",
       "      <td>30423.5</td>\n",
       "      <td>11205.0</td>\n",
       "      <td>20917.0</td>\n",
       "      <td>30345.555556</td>\n",
       "      <td>28590.000000</td>\n",
       "      <td>32490.000000</td>\n",
       "      <td>71990.000000</td>\n",
       "      <td>39590.000000</td>\n",
       "    </tr>\n",
       "    <tr>\n",
       "      <th>BMW</th>\n",
       "      <td>39269.0</td>\n",
       "      <td>36306.0</td>\n",
       "      <td>23171.0</td>\n",
       "      <td>19978.0</td>\n",
       "      <td>3780.0</td>\n",
       "      <td>31762.093023</td>\n",
       "      <td>33280.909091</td>\n",
       "      <td>39811.083333</td>\n",
       "      <td>37062.727273</td>\n",
       "      <td>57030.000000</td>\n",
       "    </tr>\n",
       "    <tr>\n",
       "      <th>Buick</th>\n",
       "      <td>50702.0</td>\n",
       "      <td>41152.0</td>\n",
       "      <td>36626.0</td>\n",
       "      <td>39884.0</td>\n",
       "      <td>372.0</td>\n",
       "      <td>21516.254545</td>\n",
       "      <td>21033.632653</td>\n",
       "      <td>24141.947368</td>\n",
       "      <td>25796.842105</td>\n",
       "      <td>26940.000000</td>\n",
       "    </tr>\n",
       "    <tr>\n",
       "      <th>Cadillac</th>\n",
       "      <td>57116.0</td>\n",
       "      <td>29609.0</td>\n",
       "      <td>41046.0</td>\n",
       "      <td>NaN</td>\n",
       "      <td>NaN</td>\n",
       "      <td>28390.000000</td>\n",
       "      <td>32290.000000</td>\n",
       "      <td>38777.266667</td>\n",
       "      <td>NaN</td>\n",
       "      <td>NaN</td>\n",
       "    </tr>\n",
       "    <tr>\n",
       "      <th>Chevrolet</th>\n",
       "      <td>53355.0</td>\n",
       "      <td>46375.0</td>\n",
       "      <td>50743.0</td>\n",
       "      <td>37527.0</td>\n",
       "      <td>13022.0</td>\n",
       "      <td>21262.413043</td>\n",
       "      <td>21119.717647</td>\n",
       "      <td>24684.226950</td>\n",
       "      <td>25234.727273</td>\n",
       "      <td>42358.421053</td>\n",
       "    </tr>\n",
       "    <tr>\n",
       "      <th>Chrysler</th>\n",
       "      <td>64685.5</td>\n",
       "      <td>65963.0</td>\n",
       "      <td>48960.0</td>\n",
       "      <td>44225.0</td>\n",
       "      <td>24427.0</td>\n",
       "      <td>24125.062500</td>\n",
       "      <td>26628.142857</td>\n",
       "      <td>28668.142857</td>\n",
       "      <td>26471.978723</td>\n",
       "      <td>35190.000000</td>\n",
       "    </tr>\n",
       "    <tr>\n",
       "      <th>Dodge</th>\n",
       "      <td>78986.0</td>\n",
       "      <td>65497.0</td>\n",
       "      <td>30995.5</td>\n",
       "      <td>32159.5</td>\n",
       "      <td>9089.0</td>\n",
       "      <td>20807.283951</td>\n",
       "      <td>23036.666667</td>\n",
       "      <td>26782.535714</td>\n",
       "      <td>32565.357143</td>\n",
       "      <td>36256.666667</td>\n",
       "    </tr>\n",
       "    <tr>\n",
       "      <th>FIAT</th>\n",
       "      <td>24731.0</td>\n",
       "      <td>14573.0</td>\n",
       "      <td>NaN</td>\n",
       "      <td>NaN</td>\n",
       "      <td>NaN</td>\n",
       "      <td>22602.500000</td>\n",
       "      <td>23904.285714</td>\n",
       "      <td>NaN</td>\n",
       "      <td>NaN</td>\n",
       "      <td>NaN</td>\n",
       "    </tr>\n",
       "    <tr>\n",
       "      <th>Ford</th>\n",
       "      <td>50572.0</td>\n",
       "      <td>47657.5</td>\n",
       "      <td>49136.0</td>\n",
       "      <td>22391.0</td>\n",
       "      <td>5298.5</td>\n",
       "      <td>20214.190283</td>\n",
       "      <td>21698.428571</td>\n",
       "      <td>24875.921951</td>\n",
       "      <td>30274.927536</td>\n",
       "      <td>46910.625000</td>\n",
       "    </tr>\n",
       "    <tr>\n",
       "      <th>GMC</th>\n",
       "      <td>54181.0</td>\n",
       "      <td>54017.0</td>\n",
       "      <td>54055.0</td>\n",
       "      <td>41904.5</td>\n",
       "      <td>9854.0</td>\n",
       "      <td>26052.206897</td>\n",
       "      <td>23809.533333</td>\n",
       "      <td>27799.681818</td>\n",
       "      <td>33881.250000</td>\n",
       "      <td>36680.909091</td>\n",
       "    </tr>\n",
       "    <tr>\n",
       "      <th>Genesis</th>\n",
       "      <td>42192.0</td>\n",
       "      <td>16855.0</td>\n",
       "      <td>NaN</td>\n",
       "      <td>16937.0</td>\n",
       "      <td>13938.5</td>\n",
       "      <td>28839.000000</td>\n",
       "      <td>39590.000000</td>\n",
       "      <td>NaN</td>\n",
       "      <td>49990.000000</td>\n",
       "      <td>37835.500000</td>\n",
       "    </tr>\n",
       "    <tr>\n",
       "      <th>Honda</th>\n",
       "      <td>46242.0</td>\n",
       "      <td>39322.0</td>\n",
       "      <td>35812.0</td>\n",
       "      <td>9286.0</td>\n",
       "      <td>18500.0</td>\n",
       "      <td>24265.054054</td>\n",
       "      <td>24635.039683</td>\n",
       "      <td>26273.500000</td>\n",
       "      <td>25889.470899</td>\n",
       "      <td>34710.000000</td>\n",
       "    </tr>\n",
       "    <tr>\n",
       "      <th>Hyundai</th>\n",
       "      <td>56075.0</td>\n",
       "      <td>44910.0</td>\n",
       "      <td>35882.5</td>\n",
       "      <td>31592.0</td>\n",
       "      <td>8160.0</td>\n",
       "      <td>19335.487603</td>\n",
       "      <td>21203.389831</td>\n",
       "      <td>22059.451220</td>\n",
       "      <td>23476.301370</td>\n",
       "      <td>29361.875000</td>\n",
       "    </tr>\n",
       "    <tr>\n",
       "      <th>INFINITI</th>\n",
       "      <td>49555.5</td>\n",
       "      <td>61327.0</td>\n",
       "      <td>47858.0</td>\n",
       "      <td>35966.0</td>\n",
       "      <td>NaN</td>\n",
       "      <td>26140.000000</td>\n",
       "      <td>29340.857143</td>\n",
       "      <td>32011.181818</td>\n",
       "      <td>34147.071429</td>\n",
       "      <td>NaN</td>\n",
       "    </tr>\n",
       "    <tr>\n",
       "      <th>Jaguar</th>\n",
       "      <td>35119.0</td>\n",
       "      <td>30563.0</td>\n",
       "      <td>17456.0</td>\n",
       "      <td>6943.0</td>\n",
       "      <td>NaN</td>\n",
       "      <td>33323.333333</td>\n",
       "      <td>33990.000000</td>\n",
       "      <td>44390.000000</td>\n",
       "      <td>60723.333333</td>\n",
       "      <td>NaN</td>\n",
       "    </tr>\n",
       "    <tr>\n",
       "      <th>Jeep</th>\n",
       "      <td>53690.5</td>\n",
       "      <td>21836.5</td>\n",
       "      <td>41416.0</td>\n",
       "      <td>44188.5</td>\n",
       "      <td>8662.5</td>\n",
       "      <td>21362.570175</td>\n",
       "      <td>23255.171233</td>\n",
       "      <td>27072.555556</td>\n",
       "      <td>27614.642857</td>\n",
       "      <td>52023.333333</td>\n",
       "    </tr>\n",
       "    <tr>\n",
       "      <th>Kia</th>\n",
       "      <td>37993.0</td>\n",
       "      <td>27189.0</td>\n",
       "      <td>37605.0</td>\n",
       "      <td>32006.0</td>\n",
       "      <td>14114.0</td>\n",
       "      <td>21565.608108</td>\n",
       "      <td>23777.239748</td>\n",
       "      <td>22863.761062</td>\n",
       "      <td>23776.060606</td>\n",
       "      <td>29672.352941</td>\n",
       "    </tr>\n",
       "    <tr>\n",
       "      <th>Land</th>\n",
       "      <td>58929.0</td>\n",
       "      <td>41484.0</td>\n",
       "      <td>36232.0</td>\n",
       "      <td>NaN</td>\n",
       "      <td>NaN</td>\n",
       "      <td>39990.000000</td>\n",
       "      <td>40275.714286</td>\n",
       "      <td>51520.800000</td>\n",
       "      <td>NaN</td>\n",
       "      <td>NaN</td>\n",
       "    </tr>\n",
       "    <tr>\n",
       "      <th>Lexus</th>\n",
       "      <td>53174.0</td>\n",
       "      <td>25356.5</td>\n",
       "      <td>21377.5</td>\n",
       "      <td>18073.0</td>\n",
       "      <td>20985.0</td>\n",
       "      <td>36056.666667</td>\n",
       "      <td>37927.272727</td>\n",
       "      <td>42123.333333</td>\n",
       "      <td>47132.857143</td>\n",
       "      <td>45990.000000</td>\n",
       "    </tr>\n",
       "    <tr>\n",
       "      <th>Lincoln</th>\n",
       "      <td>43874.0</td>\n",
       "      <td>23501.5</td>\n",
       "      <td>50080.0</td>\n",
       "      <td>NaN</td>\n",
       "      <td>9494.0</td>\n",
       "      <td>26462.785714</td>\n",
       "      <td>32515.000000</td>\n",
       "      <td>34523.333333</td>\n",
       "      <td>NaN</td>\n",
       "      <td>44590.000000</td>\n",
       "    </tr>\n",
       "    <tr>\n",
       "      <th>MAZDA</th>\n",
       "      <td>44267.0</td>\n",
       "      <td>37844.0</td>\n",
       "      <td>31832.0</td>\n",
       "      <td>41606.0</td>\n",
       "      <td>2338.0</td>\n",
       "      <td>22720.603448</td>\n",
       "      <td>24133.750000</td>\n",
       "      <td>25381.484848</td>\n",
       "      <td>25377.700000</td>\n",
       "      <td>31230.000000</td>\n",
       "    </tr>\n",
       "    <tr>\n",
       "      <th>MINI</th>\n",
       "      <td>36562.0</td>\n",
       "      <td>35508.0</td>\n",
       "      <td>13268.0</td>\n",
       "      <td>NaN</td>\n",
       "      <td>5758.5</td>\n",
       "      <td>25065.000000</td>\n",
       "      <td>24847.142857</td>\n",
       "      <td>25990.000000</td>\n",
       "      <td>NaN</td>\n",
       "      <td>33090.000000</td>\n",
       "    </tr>\n",
       "    <tr>\n",
       "      <th>Maserati</th>\n",
       "      <td>NaN</td>\n",
       "      <td>28766.0</td>\n",
       "      <td>NaN</td>\n",
       "      <td>NaN</td>\n",
       "      <td>5339.0</td>\n",
       "      <td>NaN</td>\n",
       "      <td>46590.000000</td>\n",
       "      <td>NaN</td>\n",
       "      <td>NaN</td>\n",
       "      <td>86990.000000</td>\n",
       "    </tr>\n",
       "    <tr>\n",
       "      <th>Mercedes-Benz</th>\n",
       "      <td>31408.5</td>\n",
       "      <td>28937.0</td>\n",
       "      <td>22008.0</td>\n",
       "      <td>12435.0</td>\n",
       "      <td>10880.0</td>\n",
       "      <td>34910.000000</td>\n",
       "      <td>36737.368421</td>\n",
       "      <td>38523.333333</td>\n",
       "      <td>42830.000000</td>\n",
       "      <td>102990.000000</td>\n",
       "    </tr>\n",
       "    <tr>\n",
       "      <th>Mitsubishi</th>\n",
       "      <td>48827.0</td>\n",
       "      <td>45100.0</td>\n",
       "      <td>39941.0</td>\n",
       "      <td>31809.0</td>\n",
       "      <td>6774.0</td>\n",
       "      <td>17137.058824</td>\n",
       "      <td>18261.698113</td>\n",
       "      <td>19516.829268</td>\n",
       "      <td>20275.714286</td>\n",
       "      <td>21026.363636</td>\n",
       "    </tr>\n",
       "    <tr>\n",
       "      <th>Nissan</th>\n",
       "      <td>39266.0</td>\n",
       "      <td>37208.0</td>\n",
       "      <td>49741.0</td>\n",
       "      <td>41186.0</td>\n",
       "      <td>9975.0</td>\n",
       "      <td>20050.358209</td>\n",
       "      <td>20997.351282</td>\n",
       "      <td>21650.509881</td>\n",
       "      <td>22962.508065</td>\n",
       "      <td>26849.615385</td>\n",
       "    </tr>\n",
       "    <tr>\n",
       "      <th>Polestar</th>\n",
       "      <td>NaN</td>\n",
       "      <td>NaN</td>\n",
       "      <td>NaN</td>\n",
       "      <td>NaN</td>\n",
       "      <td>6188.0</td>\n",
       "      <td>NaN</td>\n",
       "      <td>NaN</td>\n",
       "      <td>NaN</td>\n",
       "      <td>NaN</td>\n",
       "      <td>50490.000000</td>\n",
       "    </tr>\n",
       "    <tr>\n",
       "      <th>Porsche</th>\n",
       "      <td>47451.0</td>\n",
       "      <td>NaN</td>\n",
       "      <td>NaN</td>\n",
       "      <td>NaN</td>\n",
       "      <td>NaN</td>\n",
       "      <td>45156.666667</td>\n",
       "      <td>NaN</td>\n",
       "      <td>NaN</td>\n",
       "      <td>NaN</td>\n",
       "      <td>NaN</td>\n",
       "    </tr>\n",
       "    <tr>\n",
       "      <th>Ram</th>\n",
       "      <td>43299.0</td>\n",
       "      <td>41717.5</td>\n",
       "      <td>27715.5</td>\n",
       "      <td>30617.0</td>\n",
       "      <td>3664.5</td>\n",
       "      <td>34990.000000</td>\n",
       "      <td>29273.333333</td>\n",
       "      <td>37940.000000</td>\n",
       "      <td>37430.000000</td>\n",
       "      <td>54290.000000</td>\n",
       "    </tr>\n",
       "    <tr>\n",
       "      <th>Subaru</th>\n",
       "      <td>51900.0</td>\n",
       "      <td>40909.0</td>\n",
       "      <td>19885.0</td>\n",
       "      <td>44615.0</td>\n",
       "      <td>9899.0</td>\n",
       "      <td>23732.857143</td>\n",
       "      <td>24958.871795</td>\n",
       "      <td>29423.703704</td>\n",
       "      <td>28177.884615</td>\n",
       "      <td>34697.692308</td>\n",
       "    </tr>\n",
       "    <tr>\n",
       "      <th>Tesla</th>\n",
       "      <td>32481.0</td>\n",
       "      <td>26977.5</td>\n",
       "      <td>24383.0</td>\n",
       "      <td>15517.0</td>\n",
       "      <td>6454.0</td>\n",
       "      <td>42923.333333</td>\n",
       "      <td>57140.000000</td>\n",
       "      <td>49243.333333</td>\n",
       "      <td>53202.500000</td>\n",
       "      <td>65060.588235</td>\n",
       "    </tr>\n",
       "    <tr>\n",
       "      <th>Toyota</th>\n",
       "      <td>45770.0</td>\n",
       "      <td>19796.0</td>\n",
       "      <td>37726.0</td>\n",
       "      <td>20862.0</td>\n",
       "      <td>6769.0</td>\n",
       "      <td>22926.622449</td>\n",
       "      <td>24492.670455</td>\n",
       "      <td>25062.874074</td>\n",
       "      <td>31165.280374</td>\n",
       "      <td>34111.105882</td>\n",
       "    </tr>\n",
       "    <tr>\n",
       "      <th>Volkswagen</th>\n",
       "      <td>50991.0</td>\n",
       "      <td>46335.0</td>\n",
       "      <td>30069.0</td>\n",
       "      <td>23098.0</td>\n",
       "      <td>14056.5</td>\n",
       "      <td>21447.142857</td>\n",
       "      <td>22954.400000</td>\n",
       "      <td>26732.423077</td>\n",
       "      <td>27741.351351</td>\n",
       "      <td>35090.000000</td>\n",
       "    </tr>\n",
       "    <tr>\n",
       "      <th>Volvo</th>\n",
       "      <td>79121.0</td>\n",
       "      <td>23902.0</td>\n",
       "      <td>41457.5</td>\n",
       "      <td>36590.0</td>\n",
       "      <td>1758.0</td>\n",
       "      <td>27306.666667</td>\n",
       "      <td>37423.333333</td>\n",
       "      <td>36890.000000</td>\n",
       "      <td>38290.000000</td>\n",
       "      <td>53990.000000</td>\n",
       "    </tr>\n",
       "    <tr>\n",
       "      <th>smart</th>\n",
       "      <td>14825.0</td>\n",
       "      <td>NaN</td>\n",
       "      <td>NaN</td>\n",
       "      <td>NaN</td>\n",
       "      <td>NaN</td>\n",
       "      <td>17765.000000</td>\n",
       "      <td>NaN</td>\n",
       "      <td>NaN</td>\n",
       "      <td>NaN</td>\n",
       "      <td>NaN</td>\n",
       "    </tr>\n",
       "  </tbody>\n",
       "</table>\n",
       "</div>"
      ],
      "text/plain": [
       "                 Miles                                             Price  \\\n",
       "Year              2018     2019     2020     2021     2022          2018   \n",
       "Brand                                                                      \n",
       "Acura          32516.0  50959.0  30894.0  10922.0      NaN  25323.333333   \n",
       "Alfa           38908.0  20928.0      NaN      NaN      NaN  28490.000000   \n",
       "Audi           49762.0  50169.5  30423.5  11205.0  20917.0  30345.555556   \n",
       "BMW            39269.0  36306.0  23171.0  19978.0   3780.0  31762.093023   \n",
       "Buick          50702.0  41152.0  36626.0  39884.0    372.0  21516.254545   \n",
       "Cadillac       57116.0  29609.0  41046.0      NaN      NaN  28390.000000   \n",
       "Chevrolet      53355.0  46375.0  50743.0  37527.0  13022.0  21262.413043   \n",
       "Chrysler       64685.5  65963.0  48960.0  44225.0  24427.0  24125.062500   \n",
       "Dodge          78986.0  65497.0  30995.5  32159.5   9089.0  20807.283951   \n",
       "FIAT           24731.0  14573.0      NaN      NaN      NaN  22602.500000   \n",
       "Ford           50572.0  47657.5  49136.0  22391.0   5298.5  20214.190283   \n",
       "GMC            54181.0  54017.0  54055.0  41904.5   9854.0  26052.206897   \n",
       "Genesis        42192.0  16855.0      NaN  16937.0  13938.5  28839.000000   \n",
       "Honda          46242.0  39322.0  35812.0   9286.0  18500.0  24265.054054   \n",
       "Hyundai        56075.0  44910.0  35882.5  31592.0   8160.0  19335.487603   \n",
       "INFINITI       49555.5  61327.0  47858.0  35966.0      NaN  26140.000000   \n",
       "Jaguar         35119.0  30563.0  17456.0   6943.0      NaN  33323.333333   \n",
       "Jeep           53690.5  21836.5  41416.0  44188.5   8662.5  21362.570175   \n",
       "Kia            37993.0  27189.0  37605.0  32006.0  14114.0  21565.608108   \n",
       "Land           58929.0  41484.0  36232.0      NaN      NaN  39990.000000   \n",
       "Lexus          53174.0  25356.5  21377.5  18073.0  20985.0  36056.666667   \n",
       "Lincoln        43874.0  23501.5  50080.0      NaN   9494.0  26462.785714   \n",
       "MAZDA          44267.0  37844.0  31832.0  41606.0   2338.0  22720.603448   \n",
       "MINI           36562.0  35508.0  13268.0      NaN   5758.5  25065.000000   \n",
       "Maserati           NaN  28766.0      NaN      NaN   5339.0           NaN   \n",
       "Mercedes-Benz  31408.5  28937.0  22008.0  12435.0  10880.0  34910.000000   \n",
       "Mitsubishi     48827.0  45100.0  39941.0  31809.0   6774.0  17137.058824   \n",
       "Nissan         39266.0  37208.0  49741.0  41186.0   9975.0  20050.358209   \n",
       "Polestar           NaN      NaN      NaN      NaN   6188.0           NaN   \n",
       "Porsche        47451.0      NaN      NaN      NaN      NaN  45156.666667   \n",
       "Ram            43299.0  41717.5  27715.5  30617.0   3664.5  34990.000000   \n",
       "Subaru         51900.0  40909.0  19885.0  44615.0   9899.0  23732.857143   \n",
       "Tesla          32481.0  26977.5  24383.0  15517.0   6454.0  42923.333333   \n",
       "Toyota         45770.0  19796.0  37726.0  20862.0   6769.0  22926.622449   \n",
       "Volkswagen     50991.0  46335.0  30069.0  23098.0  14056.5  21447.142857   \n",
       "Volvo          79121.0  23902.0  41457.5  36590.0   1758.0  27306.666667   \n",
       "smart          14825.0      NaN      NaN      NaN      NaN  17765.000000   \n",
       "\n",
       "                                                                        \n",
       "Year                   2019          2020          2021           2022  \n",
       "Brand                                                                   \n",
       "Acura          34496.777778  37590.000000  43856.666667            NaN  \n",
       "Alfa           30475.714286           NaN           NaN            NaN  \n",
       "Audi           28590.000000  32490.000000  71990.000000   39590.000000  \n",
       "BMW            33280.909091  39811.083333  37062.727273   57030.000000  \n",
       "Buick          21033.632653  24141.947368  25796.842105   26940.000000  \n",
       "Cadillac       32290.000000  38777.266667           NaN            NaN  \n",
       "Chevrolet      21119.717647  24684.226950  25234.727273   42358.421053  \n",
       "Chrysler       26628.142857  28668.142857  26471.978723   35190.000000  \n",
       "Dodge          23036.666667  26782.535714  32565.357143   36256.666667  \n",
       "FIAT           23904.285714           NaN           NaN            NaN  \n",
       "Ford           21698.428571  24875.921951  30274.927536   46910.625000  \n",
       "GMC            23809.533333  27799.681818  33881.250000   36680.909091  \n",
       "Genesis        39590.000000           NaN  49990.000000   37835.500000  \n",
       "Honda          24635.039683  26273.500000  25889.470899   34710.000000  \n",
       "Hyundai        21203.389831  22059.451220  23476.301370   29361.875000  \n",
       "INFINITI       29340.857143  32011.181818  34147.071429            NaN  \n",
       "Jaguar         33990.000000  44390.000000  60723.333333            NaN  \n",
       "Jeep           23255.171233  27072.555556  27614.642857   52023.333333  \n",
       "Kia            23777.239748  22863.761062  23776.060606   29672.352941  \n",
       "Land           40275.714286  51520.800000           NaN            NaN  \n",
       "Lexus          37927.272727  42123.333333  47132.857143   45990.000000  \n",
       "Lincoln        32515.000000  34523.333333           NaN   44590.000000  \n",
       "MAZDA          24133.750000  25381.484848  25377.700000   31230.000000  \n",
       "MINI           24847.142857  25990.000000           NaN   33090.000000  \n",
       "Maserati       46590.000000           NaN           NaN   86990.000000  \n",
       "Mercedes-Benz  36737.368421  38523.333333  42830.000000  102990.000000  \n",
       "Mitsubishi     18261.698113  19516.829268  20275.714286   21026.363636  \n",
       "Nissan         20997.351282  21650.509881  22962.508065   26849.615385  \n",
       "Polestar                NaN           NaN           NaN   50490.000000  \n",
       "Porsche                 NaN           NaN           NaN            NaN  \n",
       "Ram            29273.333333  37940.000000  37430.000000   54290.000000  \n",
       "Subaru         24958.871795  29423.703704  28177.884615   34697.692308  \n",
       "Tesla          57140.000000  49243.333333  53202.500000   65060.588235  \n",
       "Toyota         24492.670455  25062.874074  31165.280374   34111.105882  \n",
       "Volkswagen     22954.400000  26732.423077  27741.351351   35090.000000  \n",
       "Volvo          37423.333333  36890.000000  38290.000000   53990.000000  \n",
       "smart                   NaN           NaN           NaN            NaN  "
      ]
     },
     "execution_count": 62,
     "metadata": {},
     "output_type": "execute_result"
    }
   ],
   "source": [
    "table = temp_df.pivot_table(index = \"Brand\", columns = \"Year\", values = [\"Price\",\"Miles\"], aggfunc = {\"Price\": \"mean\" , \"Miles\":\"median\"})\n",
    "table"
   ]
  },
  {
   "cell_type": "code",
   "execution_count": 64,
   "id": "a26a7417-5066-48e9-a58a-47f26168d23c",
   "metadata": {},
   "outputs": [
    {
     "data": {
      "text/plain": [
       "<Axes: ylabel='Density'>"
      ]
     },
     "execution_count": 64,
     "metadata": {},
     "output_type": "execute_result"
    },
    {
     "data": {
      "image/png": "[encoded data removed]",
      "text/plain": [
       "<Figure size 640x480 with 1 Axes>"
      ]
     },
     "metadata": {},
     "output_type": "display_data"
    }
   ],
   "source": [
    "table.plot(kind = \"kde\")"
   ]
  },
  {
   "cell_type": "code",
   "execution_count": 66,
   "id": "a28d9f30-8262-4d51-982d-1855701c3684",
   "metadata": {},
   "outputs": [
    {
     "data": {
      "text/plain": [
       "<Axes: title={'center': 'KDE of Miles'}, ylabel='Density'>"
      ]
     },
     "execution_count": 66,
     "metadata": {},
     "output_type": "execute_result"
    },
    {
     "data": {
      "image/png": "[encoded data removed]",
      "text/plain": [
       "<Figure size 640x480 with 1 Axes>"
      ]
     },
     "metadata": {},
     "output_type": "display_data"
    },
    {
     "data": {
      "image/png": "[encoded data removed]",
      "text/plain": [
       "<Figure size 640x480 with 1 Axes>"
      ]
     },
     "metadata": {},
     "output_type": "display_data"
    }
   ],
   "source": [
    "# KDE for all Price columns\n",
    "table.filter(like=\"Price\").plot(kind=\"kde\", title=\"KDE of Price\")\n",
    "\n",
    "# KDE for all Miles columns\n",
    "table.filter(like=\"Miles\").plot(kind=\"kde\", title=\"KDE of Miles\")\n"
   ]
  },
  {
   "cell_type": "code",
   "execution_count": null,
   "id": "b2f7dfc9-ea16-4356-8947-5d33b5aab69e",
   "metadata": {},
   "outputs": [],
   "source": []
  }
 ],
 "metadata": {
  "kernelspec": {
   "display_name": "Python 3 (ipykernel)",
   "language": "python",
   "name": "python3"
  },
  "language_info": {
   "codemirror_mode": {
    "name": "ipython",
    "version": 3
   },
   "file_extension": ".py",
   "mimetype": "text/x-python",
   "name": "python",
   "nbconvert_exporter": "python",
   "pygments_lexer": "ipython3",
   "version": "3.12.6"
  }
 },
 "nbformat": 4,
 "nbformat_minor": 5
}
