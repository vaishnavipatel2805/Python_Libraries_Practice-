{
 "cells": [
  {
   "cell_type": "markdown",
   "id": "aa971488-04a7-4cd3-9b80-1fd98be2fbea",
   "metadata": {},
   "source": [
    "#### Q-1: Write a program to create an empty series."
   ]
  },
  {
   "cell_type": "code",
   "execution_count": 1,
   "id": "d6ee7d08-d383-4116-8ac4-6141d6671c61",
   "metadata": {},
   "outputs": [],
   "source": [
    "import numpy as np \n",
    "import pandas as pd"
   ]
  },
  {
   "cell_type": "code",
   "execution_count": 2,
   "id": "4eb676b8-7d45-451c-9fbc-963fb29c6bb3",
   "metadata": {},
   "outputs": [
    {
     "data": {
      "text/plain": [
       "Series([], dtype: object)"
      ]
     },
     "execution_count": 2,
     "metadata": {},
     "output_type": "execute_result"
    }
   ],
   "source": [
    "empt_series = pd.Series()\n",
    "empt_series"
   ]
  },
  {
   "cell_type": "markdown",
   "id": "ca470730-0890-4950-9858-72521cd5e0f4",
   "metadata": {},
   "source": [
    "#### Q-2: Write a Pandas program to add, subtract, multiple and divide two Pandas Series."
   ]
  },
  {
   "cell_type": "code",
   "execution_count": 3,
   "id": "c66ef72b-e6ee-41dc-ae6f-4d1cd96e9acb",
   "metadata": {},
   "outputs": [
    {
     "data": {
      "text/plain": [
       "0    630\n",
       "1    860\n",
       "2    405\n",
       "3    720\n",
       "dtype: int64"
      ]
     },
     "execution_count": 3,
     "metadata": {},
     "output_type": "execute_result"
    }
   ],
   "source": [
    "ser1 = pd.Series([200,440,204,500])\n",
    "ser2 = pd.Series([430,420,201,220])\n",
    "ser1 + ser2"
   ]
  },
  {
   "cell_type": "code",
   "execution_count": 4,
   "id": "38501cc3-bdd9-432d-85fc-6ea92fd398d5",
   "metadata": {},
   "outputs": [
    {
     "data": {
      "text/plain": [
       "0   -230\n",
       "1     20\n",
       "2      3\n",
       "3    280\n",
       "dtype: int64"
      ]
     },
     "execution_count": 4,
     "metadata": {},
     "output_type": "execute_result"
    }
   ],
   "source": [
    "ser1 - ser2"
   ]
  },
  {
   "cell_type": "code",
   "execution_count": 5,
   "id": "d5c55b98-ecd0-4a73-b897-12a07f750c1f",
   "metadata": {},
   "outputs": [
    {
     "data": {
      "text/plain": [
       "0     86000\n",
       "1    184800\n",
       "2     41004\n",
       "3    110000\n",
       "dtype: int64"
      ]
     },
     "execution_count": 5,
     "metadata": {},
     "output_type": "execute_result"
    }
   ],
   "source": [
    "ser1 * ser2"
   ]
  },
  {
   "cell_type": "code",
   "execution_count": 6,
   "id": "23fad8e1-bf3f-4253-ac66-34fa7dbdb564",
   "metadata": {},
   "outputs": [
    {
     "data": {
      "text/plain": [
       "0    0.465116\n",
       "1    1.047619\n",
       "2    1.014925\n",
       "3    2.272727\n",
       "dtype: float64"
      ]
     },
     "execution_count": 6,
     "metadata": {},
     "output_type": "execute_result"
    }
   ],
   "source": [
    "ser1 / ser2"
   ]
  },
  {
   "cell_type": "markdown",
   "id": "cd6ddca3-e5f7-47f0-beb4-c9b508a458b5",
   "metadata": {},
   "source": [
    "#### Q-3 Write a Pandas program to compare the elements of the two Pandas Series.\n",
    "Sample Series: [2, 4, 6, 8, 10], [1, 3, 5, 7, 10]"
   ]
  },
  {
   "cell_type": "code",
   "execution_count": 7,
   "id": "f9008015-ffb7-4939-b777-32be8b49c3ba",
   "metadata": {},
   "outputs": [
    {
     "data": {
      "text/plain": [
       "0     True\n",
       "1     True\n",
       "2     True\n",
       "3     True\n",
       "4    False\n",
       "dtype: bool"
      ]
     },
     "execution_count": 7,
     "metadata": {},
     "output_type": "execute_result"
    }
   ],
   "source": [
    "s1 = pd.Series([2, 4, 6, 8, 10])\n",
    "s2 = pd.Series([1, 3, 5, 7, 10])\n",
    "s1>s2\n"
   ]
  },
  {
   "cell_type": "code",
   "execution_count": 8,
   "id": "046a45b0-2868-4710-a746-693f4255f452",
   "metadata": {},
   "outputs": [
    {
     "data": {
      "text/plain": [
       "0    False\n",
       "1    False\n",
       "2    False\n",
       "3    False\n",
       "4    False\n",
       "dtype: bool"
      ]
     },
     "execution_count": 8,
     "metadata": {},
     "output_type": "execute_result"
    }
   ],
   "source": [
    "s1<s2"
   ]
  },
  {
   "cell_type": "code",
   "execution_count": 9,
   "id": "10725043-c7bc-41b6-a0ba-954183600b57",
   "metadata": {},
   "outputs": [
    {
     "data": {
      "text/plain": [
       "0    False\n",
       "1    False\n",
       "2    False\n",
       "3    False\n",
       "4     True\n",
       "dtype: bool"
      ]
     },
     "execution_count": 9,
     "metadata": {},
     "output_type": "execute_result"
    }
   ],
   "source": [
    "s1==s2"
   ]
  },
  {
   "cell_type": "code",
   "execution_count": 10,
   "id": "c4c7d467-79be-4aad-b405-f33f71a85dcb",
   "metadata": {},
   "outputs": [
    {
     "data": {
      "text/plain": [
       "0     True\n",
       "1     True\n",
       "2     True\n",
       "3     True\n",
       "4    False\n",
       "dtype: bool"
      ]
     },
     "execution_count": 10,
     "metadata": {},
     "output_type": "execute_result"
    }
   ],
   "source": [
    "s1!=s2"
   ]
  },
  {
   "cell_type": "markdown",
   "id": "f3d28665-399f-4ad3-8246-b419a0e72139",
   "metadata": {},
   "source": [
    "#### Q-5.Write a function to change the data type of given a column or a Series. Function takes series and data type as input, returns the converted series.\n",
    "series = pd.Series([1,2,'Python', 2.0, True, 100])\n",
    "\n",
    "change to float type data\n",
    "\n",
    "Note: Read about pd.to_numeric()"
   ]
  },
  {
   "cell_type": "code",
   "execution_count": 19,
   "id": "2187d7a9-c7b5-4e16-9183-31cdbae8c8de",
   "metadata": {},
   "outputs": [
    {
     "data": {
      "text/plain": [
       "0      1.0\n",
       "1      2.0\n",
       "2      NaN\n",
       "3      2.0\n",
       "4      1.0\n",
       "5    100.0\n",
       "dtype: float32"
      ]
     },
     "execution_count": 19,
     "metadata": {},
     "output_type": "execute_result"
    }
   ],
   "source": [
    "series = pd.Series([1,2,'Python', 2.0, True, 100])\n",
    "\n",
    "def type_conversion(series, d_type):\n",
    "    return(pd.to_numeric(series, errors = \"coerce\", downcast = d_type))\n",
    "\n",
    "type_conversion(series, \"float\")"
   ]
  },
  {
   "cell_type": "markdown",
   "id": "e8e72d51-103b-4314-a216-0d5cbcef72bc",
   "metadata": {},
   "source": [
    "#### Q-6 Find top 10 most run getter from the series."
   ]
  },
  {
   "cell_type": "code",
   "execution_count": 42,
   "id": "cd636af8-260f-406b-a1aa-32d19c64b169",
   "metadata": {},
   "outputs": [
    {
     "name": "stdout",
     "output_type": "stream",
     "text": [
      "<class 'pandas.core.series.Series'>\n"
     ]
    }
   ],
   "source": [
    "batter = pd.read_csv(\"batsman_runs_series.csv\", index_col = \"batter\")[\"batsman_run\"]  \n",
    "## squeeze parameter has been remove so we are directly using col i.e., df[\"col\"]\n",
    "print(type(batter))   "
   ]
  },
  {
   "cell_type": "code",
   "execution_count": 45,
   "id": "327e6567-1d0b-41a6-84e4-1ebae1e00677",
   "metadata": {},
   "outputs": [
    {
     "name": "stdout",
     "output_type": "stream",
     "text": [
      "<class 'pandas.core.series.Series'>\n"
     ]
    }
   ],
   "source": [
    "bat = pd.read_csv(\"batsman_runs_series.csv\", index_col = \"batter\").squeeze()  ## squeeze parameter has been remove so we are using df.squeeze()\n",
    "print(type(bat))"
   ]
  },
  {
   "cell_type": "code",
   "execution_count": 47,
   "id": "22102eeb-788a-4538-90de-14a15570ca22",
   "metadata": {},
   "outputs": [
    {
     "data": {
      "text/plain": [
       "batter\n",
       "A Ashish Reddy     280\n",
       "A Badoni           161\n",
       "A Chandila           4\n",
       "A Chopra            53\n",
       "A Choudhary         25\n",
       "                  ... \n",
       "Yash Dayal           0\n",
       "Yashpal Singh       47\n",
       "Younis Khan          3\n",
       "Yuvraj Singh      2754\n",
       "Z Khan             117\n",
       "Name: batsman_run, Length: 605, dtype: int64"
      ]
     },
     "execution_count": 47,
     "metadata": {},
     "output_type": "execute_result"
    }
   ],
   "source": [
    "batter"
   ]
  },
  {
   "cell_type": "code",
   "execution_count": 46,
   "id": "77f28c25-a7af-432e-8f0c-b89806e1cacf",
   "metadata": {},
   "outputs": [
    {
     "data": {
      "text/plain": [
       "batter\n",
       "V Kohli           6634\n",
       "S Dhawan          6244\n",
       "DA Warner         5883\n",
       "RG Sharma         5881\n",
       "SK Raina          5536\n",
       "AB de Villiers    5181\n",
       "CH Gayle          4997\n",
       "MS Dhoni          4978\n",
       "RV Uthappa        4954\n",
       "KD Karthik        4377\n",
       "Name: batsman_run, dtype: int64"
      ]
     },
     "execution_count": 46,
     "metadata": {},
     "output_type": "execute_result"
    }
   ],
   "source": [
    "batter.sort_values(ascending = False).head(10)"
   ]
  },
  {
   "cell_type": "markdown",
   "id": "eb3a0d28-5199-4748-8d68-3f5a136dda6a",
   "metadata": {},
   "source": [
    "#### Q-7 No of players having runs above 3000"
   ]
  },
  {
   "cell_type": "code",
   "execution_count": 61,
   "id": "34f6d802-8d4e-4772-a465-5b6b9831da55",
   "metadata": {},
   "outputs": [
    {
     "data": {
      "text/plain": [
       "20"
      ]
     },
     "execution_count": 61,
     "metadata": {},
     "output_type": "execute_result"
    }
   ],
   "source": [
    "batter[batter.values>3000].size\n",
    "# method 1"
   ]
  },
  {
   "cell_type": "code",
   "execution_count": 63,
   "id": "0a3e40a7-7d1a-4c96-a0a1-c99457bbb296",
   "metadata": {},
   "outputs": [
    {
     "data": {
      "text/plain": [
       "20"
      ]
     },
     "execution_count": 63,
     "metadata": {},
     "output_type": "execute_result"
    }
   ],
   "source": [
    "# method 2\n",
    "batter[batter.values>3000].count().item()"
   ]
  },
  {
   "cell_type": "markdown",
   "id": "a9b8e47f-00de-4728-9437-017300ca273b",
   "metadata": {},
   "source": [
    "#### Q-8 No of players having runs above mean value?"
   ]
  },
  {
   "cell_type": "code",
   "execution_count": 67,
   "id": "6c0fcbb7-19cc-4d5f-91be-7bb04620d762",
   "metadata": {},
   "outputs": [
    {
     "data": {
      "text/plain": [
       "128"
      ]
     },
     "execution_count": 67,
     "metadata": {},
     "output_type": "execute_result"
    }
   ],
   "source": [
    "batter[batter.values > batter.mean()].count().item()"
   ]
  },
  {
   "cell_type": "markdown",
   "id": "81770a4d-6f37-4b0a-86dd-dc3ff144bd88",
   "metadata": {},
   "source": [
    "#### Q-9\n",
    "i. Read `items.csv` making `item_name` as index.\n",
    "\n",
    "ii. Show no of nan values\n",
    "\n",
    "iii. Item price is given in $, so convert it to rupees without currency symbol.\n",
    "\n",
    "iv. Make data type of newly made series as float.\n",
    "\n",
    "v. Fill nan with mean of the series"
   ]
  },
  {
   "cell_type": "code",
   "execution_count": 70,
   "id": "102dd90f-cf31-4d80-81f2-51857c4c16a4",
   "metadata": {},
   "outputs": [
    {
     "data": {
      "text/plain": [
       "item_name\n",
       "Chips and Fresh Tomato Salsa              $2.39 \n",
       "Izze                                      $3.39 \n",
       "Nantucket Nectar                          $3.39 \n",
       "Chips and Tomatillo-Green Chili Salsa     $2.39 \n",
       "Chicken Bowl                             $16.98 \n",
       "                                          ...   \n",
       "Steak Burrito                            $11.75 \n",
       "Steak Burrito                            $11.75 \n",
       "Chicken Salad Bowl                       $11.25 \n",
       "Chicken Salad Bowl                        $8.75 \n",
       "Chicken Salad Bowl                        $8.75 \n",
       "Name: item_price, Length: 4622, dtype: object"
      ]
     },
     "execution_count": 70,
     "metadata": {},
     "output_type": "execute_result"
    }
   ],
   "source": [
    "#i\n",
    "items = pd.read_csv(\"items.csv\", index_col = \"item_name\")[\"item_price\"]\n",
    "items"
   ]
  },
  {
   "cell_type": "code",
   "execution_count": 86,
   "id": "5374cb4e-da89-4e7d-b0ca-6d6eb3c5c4c8",
   "metadata": {},
   "outputs": [
    {
     "data": {
      "text/plain": [
       "0"
      ]
     },
     "execution_count": 86,
     "metadata": {},
     "output_type": "execute_result"
    }
   ],
   "source": [
    "# ii\n",
    "items[items.isnull()].count().item()  # method 1"
   ]
  },
  {
   "cell_type": "code",
   "execution_count": 85,
   "id": "de1ddf73-0043-43dc-b9e3-098fd7802bf1",
   "metadata": {},
   "outputs": [
    {
     "data": {
      "text/plain": [
       "0"
      ]
     },
     "execution_count": 85,
     "metadata": {},
     "output_type": "execute_result"
    }
   ],
   "source": [
    "items[items.values == np.nan].count().item() # method 2"
   ]
  },
  {
   "cell_type": "code",
   "execution_count": 100,
   "id": "76d0bf5f-7073-4019-baa6-4c66a84bdd22",
   "metadata": {},
   "outputs": [
    {
     "data": {
      "text/plain": [
       "item_name\n",
       "Chips and Fresh Tomato Salsa              $2.39 \n",
       "Izze                                      $3.39 \n",
       "Nantucket Nectar                          $3.39 \n",
       "Chips and Tomatillo-Green Chili Salsa     $2.39 \n",
       "Chicken Bowl                             $16.98 \n",
       "                                          ...   \n",
       "Steak Burrito                            $11.75 \n",
       "Steak Burrito                            $11.75 \n",
       "Chicken Salad Bowl                       $11.25 \n",
       "Chicken Salad Bowl                        $8.75 \n",
       "Chicken Salad Bowl                        $8.75 \n",
       "Name: item_price, Length: 4622, dtype: object"
      ]
     },
     "execution_count": 100,
     "metadata": {},
     "output_type": "execute_result"
    }
   ],
   "source": [
    "# iii\n",
    "items.values.apply(lambda x : x)"
   ]
  },
  {
   "cell_type": "code",
   "execution_count": null,
   "id": "22da878b-e77a-45e0-a530-24c8cefdd0d9",
   "metadata": {},
   "outputs": [],
   "source": []
  }
 ],
 "metadata": {
  "kernelspec": {
   "display_name": "Python 3 (ipykernel)",
   "language": "python",
   "name": "python3"
  },
  "language_info": {
   "codemirror_mode": {
    "name": "ipython",
    "version": 3
   },
   "file_extension": ".py",
   "mimetype": "text/x-python",
   "name": "python",
   "nbconvert_exporter": "python",
   "pygments_lexer": "ipython3",
   "version": "3.12.6"
  }
 },
 "nbformat": 4,
 "nbformat_minor": 5
}
